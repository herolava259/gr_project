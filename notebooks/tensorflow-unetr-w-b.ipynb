{
 "cells": [
  {
   "cell_type": "markdown",
   "id": "e54400c9",
   "metadata": {
    "papermill": {
     "duration": 0.011015,
     "end_time": "2022-06-25T00:06:06.044222",
     "exception": false,
     "start_time": "2022-06-25T00:06:06.033207",
     "status": "completed"
    },
    "tags": []
   },
   "source": [
    " # <h1 style='background:#F7B2B0; border:0; color:black'><center>UNETR: Transformers for 3D Medical Image Segmentation</center></h1> "
   ]
  },
  {
   "cell_type": "markdown",
   "id": "4068fcdb",
   "metadata": {
    "papermill": {
     "duration": 0.00901,
     "end_time": "2022-06-25T00:06:06.062841",
     "exception": false,
     "start_time": "2022-06-25T00:06:06.053831",
     "status": "completed"
    },
    "tags": []
   },
   "source": [
    "This notebook is the first ever implementation of the paper in TensorFlow\n",
    "\n",
    "UNETR Paper : https://arxiv.org/pdf/2103.10504.pdf\n",
    "\n",
    "Fully Convolutional neural networks have been used predominantly in medical image segmentation since the past decade. Despite their success, locality of convolutional layers limits their learning capacity of long- range spatial dependencies. Long-range spatial is the rate of decay of statistical dependence of two points with increasing time intervals or spatial distance between the points.UNETR uses a transformer as the encoder to learn sequence representations of the input volume and capture the global multi-scale information, following the “U-shaped” network design for the encoder and decoder. The transformer encoder is directly connected to a decoder via skip connections at different resolutions to compute the final semantic segmentation output.\n",
    "\n",
    "The performance of UNETR has been evaluated on the Multi Atlas Labelling Beyond The Cranial Vault (BTCV) dataset for multiorgan segmentation and the Medical Segmentation Decathlon (MSD) dataset for brain tumour and spleen segmentation tasks. The benchmarks demonstrate new state-of-the-art performance on the BTCV leaderboard. \n",
    "\n",
    "### Introduction\n",
    "\n",
    "<div class=\"alert alert-block alert-info\">  \n",
    "\n",
    "FCNN and “U-shaped” encoder- decoder architecture have achieved state-of-the-art results in medical semantic segmentation tasks. However, their performance in learning long-range dependencies is limited to their localised receptive fields. This leads to sub-optimal segmentation of structures with variable shapes and scales (e.g. brain lesions with different sizes).\n",
    "\n",
    "From the success of transformers in NLP, we know that due to their flexible formulation, they can effectively learn long-range information. \n",
    "The 3D image segmentation task has been reformulated as  a 1D sequence-to-sequence prediction problem and uses a transformer as the encoder to learn contextual information from the embedded input patches. The extracted representations from the transformer encoder are merged with the CNN-based decoder via skip connections at multiple resolutions to predict the segmentation outputs. Instead of using transformers in the decoder, UNETR uses a CNN-based decoder. \n",
    "\n",
    "The effectiveness of UNETR  on 3D CT and MRI segmentation tasks has been validated using Beyond the Cranial Vault (BTCV) and Medical Segmentation Decathlon (MSD) datasets.\n",
    "\n",
    "</div>\n",
    "\n",
    "![](https://i.imgur.com/Pqmf8tN.png)\n",
    "\n",
    "### Related work\n",
    "\n",
    "**CNN-based Segmentation Networks :** \n",
    " CNN has achieved state-of-the-art results on various 2D and 3D medical image segmentation tasks. For volume-wise segmentation, tri-planar architectures are sometimes used to combine three-view slices for each voxel, also known for 2.5D methods. In contrast, 3D approaches directly utilize the full volumetric image represented by a sequence of 2D slices or modalities.  \n",
    "\n",
    "These methods provide pioneer studies of 3D medical image segmentation at multiple levels, which reduces problems in spatial context and low-resolution condition. A limitation of these networks is their poor performance in learning global context and long-range spatial dependencies, which can severely impact the segmentation performance\n",
    "\n",
    "**Vision Transformers :**\n",
    "\n",
    "In computer vision, they demonstrated state-of-the-art performance on image classification datasets by large-scale pre-training and fine-tuning of a pure transformer. Recently, hierarchical vision transformers with varying resolutions and spatial embeddings have been proposed. These methodologies gradually decrease the resolution of features in the transformer layers and utilise sub-sampled attention modules. \n"
   ]
  },
  {
   "cell_type": "code",
   "execution_count": 1,
   "id": "2ed89e5d",
   "metadata": {
    "execution": {
     "iopub.execute_input": "2022-06-25T00:06:06.083534Z",
     "iopub.status.busy": "2022-06-25T00:06:06.083036Z",
     "iopub.status.idle": "2022-06-25T00:06:17.407435Z",
     "shell.execute_reply": "2022-06-25T00:06:17.406474Z"
    },
    "executionInfo": {
     "elapsed": 2352,
     "status": "ok",
     "timestamp": 1655598847076,
     "user": {
      "displayName": "Tensor Girl",
      "userId": "02972928350054045429"
     },
     "user_tz": -330
    },
    "id": "oY8_qJ3KdH4Z",
    "papermill": {
     "duration": 11.337909,
     "end_time": "2022-06-25T00:06:17.410387",
     "exception": false,
     "start_time": "2022-06-25T00:06:06.072478",
     "status": "completed"
    },
    "tags": []
   },
   "outputs": [],
   "source": [
    "\n",
    "import pandas as pd, numpy as np, random,os, shutil\n",
    "import tensorflow as tf\n",
    "import re\n",
    "import math\n",
    "import cv2\n",
    "import matplotlib.pyplot as plt\n",
    "from glob import glob\n",
    "from kaggle_datasets import KaggleDatasets\n",
    "\n",
    "from PIL import Image\n",
    "from tqdm import tqdm\n",
    "import wandb\n",
    "import glob\n",
    "\n",
    "import math\n",
    "import tensorflow as tf\n",
    "import tensorflow.keras.backend as k\n",
    "\n",
    "import os\n",
    "from typing import List, Tuple\n",
    "from pathlib import Path\n",
    "\n",
    "import plotly.express as px\n",
    "import plotly.graph_objects as go\n",
    "from skimage import io\n",
    "from skimage.color import gray2rgb\n",
    "from skimage.transform import resize\n",
    "from rich.jupyter import print"
   ]
  },
  {
   "cell_type": "code",
   "execution_count": 2,
   "id": "bc6e24da",
   "metadata": {
    "_kg_hide-output": true,
    "execution": {
     "iopub.execute_input": "2022-06-25T00:06:17.451866Z",
     "iopub.status.busy": "2022-06-25T00:06:17.451231Z",
     "iopub.status.idle": "2022-06-25T00:06:18.532237Z",
     "shell.execute_reply": "2022-06-25T00:06:18.531345Z"
    },
    "papermill": {
     "duration": 1.106967,
     "end_time": "2022-06-25T00:06:18.534202",
     "exception": false,
     "start_time": "2022-06-25T00:06:17.427235",
     "status": "completed"
    },
    "tags": []
   },
   "outputs": [
    {
     "name": "stderr",
     "output_type": "stream",
     "text": [
      "\u001b[34m\u001b[1mwandb\u001b[0m: W&B API key is configured. Use \u001b[1m`wandb login --relogin`\u001b[0m to force relogin\n",
      "\u001b[34m\u001b[1mwandb\u001b[0m: \u001b[33mWARNING\u001b[0m If you're specifying your api key in code, ensure this code is not shared publicly.\n",
      "\u001b[34m\u001b[1mwandb\u001b[0m: \u001b[33mWARNING\u001b[0m Consider setting the WANDB_API_KEY environment variable, or running `wandb login` from the command line.\n",
      "\u001b[34m\u001b[1mwandb\u001b[0m: Appending key for api.wandb.ai to your netrc file: /root/.netrc\n"
     ]
    },
    {
     "data": {
      "text/plain": [
       "True"
      ]
     },
     "execution_count": 2,
     "metadata": {},
     "output_type": "execute_result"
    }
   ],
   "source": [
    "from kaggle_secrets import UserSecretsClient\n",
    "user_secrets = UserSecretsClient()\n",
    "wandb_key = user_secrets.get_secret(\"api_key\")\n",
    "wandb.login(key = wandb_key)"
   ]
  },
  {
   "cell_type": "markdown",
   "id": "40668d55",
   "metadata": {
    "papermill": {
     "duration": 0.009523,
     "end_time": "2022-06-25T00:06:18.553999",
     "exception": false,
     "start_time": "2022-06-25T00:06:18.544476",
     "status": "completed"
    },
    "tags": []
   },
   "source": [
    "# **<span style=\"color:#F7B2B0;\">Data Preprocessing</span>**"
   ]
  },
  {
   "cell_type": "code",
   "execution_count": 3,
   "id": "9b71e830",
   "metadata": {
    "execution": {
     "iopub.execute_input": "2022-06-25T00:06:18.575073Z",
     "iopub.status.busy": "2022-06-25T00:06:18.574772Z",
     "iopub.status.idle": "2022-06-25T00:08:42.381323Z",
     "shell.execute_reply": "2022-06-25T00:08:42.380459Z"
    },
    "papermill": {
     "duration": 143.820096,
     "end_time": "2022-06-25T00:08:42.384158",
     "exception": false,
     "start_time": "2022-06-25T00:06:18.564062",
     "status": "completed"
    },
    "tags": []
   },
   "outputs": [
    {
     "name": "stderr",
     "output_type": "stream",
     "text": [
      "38496it [02:10, 295.03it/s]\n"
     ]
    }
   ],
   "source": [
    "# Code copied from https://www.kaggle.com/code/ayuraj/quick-data-eda-segmentation-viz-using-w-b\n",
    "\n",
    "ROOT_DIR = '../input/uw-madison-gi-tract-image-segmentation/'\n",
    "df = pd.read_csv(ROOT_DIR+'train.csv')\n",
    "# Remove rows with NaN Segmentation masks\n",
    "df = df[df.segmentation.notna()].reset_index(drop=False)\n",
    "def get_case_str(row):\n",
    "    case_num = row.id.split('_')[0]\n",
    "    return case_num\n",
    "\n",
    "def get_case_id(row):\n",
    "    case_num = row.id.split('_')[0]\n",
    "    return int(case_num[4:])\n",
    "\n",
    "df['case_str'] = df.apply(lambda row: get_case_str(row), axis=1)\n",
    "df['case_id'] = df.apply(lambda row: get_case_id(row), axis=1)\n",
    "\n",
    "def get_day_str(row):\n",
    "    return row.id.split('_')[1]\n",
    "\n",
    "def get_day_id(row):\n",
    "    return int(row.id.split('_')[1][3:])\n",
    "\n",
    "df['day_str'] = df.apply(lambda row: get_day_str(row), axis=1)\n",
    "df['day_id'] = df.apply(lambda row: get_day_id(row), axis=1)\n",
    "\n",
    "def get_slice_str(row):\n",
    "    slice_id = row.id.split('_')[-1]\n",
    "    return f'slice_{slice_id}'\n",
    "\n",
    "df['slice_str'] = df.apply(lambda row: get_slice_str(row), axis=1)\n",
    "filepaths = glob.glob(ROOT_DIR+'train/*/*/*/*')\n",
    "\n",
    "\n",
    "file_df = pd.DataFrame(columns=['case_str', 'day_str', 'slice_str', 'filename', 'filepath'])\n",
    "for idx, filepath in tqdm(enumerate(filepaths)):\n",
    "    case_day_str = filepath.split('/')[5]\n",
    "    case_str, day_str = case_day_str.split('_')\n",
    "\n",
    "    filename = filepath.split('/')[-1]\n",
    "    slice_id = filename.split('_')[1]\n",
    "    slice_str = f'slice_{slice_id}'\n",
    "    \n",
    "    file_df.loc[idx] = [case_str, day_str, slice_str, filename, filepath]\n",
    "\n",
    "df = pd.merge(df, file_df, on=['case_str', 'day_str', 'slice_str'])\n",
    "\n",
    "def get_image_height(row):\n",
    "    return int(row.filename[:-4].split('_')[2])\n",
    "    \n",
    "def get_image_width(row):\n",
    "    return int(row.filename[:-4].split('_')[3])\n",
    "\n",
    "def get_pixel_height(row):\n",
    "    return float(row.filename[:-4].split('_')[4])\n",
    "\n",
    "def get_pixel_width(row):\n",
    "    return float(row.filename[:-4].split('_')[5])\n",
    "\n",
    "df['img_height'] = df.apply(lambda row: get_image_height(row), axis=1)\n",
    "df['img_width'] = df.apply(lambda row: get_image_width(row), axis=1)\n",
    "df['pixel_height (mm)'] = df.apply(lambda row: get_pixel_height(row), axis=1)\n",
    "df['pixel_width (mm)'] = df.apply(lambda row: get_pixel_width(row), axis=1)\n",
    "\n",
    "df.drop('index', axis=1, inplace=True)\n",
    "\n",
    "by_case = df.groupby('case_str')\n",
    "case_df = by_case.get_group('case123')\n",
    "\n",
    "by_day = case_df.groupby('day_str')\n",
    "day_df = by_day.get_group('day0')\n",
    "\n",
    "by_slice = day_df.groupby('slice_str')\n",
    "slice_df = by_slice.get_group('slice_0075')\n",
    "\n",
    "# saving the dataframe\n",
    "df.to_csv('df.csv')\n",
    "# saving the dataframe\n",
    "slice_df.to_csv('slice_df.csv')"
   ]
  },
  {
   "cell_type": "markdown",
   "id": "8da7b58d",
   "metadata": {
    "papermill": {
     "duration": 0.081656,
     "end_time": "2022-06-25T00:08:42.549515",
     "exception": false,
     "start_time": "2022-06-25T00:08:42.467859",
     "status": "completed"
    },
    "tags": []
   },
   "source": [
    "# **<span style=\"color:#F7B2B0;\">W & B Artifacts</span>**\n",
    "\n",
    "An artifact as a versioned folder of data.Entire datasets can be directly stored as artifacts .\n",
    "\n",
    "W&B Artifacts are used for dataset versioning, model versioning . They are also used for tracking dependencies and results across machine learning pipelines.Artifact references can be used to point to data in other systems like S3, GCP, or your own system.\n",
    "\n",
    "You can learn more about W&B artifacts [here](https://docs.wandb.ai/guides/artifacts)\n",
    "\n",
    "![](https://drive.google.com/uc?id=1JYSaIMXuEVBheP15xxuaex-32yzxgglV)"
   ]
  },
  {
   "cell_type": "code",
   "execution_count": 4,
   "id": "3dfcc29b",
   "metadata": {
    "_kg_hide-output": true,
    "execution": {
     "iopub.execute_input": "2022-06-25T00:08:42.713845Z",
     "iopub.status.busy": "2022-06-25T00:08:42.713448Z",
     "iopub.status.idle": "2022-06-25T00:08:50.643627Z",
     "shell.execute_reply": "2022-06-25T00:08:50.642706Z"
    },
    "papermill": {
     "duration": 8.014623,
     "end_time": "2022-06-25T00:08:50.645813",
     "exception": false,
     "start_time": "2022-06-25T00:08:42.631190",
     "status": "completed"
    },
    "tags": []
   },
   "outputs": [
    {
     "name": "stderr",
     "output_type": "stream",
     "text": [
      "\u001b[34m\u001b[1mwandb\u001b[0m: Currently logged in as: \u001b[33musharengaraju\u001b[0m. Use \u001b[1m`wandb login --relogin`\u001b[0m to force relogin\n"
     ]
    },
    {
     "data": {
      "text/html": [
       "wandb version 0.12.19 is available!  To upgrade, please run:\n",
       " $ pip install wandb --upgrade"
      ],
      "text/plain": [
       "<IPython.core.display.HTML object>"
      ]
     },
     "metadata": {},
     "output_type": "display_data"
    },
    {
     "data": {
      "text/html": [
       "Tracking run with wandb version 0.12.16"
      ],
      "text/plain": [
       "<IPython.core.display.HTML object>"
      ]
     },
     "metadata": {},
     "output_type": "display_data"
    },
    {
     "data": {
      "text/html": [
       "Run data is saved locally in <code>/kaggle/working/wandb/run-20220625_000842-20wwyu51</code>"
      ],
      "text/plain": [
       "<IPython.core.display.HTML object>"
      ]
     },
     "metadata": {},
     "output_type": "display_data"
    },
    {
     "data": {
      "text/html": [
       "Syncing run <strong><a href=\"https://wandb.ai/usharengaraju/UW-Madison-Viz/runs/20wwyu51\" target=\"_blank\">processed_data</a></strong> to <a href=\"https://wandb.ai/usharengaraju/UW-Madison-Viz\" target=\"_blank\">Weights & Biases</a> (<a href=\"https://wandb.me/run\" target=\"_blank\">docs</a>)<br/>"
      ],
      "text/plain": [
       "<IPython.core.display.HTML object>"
      ]
     },
     "metadata": {},
     "output_type": "display_data"
    },
    {
     "data": {
      "text/html": [
       "Waiting for W&B process to finish... <strong style=\"color:green\">(success).</strong>"
      ],
      "text/plain": [
       "<IPython.core.display.HTML object>"
      ]
     },
     "metadata": {},
     "output_type": "display_data"
    },
    {
     "data": {
      "application/vnd.jupyter.widget-view+json": {
       "model_id": "b599f0082f8941768e795947dc1dc033",
       "version_major": 2,
       "version_minor": 0
      },
      "text/plain": [
       "VBox(children=(Label(value='0.000 MB of 0.000 MB uploaded (0.000 MB deduped)\\r'), FloatProgress(value=1.0, max…"
      ]
     },
     "metadata": {},
     "output_type": "display_data"
    },
    {
     "data": {
      "text/html": [
       "Synced <strong style=\"color:#cdcd00\">processed_data</strong>: <a href=\"https://wandb.ai/usharengaraju/UW-Madison-Viz/runs/20wwyu51\" target=\"_blank\">https://wandb.ai/usharengaraju/UW-Madison-Viz/runs/20wwyu51</a><br/>Synced 4 W&B file(s), 0 media file(s), 0 artifact file(s) and 0 other file(s)"
      ],
      "text/plain": [
       "<IPython.core.display.HTML object>"
      ]
     },
     "metadata": {},
     "output_type": "display_data"
    },
    {
     "data": {
      "text/html": [
       "Find logs at: <code>./wandb/run-20220625_000842-20wwyu51/logs</code>"
      ],
      "text/plain": [
       "<IPython.core.display.HTML object>"
      ]
     },
     "metadata": {},
     "output_type": "display_data"
    }
   ],
   "source": [
    "# Save training data to W&B Artifacts\n",
    "run = wandb.init(project='UW-Madison-Viz', name='processed_data') \n",
    "artifact = wandb.Artifact(name='processed_data',type='dataset')\n",
    "artifact.add_file(\"./df.csv\")\n",
    "artifact.add_file(\"./slice_df.csv\")\n",
    "wandb.log_artifact(artifact)\n",
    "wandb.finish()"
   ]
  },
  {
   "cell_type": "markdown",
   "id": "173f024c",
   "metadata": {
    "papermill": {
     "duration": 0.082562,
     "end_time": "2022-06-25T00:08:50.811137",
     "exception": false,
     "start_time": "2022-06-25T00:08:50.728575",
     "status": "completed"
    },
    "tags": []
   },
   "source": [
    "![](https://i.imgur.com/cYkCWRg.png)"
   ]
  },
  {
   "cell_type": "markdown",
   "id": "1bede4d3",
   "metadata": {
    "papermill": {
     "duration": 0.086738,
     "end_time": "2022-06-25T00:08:50.981637",
     "exception": false,
     "start_time": "2022-06-25T00:08:50.894899",
     "status": "completed"
    },
    "tags": []
   },
   "source": [
    "# **<span style=\"color:#F7B2B0;\">Visualizing Random Samples</span>**"
   ]
  },
  {
   "cell_type": "code",
   "execution_count": 5,
   "id": "64123440",
   "metadata": {
    "execution": {
     "iopub.execute_input": "2022-06-25T00:08:51.148893Z",
     "iopub.status.busy": "2022-06-25T00:08:51.148540Z",
     "iopub.status.idle": "2022-06-25T00:08:52.907828Z",
     "shell.execute_reply": "2022-06-25T00:08:52.907078Z"
    },
    "papermill": {
     "duration": 1.846497,
     "end_time": "2022-06-25T00:08:52.910957",
     "exception": false,
     "start_time": "2022-06-25T00:08:51.064460",
     "status": "completed"
    },
    "tags": []
   },
   "outputs": [
    {
     "data": {
      "text/html": [
       "        <script type=\"text/javascript\">\n",
       "        window.PlotlyConfig = {MathJaxConfig: 'local'};\n",
       "        if (window.MathJax && window.MathJax.Hub && window.MathJax.Hub.Config) {window.MathJax.Hub.Config({SVG: {font: \"STIX-Web\"}});}\n",
       "        if (typeof require !== 'undefined') {\n",
       "        require.undef(\"plotly\");\n",
       "        requirejs.config({\n",
       "            paths: {\n",
       "                'plotly': ['https://cdn.plot.ly/plotly-2.12.1.min']\n",
       "            }\n",
       "        });\n",
       "        require(['plotly'], function(Plotly) {\n",
       "            window._Plotly = Plotly;\n",
       "        });\n",
       "        }\n",
       "        </script>\n",
       "        "
      ]
     },
     "metadata": {},
     "output_type": "display_data"
    },
    {
     "data": {
      "text/html": [
       "<div>                            <div id=\"fd3dbb17-5de9-4ce6-9de1-af801d216020\" class=\"plotly-graph-div\" style=\"height:400px; width:1200px;\"></div>            <script type=\"text/javascript\">                require([\"plotly\"], function(Plotly) {                    window.PLOTLYENV=window.PLOTLYENV || {};                                    if (document.getElementById(\"fd3dbb17-5de9-4ce6-9de1-af801d216020\")) {                    Plotly.newPlot(                        \"fd3dbb17-5de9-4ce6-9de1-af801d216020\",                        [{\"name\":\"0\",\"source\":\"data:image/png;base64,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\",\"type\":\"image\",\"xaxis\":\"x\",\"yaxis\":\"y\",\"hovertemplate\":\"x: %{x}<br>y: %{y}<extra></extra>\"},{\"name\":\"1\",\"source\":\"data:image/png;base64,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\",\"type\":\"image\",\"xaxis\":\"x2\",\"yaxis\":\"y2\",\"hovertemplate\":\"x: %{x}<br>y: %{y}<extra></extra>\"},{\"name\":\"2\",\"source\":\"data:image/png;base64,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\",\"type\":\"image\",\"xaxis\":\"x3\",\"yaxis\":\"y3\",\"hovertemplate\":\"x: %{x}<br>y: %{y}<extra></extra>\"},{\"name\":\"3\",\"source\":\"data:image/png;base64,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\",\"type\":\"image\",\"xaxis\":\"x4\",\"yaxis\":\"y4\",\"hovertemplate\":\"x: %{x}<br>y: %{y}<extra></extra>\"},{\"name\":\"4\",\"source\":\"data:image/png;base64,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\",\"type\":\"image\",\"xaxis\":\"x5\",\"yaxis\":\"y5\",\"hovertemplate\":\"x: %{x}<br>y: %{y}<extra></extra>\"}],                        {\"template\":{\"data\":{\"histogram2dcontour\":[{\"type\":\"histogram2dcontour\",\"colorbar\":{\"outlinewidth\":0,\"ticks\":\"\"},\"colorscale\":[[0.0,\"#0d0887\"],[0.1111111111111111,\"#46039f\"],[0.2222222222222222,\"#7201a8\"],[0.3333333333333333,\"#9c179e\"],[0.4444444444444444,\"#bd3786\"],[0.5555555555555556,\"#d8576b\"],[0.6666666666666666,\"#ed7953\"],[0.7777777777777778,\"#fb9f3a\"],[0.8888888888888888,\"#fdca26\"],[1.0,\"#f0f921\"]]}],\"choropleth\":[{\"type\":\"choropleth\",\"colorbar\":{\"outlinewidth\":0,\"ticks\":\"\"}}],\"histogram2d\":[{\"type\":\"histogram2d\",\"colorbar\":{\"outlinewidth\":0,\"ticks\":\"\"},\"colorscale\":[[0.0,\"#0d0887\"],[0.1111111111111111,\"#46039f\"],[0.2222222222222222,\"#7201a8\"],[0.3333333333333333,\"#9c179e\"],[0.4444444444444444,\"#bd3786\"],[0.5555555555555556,\"#d8576b\"],[0.6666666666666666,\"#ed7953\"],[0.7777777777777778,\"#fb9f3a\"],[0.8888888888888888,\"#fdca26\"],[1.0,\"#f0f921\"]]}],\"heatmap\":[{\"type\":\"heatmap\",\"colorbar\":{\"outlinewidth\":0,\"ticks\":\"\"},\"colorscale\":[[0.0,\"#0d0887\"],[0.1111111111111111,\"#46039f\"],[0.2222222222222222,\"#7201a8\"],[0.3333333333333333,\"#9c179e\"],[0.4444444444444444,\"#bd3786\"],[0.5555555555555556,\"#d8576b\"],[0.6666666666666666,\"#ed7953\"],[0.7777777777777778,\"#fb9f3a\"],[0.8888888888888888,\"#fdca26\"],[1.0,\"#f0f921\"]]}],\"heatmapgl\":[{\"type\":\"heatmapgl\",\"colorbar\":{\"outlinewidth\":0,\"ticks\":\"\"},\"colorscale\":[[0.0,\"#0d0887\"],[0.1111111111111111,\"#46039f\"],[0.2222222222222222,\"#7201a8\"],[0.3333333333333333,\"#9c179e\"],[0.4444444444444444,\"#bd3786\"],[0.5555555555555556,\"#d8576b\"],[0.6666666666666666,\"#ed7953\"],[0.7777777777777778,\"#fb9f3a\"],[0.8888888888888888,\"#fdca26\"],[1.0,\"#f0f921\"]]}],\"contourcarpet\":[{\"type\":\"contourcarpet\",\"colorbar\":{\"outlinewidth\":0,\"ticks\":\"\"}}],\"contour\":[{\"type\":\"contour\",\"colorbar\":{\"outlinewidth\":0,\"ticks\":\"\"},\"colorscale\":[[0.0,\"#0d0887\"],[0.1111111111111111,\"#46039f\"],[0.2222222222222222,\"#7201a8\"],[0.3333333333333333,\"#9c179e\"],[0.4444444444444444,\"#bd3786\"],[0.5555555555555556,\"#d8576b\"],[0.6666666666666666,\"#ed7953\"],[0.7777777777777778,\"#fb9f3a\"],[0.8888888888888888,\"#fdca26\"],[1.0,\"#f0f921\"]]}],\"surface\":[{\"type\":\"surface\",\"colorbar\":{\"outlinewidth\":0,\"ticks\":\"\"},\"colorscale\":[[0.0,\"#0d0887\"],[0.1111111111111111,\"#46039f\"],[0.2222222222222222,\"#7201a8\"],[0.3333333333333333,\"#9c179e\"],[0.4444444444444444,\"#bd3786\"],[0.5555555555555556,\"#d8576b\"],[0.6666666666666666,\"#ed7953\"],[0.7777777777777778,\"#fb9f3a\"],[0.8888888888888888,\"#fdca26\"],[1.0,\"#f0f921\"]]}],\"mesh3d\":[{\"type\":\"mesh3d\",\"colorbar\":{\"outlinewidth\":0,\"ticks\":\"\"}}],\"scatter\":[{\"fillpattern\":{\"fillmode\":\"overlay\",\"size\":10,\"solidity\":0.2},\"type\":\"scatter\"}],\"parcoords\":[{\"type\":\"parcoords\",\"line\":{\"colorbar\":{\"outlinewidth\":0,\"ticks\":\"\"}}}],\"scatterpolargl\":[{\"type\":\"scatterpolargl\",\"marker\":{\"colorbar\":{\"outlinewidth\":0,\"ticks\":\"\"}}}],\"bar\":[{\"error_x\":{\"color\":\"#2a3f5f\"},\"error_y\":{\"color\":\"#2a3f5f\"},\"marker\":{\"line\":{\"color\":\"#E5ECF6\",\"width\":0.5},\"pattern\":{\"fillmode\":\"overlay\",\"size\":10,\"solidity\":0.2}},\"type\":\"bar\"}],\"scattergeo\":[{\"type\":\"scattergeo\",\"marker\":{\"colorbar\":{\"outlinewidth\":0,\"ticks\":\"\"}}}],\"scatterpolar\":[{\"type\":\"scatterpolar\",\"marker\":{\"colorbar\":{\"outlinewidth\":0,\"ticks\":\"\"}}}],\"histogram\":[{\"marker\":{\"pattern\":{\"fillmode\":\"overlay\",\"size\":10,\"solidity\":0.2}},\"type\":\"histogram\"}],\"scattergl\":[{\"type\":\"scattergl\",\"marker\":{\"colorbar\":{\"outlinewidth\":0,\"ticks\":\"\"}}}],\"scatter3d\":[{\"type\":\"scatter3d\",\"line\":{\"colorbar\":{\"outlinewidth\":0,\"ticks\":\"\"}},\"marker\":{\"colorbar\":{\"outlinewidth\":0,\"ticks\":\"\"}}}],\"scattermapbox\":[{\"type\":\"scattermapbox\",\"marker\":{\"colorbar\":{\"outlinewidth\":0,\"ticks\":\"\"}}}],\"scatterternary\":[{\"type\":\"scatterternary\",\"marker\":{\"colorbar\":{\"outlinewidth\":0,\"ticks\":\"\"}}}],\"scattercarpet\":[{\"type\":\"scattercarpet\",\"marker\":{\"colorbar\":{\"outlinewidth\":0,\"ticks\":\"\"}}}],\"carpet\":[{\"aaxis\":{\"endlinecolor\":\"#2a3f5f\",\"gridcolor\":\"white\",\"linecolor\":\"white\",\"minorgridcolor\":\"white\",\"startlinecolor\":\"#2a3f5f\"},\"baxis\":{\"endlinecolor\":\"#2a3f5f\",\"gridcolor\":\"white\",\"linecolor\":\"white\",\"minorgridcolor\":\"white\",\"startlinecolor\":\"#2a3f5f\"},\"type\":\"carpet\"}],\"table\":[{\"cells\":{\"fill\":{\"color\":\"#EBF0F8\"},\"line\":{\"color\":\"white\"}},\"header\":{\"fill\":{\"color\":\"#C8D4E3\"},\"line\":{\"color\":\"white\"}},\"type\":\"table\"}],\"barpolar\":[{\"marker\":{\"line\":{\"color\":\"#E5ECF6\",\"width\":0.5},\"pattern\":{\"fillmode\":\"overlay\",\"size\":10,\"solidity\":0.2}},\"type\":\"barpolar\"}],\"pie\":[{\"automargin\":true,\"type\":\"pie\"}]},\"layout\":{\"autotypenumbers\":\"strict\",\"colorway\":[\"#636efa\",\"#EF553B\",\"#00cc96\",\"#ab63fa\",\"#FFA15A\",\"#19d3f3\",\"#FF6692\",\"#B6E880\",\"#FF97FF\",\"#FECB52\"],\"font\":{\"color\":\"#2a3f5f\"},\"hovermode\":\"closest\",\"hoverlabel\":{\"align\":\"left\"},\"paper_bgcolor\":\"white\",\"plot_bgcolor\":\"#E5ECF6\",\"polar\":{\"bgcolor\":\"#E5ECF6\",\"angularaxis\":{\"gridcolor\":\"white\",\"linecolor\":\"white\",\"ticks\":\"\"},\"radialaxis\":{\"gridcolor\":\"white\",\"linecolor\":\"white\",\"ticks\":\"\"}},\"ternary\":{\"bgcolor\":\"#E5ECF6\",\"aaxis\":{\"gridcolor\":\"white\",\"linecolor\":\"white\",\"ticks\":\"\"},\"baxis\":{\"gridcolor\":\"white\",\"linecolor\":\"white\",\"ticks\":\"\"},\"caxis\":{\"gridcolor\":\"white\",\"linecolor\":\"white\",\"ticks\":\"\"}},\"coloraxis\":{\"colorbar\":{\"outlinewidth\":0,\"ticks\":\"\"}},\"colorscale\":{\"sequential\":[[0.0,\"#0d0887\"],[0.1111111111111111,\"#46039f\"],[0.2222222222222222,\"#7201a8\"],[0.3333333333333333,\"#9c179e\"],[0.4444444444444444,\"#bd3786\"],[0.5555555555555556,\"#d8576b\"],[0.6666666666666666,\"#ed7953\"],[0.7777777777777778,\"#fb9f3a\"],[0.8888888888888888,\"#fdca26\"],[1.0,\"#f0f921\"]],\"sequentialminus\":[[0.0,\"#0d0887\"],[0.1111111111111111,\"#46039f\"],[0.2222222222222222,\"#7201a8\"],[0.3333333333333333,\"#9c179e\"],[0.4444444444444444,\"#bd3786\"],[0.5555555555555556,\"#d8576b\"],[0.6666666666666666,\"#ed7953\"],[0.7777777777777778,\"#fb9f3a\"],[0.8888888888888888,\"#fdca26\"],[1.0,\"#f0f921\"]],\"diverging\":[[0,\"#8e0152\"],[0.1,\"#c51b7d\"],[0.2,\"#de77ae\"],[0.3,\"#f1b6da\"],[0.4,\"#fde0ef\"],[0.5,\"#f7f7f7\"],[0.6,\"#e6f5d0\"],[0.7,\"#b8e186\"],[0.8,\"#7fbc41\"],[0.9,\"#4d9221\"],[1,\"#276419\"]]},\"xaxis\":{\"gridcolor\":\"white\",\"linecolor\":\"white\",\"ticks\":\"\",\"title\":{\"standoff\":15},\"zerolinecolor\":\"white\",\"automargin\":true,\"zerolinewidth\":2},\"yaxis\":{\"gridcolor\":\"white\",\"linecolor\":\"white\",\"ticks\":\"\",\"title\":{\"standoff\":15},\"zerolinecolor\":\"white\",\"automargin\":true,\"zerolinewidth\":2},\"scene\":{\"xaxis\":{\"backgroundcolor\":\"#E5ECF6\",\"gridcolor\":\"white\",\"linecolor\":\"white\",\"showbackground\":true,\"ticks\":\"\",\"zerolinecolor\":\"white\",\"gridwidth\":2},\"yaxis\":{\"backgroundcolor\":\"#E5ECF6\",\"gridcolor\":\"white\",\"linecolor\":\"white\",\"showbackground\":true,\"ticks\":\"\",\"zerolinecolor\":\"white\",\"gridwidth\":2},\"zaxis\":{\"backgroundcolor\":\"#E5ECF6\",\"gridcolor\":\"white\",\"linecolor\":\"white\",\"showbackground\":true,\"ticks\":\"\",\"zerolinecolor\":\"white\",\"gridwidth\":2}},\"shapedefaults\":{\"line\":{\"color\":\"#2a3f5f\"}},\"annotationdefaults\":{\"arrowcolor\":\"#2a3f5f\",\"arrowhead\":0,\"arrowwidth\":1},\"geo\":{\"bgcolor\":\"white\",\"landcolor\":\"#E5ECF6\",\"subunitcolor\":\"white\",\"showland\":true,\"showlakes\":true,\"lakecolor\":\"white\"},\"title\":{\"x\":0.05},\"mapbox\":{\"style\":\"light\"}}},\"xaxis\":{\"anchor\":\"y\",\"domain\":[0.0,0.18400000000000002],\"showticklabels\":false},\"yaxis\":{\"anchor\":\"x\",\"domain\":[0.0,1.0],\"showticklabels\":false},\"xaxis2\":{\"anchor\":\"y2\",\"domain\":[0.20400000000000001,0.388],\"matches\":\"x\",\"showticklabels\":false},\"yaxis2\":{\"anchor\":\"x2\",\"domain\":[0.0,1.0],\"matches\":\"y\",\"showticklabels\":false},\"xaxis3\":{\"anchor\":\"y3\",\"domain\":[0.40800000000000003,0.5920000000000001],\"matches\":\"x\",\"showticklabels\":false},\"yaxis3\":{\"anchor\":\"x3\",\"domain\":[0.0,1.0],\"matches\":\"y\",\"showticklabels\":false},\"xaxis4\":{\"anchor\":\"y4\",\"domain\":[0.6120000000000001,0.7960000000000002],\"matches\":\"x\",\"showticklabels\":false},\"yaxis4\":{\"anchor\":\"x4\",\"domain\":[0.0,1.0],\"matches\":\"y\",\"showticklabels\":false},\"xaxis5\":{\"anchor\":\"y5\",\"domain\":[0.8160000000000001,1.0],\"matches\":\"x\",\"showticklabels\":false},\"yaxis5\":{\"anchor\":\"x5\",\"domain\":[0.0,1.0],\"matches\":\"y\",\"showticklabels\":false},\"annotations\":[{\"font\":{},\"showarrow\":false,\"text\":\"case135_day0_slice_0064\",\"x\":0.09200000000000001,\"xanchor\":\"center\",\"xref\":\"paper\",\"y\":1.0,\"yanchor\":\"bottom\",\"yref\":\"paper\"},{\"font\":{},\"showarrow\":false,\"text\":\"case108_day13_slice_0087\",\"x\":0.29600000000000004,\"xanchor\":\"center\",\"xref\":\"paper\",\"y\":1.0,\"yanchor\":\"bottom\",\"yref\":\"paper\"},{\"font\":{},\"showarrow\":false,\"text\":\"case36_day8_slice_0087\",\"x\":0.5,\"xanchor\":\"center\",\"xref\":\"paper\",\"y\":1.0,\"yanchor\":\"bottom\",\"yref\":\"paper\"},{\"font\":{},\"showarrow\":false,\"text\":\"case149_day15_slice_0097\",\"x\":0.7040000000000002,\"xanchor\":\"center\",\"xref\":\"paper\",\"y\":1.0,\"yanchor\":\"bottom\",\"yref\":\"paper\"},{\"font\":{},\"showarrow\":false,\"text\":\"case11_day13_slice_0015\",\"x\":0.908,\"xanchor\":\"center\",\"xref\":\"paper\",\"y\":1.0,\"yanchor\":\"bottom\",\"yref\":\"paper\"}],\"margin\":{\"t\":140,\"l\":40,\"r\":0,\"b\":80},\"title\":{\"text\":\"Random Samples\"},\"autosize\":true,\"hovermode\":false,\"height\":400,\"width\":1200},                        {\"responsive\": true}                    ).then(function(){\n",
       "                            \n",
       "var gd = document.getElementById('fd3dbb17-5de9-4ce6-9de1-af801d216020');\n",
       "var x = new MutationObserver(function (mutations, observer) {{\n",
       "        var display = window.getComputedStyle(gd).display;\n",
       "        if (!display || display === 'none') {{\n",
       "            console.log([gd, 'removed!']);\n",
       "            Plotly.purge(gd);\n",
       "            observer.disconnect();\n",
       "        }}\n",
       "}});\n",
       "\n",
       "// Listen for the removal of the full notebook cells\n",
       "var notebookContainer = gd.closest('#notebook-container');\n",
       "if (notebookContainer) {{\n",
       "    x.observe(notebookContainer, {childList: true});\n",
       "}}\n",
       "\n",
       "// Listen for the clearing of the current output cell\n",
       "var outputEl = gd.closest('.output');\n",
       "if (outputEl) {{\n",
       "    x.observe(outputEl, {childList: true});\n",
       "}}\n",
       "\n",
       "                        })                };                });            </script>        </div>"
      ]
     },
     "metadata": {},
     "output_type": "display_data"
    }
   ],
   "source": [
    "# Code copied from https://www.kaggle.com/code/bsridatta/eda-for-a-healthy-gi-tract\n",
    "\n",
    "# load flattened metadata\n",
    "train_df = pd.read_csv(\"/kaggle/input/uwmadison-flattened-metadata/train_flat.csv\")\n",
    "train_path = Path(\"/kaggle/input/uw-madison-gi-tract-image-segmentation/train/\")\n",
    "\n",
    "def get_image_array(file_paths: List[str], \n",
    "                    image_folder:str=\"/kaggle/input/uw-madison-gi-tract-image-segmentation/train/\", \n",
    "                    shape: Tuple=(300,300)\n",
    "                   ) -> np.array:\n",
    "    \"\"\"read all images as a single array for plotly.\"\"\"\n",
    "    read_img = lambda file: io.imread(f\"{image_folder}/{file}\")\n",
    "    images = []\n",
    "    empty = 0\n",
    "    for x in file_paths:\n",
    "        img = read_img(x)\n",
    "        images.append(resize(img, shape))\n",
    "        if not img.any():\n",
    "            empty += 1\n",
    "    # print(f\"{empty} images are blank\")\n",
    "    return np.asarray(images)\n",
    "\n",
    "def parse_paths(ids: List[str], image_files: List[str]) -> List[str]:\n",
    "    paths = []\n",
    "    for id, file in zip(ids, image_files):\n",
    "        splits = id.split(\"_\")\n",
    "        paths.append(f\"{splits[0]}/{splits[0]}_{splits[1]}/scans/{file}\")\n",
    "    return paths\n",
    "\n",
    "save_path = Path(\"/kaggle/working/\")\n",
    "\n",
    "samples = train_df[['id', 'image_file']].sample(5, random_state=400)\n",
    "sample_paths = parse_paths(samples.id.values, samples.image_file.values)\n",
    "sample_images = get_image_array(sample_paths)\n",
    "\n",
    "# plot image grid\n",
    "fig = px.imshow(sample_images, facet_col=0, binary_string=True, facet_row_spacing=0.0, facet_col_spacing=0)\n",
    "fig.update_xaxes(showticklabels=False).update_yaxes(showticklabels=False)\n",
    "\n",
    "# add species name and individual_id\n",
    "for i, a in enumerate(fig.layout.annotations):\n",
    "    a.text = samples.iloc[i].id\n",
    "fig.update_layout(title=f\"Random Samples\", autosize=True, hovermode=False, height=400, width=1200, margin=dict(l=40, r=0, t=140, b=80))\n",
    "fig.show()"
   ]
  },
  {
   "cell_type": "markdown",
   "id": "c90476a3",
   "metadata": {
    "papermill": {
     "duration": 0.087252,
     "end_time": "2022-06-25T00:08:53.086780",
     "exception": false,
     "start_time": "2022-06-25T00:08:52.999528",
     "status": "completed"
    },
    "tags": []
   },
   "source": [
    "# **<span style=\"color:#F7B2B0;\">Visualize Segmentation Masks using W&B</span>**\n"
   ]
  },
  {
   "cell_type": "code",
   "execution_count": 6,
   "id": "7153925e",
   "metadata": {
    "execution": {
     "iopub.execute_input": "2022-06-25T00:08:53.259578Z",
     "iopub.status.busy": "2022-06-25T00:08:53.259194Z",
     "iopub.status.idle": "2022-06-25T00:08:53.304019Z",
     "shell.execute_reply": "2022-06-25T00:08:53.303273Z"
    },
    "papermill": {
     "duration": 0.133193,
     "end_time": "2022-06-25T00:08:53.306004",
     "exception": false,
     "start_time": "2022-06-25T00:08:53.172811",
     "status": "completed"
    },
    "tags": []
   },
   "outputs": [],
   "source": [
    "filepath = slice_df.filepath.values[0]\n",
    "image = cv2.imread(filepath, cv2.IMREAD_UNCHANGED)\n",
    "\n",
    "def rle2mask(rles, class_names, height, width, class_dict):\n",
    "    img = np.zeros(height*width, dtype=np.uint16)\n",
    "    for rle, class_name in zip(rles, class_names):\n",
    "        s = rle.split(' ')\n",
    "        starts, lengths = [np.asarray(x, dtype=int) for x in (s[0:][::2], s[1:][::2])]\n",
    "        starts -= 1\n",
    "        ends = starts + lengths\n",
    "        for lo, hi in zip(starts, ends):\n",
    "            img[lo:hi] = class_dict[class_name]\n",
    "        \n",
    "    mask = img.reshape((width, height))\n",
    "    return mask\n",
    "\n",
    "class2id = {class_name: idx+1 for idx, class_name in enumerate(df['class'].unique())} # 0 is reserved for background\n",
    "id2class = {v:k for k, v in class2id.items()}\n",
    "\n",
    "mask = rle2mask(slice_df.segmentation.values,\n",
    "                slice_df['class'].values,\n",
    "                slice_df.img_height.values[0],\n",
    "                slice_df.img_width.values[0],\n",
    "                class2id)\n",
    "\n"
   ]
  },
  {
   "cell_type": "code",
   "execution_count": 7,
   "id": "93c23447",
   "metadata": {
    "_kg_hide-output": true,
    "execution": {
     "iopub.execute_input": "2022-06-25T00:08:53.478926Z",
     "iopub.status.busy": "2022-06-25T00:08:53.478592Z",
     "iopub.status.idle": "2022-06-25T00:09:01.275859Z",
     "shell.execute_reply": "2022-06-25T00:09:01.274984Z"
    },
    "papermill": {
     "duration": 7.88567,
     "end_time": "2022-06-25T00:09:01.277682",
     "exception": false,
     "start_time": "2022-06-25T00:08:53.392012",
     "status": "completed"
    },
    "tags": []
   },
   "outputs": [
    {
     "data": {
      "text/html": [
       "wandb version 0.12.19 is available!  To upgrade, please run:\n",
       " $ pip install wandb --upgrade"
      ],
      "text/plain": [
       "<IPython.core.display.HTML object>"
      ]
     },
     "metadata": {},
     "output_type": "display_data"
    },
    {
     "data": {
      "text/html": [
       "Tracking run with wandb version 0.12.16"
      ],
      "text/plain": [
       "<IPython.core.display.HTML object>"
      ]
     },
     "metadata": {},
     "output_type": "display_data"
    },
    {
     "data": {
      "text/html": [
       "Run data is saved locally in <code>/kaggle/working/wandb/run-20220625_000853-2e2ky9e2</code>"
      ],
      "text/plain": [
       "<IPython.core.display.HTML object>"
      ]
     },
     "metadata": {},
     "output_type": "display_data"
    },
    {
     "data": {
      "text/html": [
       "Syncing run <strong><a href=\"https://wandb.ai/usharengaraju/UW-Madison-Viz/runs/2e2ky9e2\" target=\"_blank\">firm-vortex-44</a></strong> to <a href=\"https://wandb.ai/usharengaraju/UW-Madison-Viz\" target=\"_blank\">Weights & Biases</a> (<a href=\"https://wandb.me/run\" target=\"_blank\">docs</a>)<br/>"
      ],
      "text/plain": [
       "<IPython.core.display.HTML object>"
      ]
     },
     "metadata": {},
     "output_type": "display_data"
    },
    {
     "data": {
      "text/html": [
       "Waiting for W&B process to finish... <strong style=\"color:green\">(success).</strong>"
      ],
      "text/plain": [
       "<IPython.core.display.HTML object>"
      ]
     },
     "metadata": {},
     "output_type": "display_data"
    },
    {
     "data": {
      "application/vnd.jupyter.widget-view+json": {
       "model_id": "711d8b421a7c4052a62fb67c54d434fa",
       "version_major": 2,
       "version_minor": 0
      },
      "text/plain": [
       "VBox(children=(Label(value='0.012 MB of 0.012 MB uploaded (0.000 MB deduped)\\r'), FloatProgress(value=1.0, max…"
      ]
     },
     "metadata": {},
     "output_type": "display_data"
    },
    {
     "data": {
      "text/html": [
       "Synced <strong style=\"color:#cdcd00\">firm-vortex-44</strong>: <a href=\"https://wandb.ai/usharengaraju/UW-Madison-Viz/runs/2e2ky9e2\" target=\"_blank\">https://wandb.ai/usharengaraju/UW-Madison-Viz/runs/2e2ky9e2</a><br/>Synced 4 W&B file(s), 2 media file(s), 0 artifact file(s) and 0 other file(s)"
      ],
      "text/plain": [
       "<IPython.core.display.HTML object>"
      ]
     },
     "metadata": {},
     "output_type": "display_data"
    },
    {
     "data": {
      "text/html": [
       "Find logs at: <code>./wandb/run-20220625_000853-2e2ky9e2/logs</code>"
      ],
      "text/plain": [
       "<IPython.core.display.HTML object>"
      ]
     },
     "metadata": {},
     "output_type": "display_data"
    },
    {
     "data": {
      "text/html": [
       "<button onClick=\"this.nextSibling.style.display='block';this.style.display='none';\">Display W&B run</button><iframe src=\"https://wandb.ai/usharengaraju/UW-Madison-Viz/runs/2e2ky9e2?jupyter=true\" style=\"border:none;width:100%;height:420px;display:none;\"></iframe>"
      ],
      "text/plain": [
       "<wandb.sdk.wandb_run.Run at 0x7f1417d30510>"
      ]
     },
     "execution_count": 7,
     "metadata": {},
     "output_type": "execute_result"
    }
   ],
   "source": [
    "# 1. Generate a dict of mask data to log\n",
    "wandb_mask = {\n",
    "    'gt_mask':{\n",
    "        'mask_data': mask,\n",
    "        'class_labels': id2class\n",
    "    }\n",
    "}\n",
    "\n",
    "run = wandb.init(project='UW-Madison-Viz')\n",
    "wandb.log({'Ground Truth Segmentation': wandb.Image(image, masks=wandb_mask)})\n",
    "wandb.finish()\n",
    "run"
   ]
  },
  {
   "cell_type": "markdown",
   "id": "164b8d77",
   "metadata": {
    "papermill": {
     "duration": 0.089417,
     "end_time": "2022-06-25T00:09:01.454037",
     "exception": false,
     "start_time": "2022-06-25T00:09:01.364620",
     "status": "completed"
    },
    "tags": []
   },
   "source": [
    "![](https://i.imgur.com/IocKRfx.png)"
   ]
  },
  {
   "cell_type": "markdown",
   "id": "a9dd6e89",
   "metadata": {
    "papermill": {
     "duration": 0.087211,
     "end_time": "2022-06-25T00:09:01.627806",
     "exception": false,
     "start_time": "2022-06-25T00:09:01.540595",
     "status": "completed"
    },
    "tags": []
   },
   "source": [
    "# **<span style=\"color:#F7B2B0;\">Visualize a case day-wise using W&B Tables</span>**\n"
   ]
  },
  {
   "cell_type": "code",
   "execution_count": 8,
   "id": "5edb3510",
   "metadata": {
    "_kg_hide-output": true,
    "execution": {
     "iopub.execute_input": "2022-06-25T00:09:01.804543Z",
     "iopub.status.busy": "2022-06-25T00:09:01.804167Z",
     "iopub.status.idle": "2022-06-25T00:09:47.192189Z",
     "shell.execute_reply": "2022-06-25T00:09:47.191251Z"
    },
    "papermill": {
     "duration": 45.479093,
     "end_time": "2022-06-25T00:09:47.194174",
     "exception": false,
     "start_time": "2022-06-25T00:09:01.715081",
     "status": "completed"
    },
    "tags": []
   },
   "outputs": [
    {
     "data": {
      "text/html": [
       "<pre style=\"white-space:pre;overflow-x:auto;line-height:normal;font-family:Menlo,'DejaVu Sans Mono',consolas,'Courier New',monospace\">The day the scan was taken:  day0\n",
       "</pre>\n"
      ],
      "text/plain": [
       "The day the scan was taken:  day0\n"
      ]
     },
     "metadata": {},
     "output_type": "display_data"
    },
    {
     "data": {
      "text/html": [
       "wandb version 0.12.19 is available!  To upgrade, please run:\n",
       " $ pip install wandb --upgrade"
      ],
      "text/plain": [
       "<IPython.core.display.HTML object>"
      ]
     },
     "metadata": {},
     "output_type": "display_data"
    },
    {
     "data": {
      "text/html": [
       "Tracking run with wandb version 0.12.16"
      ],
      "text/plain": [
       "<IPython.core.display.HTML object>"
      ]
     },
     "metadata": {},
     "output_type": "display_data"
    },
    {
     "data": {
      "text/html": [
       "Run data is saved locally in <code>/kaggle/working/wandb/run-20220625_000901-39vlx921</code>"
      ],
      "text/plain": [
       "<IPython.core.display.HTML object>"
      ]
     },
     "metadata": {},
     "output_type": "display_data"
    },
    {
     "data": {
      "text/html": [
       "Syncing run <strong><a href=\"https://wandb.ai/usharengaraju/UW-Madison-Viz/runs/39vlx921\" target=\"_blank\">revived-dust-45</a></strong> to <a href=\"https://wandb.ai/usharengaraju/UW-Madison-Viz\" target=\"_blank\">Weights & Biases</a> (<a href=\"https://wandb.me/run\" target=\"_blank\">docs</a>)<br/>"
      ],
      "text/plain": [
       "<IPython.core.display.HTML object>"
      ]
     },
     "metadata": {},
     "output_type": "display_data"
    },
    {
     "name": "stderr",
     "output_type": "stream",
     "text": [
      "  0%|          | 0/65 [00:00<?, ?it/s]2022-06-25 00:09:06.272597: I tensorflow/stream_executor/cuda/cuda_gpu_executor.cc:937] successful NUMA node read from SysFS had negative value (-1), but there must be at least one NUMA node, so returning NUMA node zero\n",
      "2022-06-25 00:09:06.278042: I tensorflow/stream_executor/cuda/cuda_gpu_executor.cc:937] successful NUMA node read from SysFS had negative value (-1), but there must be at least one NUMA node, so returning NUMA node zero\n",
      "2022-06-25 00:09:06.278758: I tensorflow/stream_executor/cuda/cuda_gpu_executor.cc:937] successful NUMA node read from SysFS had negative value (-1), but there must be at least one NUMA node, so returning NUMA node zero\n",
      "2022-06-25 00:09:06.281832: I tensorflow/core/platform/cpu_feature_guard.cc:142] This TensorFlow binary is optimized with oneAPI Deep Neural Network Library (oneDNN) to use the following CPU instructions in performance-critical operations:  AVX2 AVX512F FMA\n",
      "To enable them in other operations, rebuild TensorFlow with the appropriate compiler flags.\n",
      "2022-06-25 00:09:06.282184: I tensorflow/stream_executor/cuda/cuda_gpu_executor.cc:937] successful NUMA node read from SysFS had negative value (-1), but there must be at least one NUMA node, so returning NUMA node zero\n",
      "2022-06-25 00:09:06.283278: I tensorflow/stream_executor/cuda/cuda_gpu_executor.cc:937] successful NUMA node read from SysFS had negative value (-1), but there must be at least one NUMA node, so returning NUMA node zero\n",
      "2022-06-25 00:09:06.284137: I tensorflow/stream_executor/cuda/cuda_gpu_executor.cc:937] successful NUMA node read from SysFS had negative value (-1), but there must be at least one NUMA node, so returning NUMA node zero\n",
      "2022-06-25 00:09:09.173578: I tensorflow/stream_executor/cuda/cuda_gpu_executor.cc:937] successful NUMA node read from SysFS had negative value (-1), but there must be at least one NUMA node, so returning NUMA node zero\n",
      "2022-06-25 00:09:09.174347: I tensorflow/stream_executor/cuda/cuda_gpu_executor.cc:937] successful NUMA node read from SysFS had negative value (-1), but there must be at least one NUMA node, so returning NUMA node zero\n",
      "2022-06-25 00:09:09.175087: I tensorflow/stream_executor/cuda/cuda_gpu_executor.cc:937] successful NUMA node read from SysFS had negative value (-1), but there must be at least one NUMA node, so returning NUMA node zero\n",
      "2022-06-25 00:09:09.175759: I tensorflow/core/common_runtime/gpu/gpu_device.cc:1510] Created device /job:localhost/replica:0/task:0/device:GPU:0 with 15385 MB memory:  -> device: 0, name: Tesla P100-PCIE-16GB, pci bus id: 0000:00:04.0, compute capability: 6.0\n",
      "100%|██████████| 65/65 [00:05<00:00, 12.82it/s]\n"
     ]
    },
    {
     "data": {
      "text/html": [
       "Waiting for W&B process to finish... <strong style=\"color:green\">(success).</strong>"
      ],
      "text/plain": [
       "<IPython.core.display.HTML object>"
      ]
     },
     "metadata": {},
     "output_type": "display_data"
    },
    {
     "data": {
      "application/vnd.jupyter.widget-view+json": {
       "model_id": "3ed4eeef23944e30b5a6cc9aa1bd20ee",
       "version_major": 2,
       "version_minor": 0
      },
      "text/plain": [
       "VBox(children=(Label(value='1.104 MB of 1.106 MB uploaded (0.000 MB deduped)\\r'), FloatProgress(value=0.998562…"
      ]
     },
     "metadata": {},
     "output_type": "display_data"
    },
    {
     "data": {
      "text/html": [
       "Synced <strong style=\"color:#cdcd00\">revived-dust-45</strong>: <a href=\"https://wandb.ai/usharengaraju/UW-Madison-Viz/runs/39vlx921\" target=\"_blank\">https://wandb.ai/usharengaraju/UW-Madison-Viz/runs/39vlx921</a><br/>Synced 5 W&B file(s), 1 media file(s), 132 artifact file(s) and 0 other file(s)"
      ],
      "text/plain": [
       "<IPython.core.display.HTML object>"
      ]
     },
     "metadata": {},
     "output_type": "display_data"
    },
    {
     "data": {
      "text/html": [
       "Find logs at: <code>./wandb/run-20220625_000901-39vlx921/logs</code>"
      ],
      "text/plain": [
       "<IPython.core.display.HTML object>"
      ]
     },
     "metadata": {},
     "output_type": "display_data"
    },
    {
     "data": {
      "text/html": [
       "<pre style=\"white-space:pre;overflow-x:auto;line-height:normal;font-family:Menlo,'DejaVu Sans Mono',consolas,'Courier New',monospace\">The day the scan was taken:  day20\n",
       "</pre>\n"
      ],
      "text/plain": [
       "The day the scan was taken:  day20\n"
      ]
     },
     "metadata": {},
     "output_type": "display_data"
    },
    {
     "data": {
      "text/html": [
       "wandb version 0.12.19 is available!  To upgrade, please run:\n",
       " $ pip install wandb --upgrade"
      ],
      "text/plain": [
       "<IPython.core.display.HTML object>"
      ]
     },
     "metadata": {},
     "output_type": "display_data"
    },
    {
     "data": {
      "text/html": [
       "Tracking run with wandb version 0.12.16"
      ],
      "text/plain": [
       "<IPython.core.display.HTML object>"
      ]
     },
     "metadata": {},
     "output_type": "display_data"
    },
    {
     "data": {
      "text/html": [
       "Run data is saved locally in <code>/kaggle/working/wandb/run-20220625_000920-61jjeiwe</code>"
      ],
      "text/plain": [
       "<IPython.core.display.HTML object>"
      ]
     },
     "metadata": {},
     "output_type": "display_data"
    },
    {
     "data": {
      "text/html": [
       "Syncing run <strong><a href=\"https://wandb.ai/usharengaraju/UW-Madison-Viz/runs/61jjeiwe\" target=\"_blank\">mild-thunder-46</a></strong> to <a href=\"https://wandb.ai/usharengaraju/UW-Madison-Viz\" target=\"_blank\">Weights & Biases</a> (<a href=\"https://wandb.me/run\" target=\"_blank\">docs</a>)<br/>"
      ],
      "text/plain": [
       "<IPython.core.display.HTML object>"
      ]
     },
     "metadata": {},
     "output_type": "display_data"
    },
    {
     "name": "stderr",
     "output_type": "stream",
     "text": [
      "100%|██████████| 54/54 [00:01<00:00, 35.79it/s]\n"
     ]
    },
    {
     "data": {
      "text/html": [
       "Waiting for W&B process to finish... <strong style=\"color:green\">(success).</strong>"
      ],
      "text/plain": [
       "<IPython.core.display.HTML object>"
      ]
     },
     "metadata": {},
     "output_type": "display_data"
    },
    {
     "data": {
      "application/vnd.jupyter.widget-view+json": {
       "model_id": "68c5cccad89e48ccb0be621e56e0c8c6",
       "version_major": 2,
       "version_minor": 0
      },
      "text/plain": [
       "VBox(children=(Label(value='0.996 MB of 0.997 MB uploaded (0.000 MB deduped)\\r'), FloatProgress(value=0.998670…"
      ]
     },
     "metadata": {},
     "output_type": "display_data"
    },
    {
     "data": {
      "text/html": [
       "Synced <strong style=\"color:#cdcd00\">mild-thunder-46</strong>: <a href=\"https://wandb.ai/usharengaraju/UW-Madison-Viz/runs/61jjeiwe\" target=\"_blank\">https://wandb.ai/usharengaraju/UW-Madison-Viz/runs/61jjeiwe</a><br/>Synced 5 W&B file(s), 1 media file(s), 110 artifact file(s) and 0 other file(s)"
      ],
      "text/plain": [
       "<IPython.core.display.HTML object>"
      ]
     },
     "metadata": {},
     "output_type": "display_data"
    },
    {
     "data": {
      "text/html": [
       "Find logs at: <code>./wandb/run-20220625_000920-61jjeiwe/logs</code>"
      ],
      "text/plain": [
       "<IPython.core.display.HTML object>"
      ]
     },
     "metadata": {},
     "output_type": "display_data"
    },
    {
     "data": {
      "text/html": [
       "<pre style=\"white-space:pre;overflow-x:auto;line-height:normal;font-family:Menlo,'DejaVu Sans Mono',consolas,'Courier New',monospace\">The day the scan was taken:  day22\n",
       "</pre>\n"
      ],
      "text/plain": [
       "The day the scan was taken:  day22\n"
      ]
     },
     "metadata": {},
     "output_type": "display_data"
    },
    {
     "data": {
      "text/html": [
       "wandb version 0.12.19 is available!  To upgrade, please run:\n",
       " $ pip install wandb --upgrade"
      ],
      "text/plain": [
       "<IPython.core.display.HTML object>"
      ]
     },
     "metadata": {},
     "output_type": "display_data"
    },
    {
     "data": {
      "text/html": [
       "Tracking run with wandb version 0.12.16"
      ],
      "text/plain": [
       "<IPython.core.display.HTML object>"
      ]
     },
     "metadata": {},
     "output_type": "display_data"
    },
    {
     "data": {
      "text/html": [
       "Run data is saved locally in <code>/kaggle/working/wandb/run-20220625_000933-2sryyj3n</code>"
      ],
      "text/plain": [
       "<IPython.core.display.HTML object>"
      ]
     },
     "metadata": {},
     "output_type": "display_data"
    },
    {
     "data": {
      "text/html": [
       "Syncing run <strong><a href=\"https://wandb.ai/usharengaraju/UW-Madison-Viz/runs/2sryyj3n\" target=\"_blank\">daily-river-47</a></strong> to <a href=\"https://wandb.ai/usharengaraju/UW-Madison-Viz\" target=\"_blank\">Weights & Biases</a> (<a href=\"https://wandb.me/run\" target=\"_blank\">docs</a>)<br/>"
      ],
      "text/plain": [
       "<IPython.core.display.HTML object>"
      ]
     },
     "metadata": {},
     "output_type": "display_data"
    },
    {
     "name": "stderr",
     "output_type": "stream",
     "text": [
      "100%|██████████| 62/62 [00:01<00:00, 39.85it/s]\n"
     ]
    },
    {
     "data": {
      "text/html": [
       "Waiting for W&B process to finish... <strong style=\"color:green\">(success).</strong>"
      ],
      "text/plain": [
       "<IPython.core.display.HTML object>"
      ]
     },
     "metadata": {},
     "output_type": "display_data"
    },
    {
     "data": {
      "application/vnd.jupyter.widget-view+json": {
       "model_id": "76be5a2c88474103b79d53786834d977",
       "version_major": 2,
       "version_minor": 0
      },
      "text/plain": [
       "VBox(children=(Label(value='1.130 MB of 1.130 MB uploaded (0.000 MB deduped)\\r'), FloatProgress(value=1.0, max…"
      ]
     },
     "metadata": {},
     "output_type": "display_data"
    },
    {
     "data": {
      "text/html": [
       "Synced <strong style=\"color:#cdcd00\">daily-river-47</strong>: <a href=\"https://wandb.ai/usharengaraju/UW-Madison-Viz/runs/2sryyj3n\" target=\"_blank\">https://wandb.ai/usharengaraju/UW-Madison-Viz/runs/2sryyj3n</a><br/>Synced 5 W&B file(s), 1 media file(s), 126 artifact file(s) and 0 other file(s)"
      ],
      "text/plain": [
       "<IPython.core.display.HTML object>"
      ]
     },
     "metadata": {},
     "output_type": "display_data"
    },
    {
     "data": {
      "text/html": [
       "Find logs at: <code>./wandb/run-20220625_000933-2sryyj3n/logs</code>"
      ],
      "text/plain": [
       "<IPython.core.display.HTML object>"
      ]
     },
     "metadata": {},
     "output_type": "display_data"
    }
   ],
   "source": [
    "# A dict with key id and name for logging segmentation mask as W&B Tables.\n",
    "wandb_class_set = wandb.Classes([{\n",
    "                     'id': id,\n",
    "                     'name': name\n",
    "                  } for id, name in id2class.items()])\n",
    "\n",
    "for day, day_df in by_day:\n",
    "    print('The day the scan was taken: ', day)\n",
    "    \n",
    "    # 1. Initialize a W&B Run\n",
    "    run = wandb.init(project='UW-Madison-Viz', group='case123-viz')\n",
    "\n",
    "    # 2. Initialize a W&B Table\n",
    "    data_at = wandb.Table(columns=['slice', 'image'])\n",
    "    \n",
    "    # Group by slice\n",
    "    by_slice = day_df.groupby('slice_str')\n",
    "    \n",
    "    # Iterate through each slice, open the image, and get mask\n",
    "    for slice_num, slice_df in tqdm(by_slice):\n",
    "        # Open the image\n",
    "        filepath = slice_df.filepath.values[0]\n",
    "        image = cv2.imread(filepath, cv2.IMREAD_UNCHANGED)\n",
    "        image = tf.convert_to_tensor(image, dtype=tf.uint16)\n",
    "        image = tf.image.convert_image_dtype(image, dtype=tf.float16)\n",
    "        \n",
    "        # Get mask\n",
    "        mask = rle2mask(slice_df.segmentation.values,\n",
    "                slice_df['class'].values,\n",
    "                slice_df.img_height.values[0],\n",
    "                slice_df.img_width.values[0],\n",
    "                class2id)\n",
    "        \n",
    "        # 3. Generate a dict of mask data to log\n",
    "        wandb_mask = {\n",
    "            'gt_mask':{\n",
    "                'mask_data': mask,\n",
    "                'class_labels': id2class\n",
    "            }\n",
    "        }\n",
    "        \n",
    "        # 4. Add the data as a new row\n",
    "        data_at.add_data(\n",
    "            slice_num,\n",
    "            wandb.Image(image, masks=wandb_mask, classes=wandb_class_set)\n",
    "        )\n",
    "        \n",
    "    # 5. Log the table onto W&B dashboard\n",
    "    wandb.log({f'Segmentation Viz {day}': data_at})\n",
    "\n",
    "    # 6. Close the W&B run\n",
    "    wandb.finish()"
   ]
  },
  {
   "cell_type": "markdown",
   "id": "cd2c31cd",
   "metadata": {
    "papermill": {
     "duration": 0.145535,
     "end_time": "2022-06-25T00:09:47.434050",
     "exception": false,
     "start_time": "2022-06-25T00:09:47.288515",
     "status": "completed"
    },
    "tags": []
   },
   "source": [
    "![](https://i.imgur.com/GVsxPGK.png)"
   ]
  },
  {
   "cell_type": "code",
   "execution_count": 9,
   "id": "e73efb5b",
   "metadata": {
    "execution": {
     "iopub.execute_input": "2022-06-25T00:09:47.627466Z",
     "iopub.status.busy": "2022-06-25T00:09:47.626681Z",
     "iopub.status.idle": "2022-06-25T00:09:47.635154Z",
     "shell.execute_reply": "2022-06-25T00:09:47.634185Z"
    },
    "executionInfo": {
     "elapsed": 3,
     "status": "ok",
     "timestamp": 1655598847076,
     "user": {
      "displayName": "Tensor Girl",
      "userId": "02972928350054045429"
     },
     "user_tz": -330
    },
    "id": "KnjDZfbpGGBe",
    "papermill": {
     "duration": 0.108567,
     "end_time": "2022-06-25T00:09:47.637259",
     "exception": false,
     "start_time": "2022-06-25T00:09:47.528692",
     "status": "completed"
    },
    "tags": []
   },
   "outputs": [],
   "source": [
    "class CFG:\n",
    "\n",
    "    debug = False   \n",
    "   \n",
    "    verbose = 0\n",
    "    display_plot = True\n",
    "\n",
    "    # Device for training\n",
    "    device = None  # device is automatically selected\n",
    "\n",
    "    # Seeding for reproducibility\n",
    "    seed = 101\n",
    "\n",
    "    # Image Size\n",
    "    img_size = [96, 96]\n",
    "\n",
    "    # Batch Size & Epochs\n",
    "    batch_size = 2\n",
    "    drop_remainder = False\n",
    "    epochs = 15\n",
    "    steps_per_execution = None\n",
    "\n",
    "    # Loss & Optimizer & LR Scheduler\n",
    "    loss = \"dice_loss\"\n",
    "    optimizer = \"Adam\"\n",
    "    lr = 5e-4\n",
    "    lr_schedule = \"CosineDecay\"\n",
    "    patience = 5\n",
    "   \n",
    "    # Clip values to [0, 1]\n",
    "    clip = False\n",
    "    \n",
    "AUTO = tf.data.experimental.AUTOTUNE\n",
    "\n",
    "import re\n",
    "def count_data_items(filenames):\n",
    "    n = [int(re.compile(r\"-([0-9]*)\\.\").search(filename).group(1)) for filename in filenames]\n",
    "    return np.sum(n)\n"
   ]
  },
  {
   "cell_type": "code",
   "execution_count": 10,
   "id": "91617e21",
   "metadata": {
    "_kg_hide-output": true,
    "execution": {
     "iopub.execute_input": "2022-06-25T00:09:47.827264Z",
     "iopub.status.busy": "2022-06-25T00:09:47.826590Z",
     "iopub.status.idle": "2022-06-25T00:09:48.334460Z",
     "shell.execute_reply": "2022-06-25T00:09:48.333497Z"
    },
    "papermill": {
     "duration": 0.606212,
     "end_time": "2022-06-25T00:09:48.337250",
     "exception": false,
     "start_time": "2022-06-25T00:09:47.731038",
     "status": "completed"
    },
    "tags": []
   },
   "outputs": [
    {
     "name": "stderr",
     "output_type": "stream",
     "text": [
      "2022-06-25 00:09:48.238016: W tensorflow/core/platform/cloud/google_auth_provider.cc:184] All attempts to get a Google authentication bearer token failed, returning an empty token. Retrieving token from files failed with \"Not found: Could not locate the credentials file.\". Retrieving token from GCE failed with \"Failed precondition: Error executing an HTTP request: libcurl code 6 meaning 'Couldn't resolve host name', error details: Could not resolve host: metadata\".\n"
     ]
    },
    {
     "data": {
      "text/html": [
       "<pre style=\"white-space:pre;overflow-x:auto;line-height:normal;font-family:Menlo,'DejaVu Sans Mono',consolas,'Courier New',monospace\">NUM TFRECORD FILES: <span style=\"color: #008080; text-decoration-color: #008080; font-weight: bold\">40</span>\n",
       "</pre>\n"
      ],
      "text/plain": [
       "NUM TFRECORD FILES: \u001b[1;36m40\u001b[0m\n"
      ]
     },
     "metadata": {},
     "output_type": "display_data"
    },
    {
     "data": {
      "text/html": [
       "<pre style=\"white-space:pre;overflow-x:auto;line-height:normal;font-family:Menlo,'DejaVu Sans Mono',consolas,'Courier New',monospace\">NUM TRAINING IMAGES: <span style=\"color: #008080; text-decoration-color: #008080; font-weight: bold\">38</span>,<span style=\"color: #008080; text-decoration-color: #008080; font-weight: bold\">208</span>\n",
       "</pre>\n"
      ],
      "text/plain": [
       "NUM TRAINING IMAGES: \u001b[1;36m38\u001b[0m,\u001b[1;36m208\u001b[0m\n"
      ]
     },
     "metadata": {},
     "output_type": "display_data"
    }
   ],
   "source": [
    "BASE_PATH = '/kaggle/input/uw-madison-gi-tract-image-segmentation'\n",
    "GCS_PATH = KaggleDatasets().get_gcs_path('uwmgi-25d-tfrecord-dataset')\n",
    "ALL_FILENAMES = tf.io.gfile.glob(GCS_PATH + '/uwmgi/*.tfrec')\n",
    "print('NUM TFRECORD FILES: {:,}'.format(len(ALL_FILENAMES)))\n",
    "print('NUM TRAINING IMAGES: {:,}'.format(count_data_items(ALL_FILENAMES)))"
   ]
  },
  {
   "cell_type": "markdown",
   "id": "7d0d1014",
   "metadata": {
    "papermill": {
     "duration": 0.093328,
     "end_time": "2022-06-25T00:09:48.524184",
     "exception": false,
     "start_time": "2022-06-25T00:09:48.430856",
     "status": "completed"
    },
    "tags": []
   },
   "source": [
    "# **<span style=\"color:#F7B2B0;\">Input Data Pipeline</span>**"
   ]
  },
  {
   "cell_type": "code",
   "execution_count": 11,
   "id": "48c173d0",
   "metadata": {
    "execution": {
     "iopub.execute_input": "2022-06-25T00:09:48.711936Z",
     "iopub.status.busy": "2022-06-25T00:09:48.711560Z",
     "iopub.status.idle": "2022-06-25T00:09:49.310369Z",
     "shell.execute_reply": "2022-06-25T00:09:49.309535Z"
    },
    "executionInfo": {
     "elapsed": 2,
     "status": "ok",
     "timestamp": 1655598847747,
     "user": {
      "displayName": "Tensor Girl",
      "userId": "02972928350054045429"
     },
     "user_tz": -330
    },
    "id": "pZ9HFk1fH0z9",
    "papermill": {
     "duration": 0.695524,
     "end_time": "2022-06-25T00:09:49.312673",
     "exception": false,
     "start_time": "2022-06-25T00:09:48.617149",
     "status": "completed"
    },
    "tags": []
   },
   "outputs": [],
   "source": [
    "# Decode image from bytestring to tensor\n",
    "def decode_image(data, height, width, target_size=CFG.img_size):\n",
    "    img = tf.io.decode_raw(data, out_type=tf.uint16)\n",
    "    img = tf.reshape(img, [height, width, 3])  # explicit size needed for TPU\n",
    "    img = tf.cast(img, tf.float32)\n",
    "    img = tf.math.divide_no_nan(img, tf.math.reduce_max(img))  # scale image to [0, 1]\n",
    "    img = tf.image.resize_with_pad(\n",
    "        img, target_size[0], target_size[1], method=\"nearest\"\n",
    "    )  # resize with pad to avoid distortion\n",
    "    img = tf.reshape(img, [*target_size, 3])  # reshape after resize\n",
    "    return img\n",
    "\n",
    "\n",
    "# Decode mask from bytestring to tensor\n",
    "def decode_mask(data, height, width, target_size=CFG.img_size):\n",
    "    msk = tf.io.decode_raw(data, out_type=tf.uint8)\n",
    "    msk = tf.reshape(msk, [height, width, 3])  # explicit size needed for TPU\n",
    "    msk = tf.cast(msk, tf.float32)\n",
    "    msk = msk / 255.0  # scale mask data to[0, 1]\n",
    "    msk = tf.image.resize_with_pad(\n",
    "        msk, target_size[0], target_size[1], method=\"nearest\"\n",
    "    )\n",
    "    msk = tf.reshape(msk, [*target_size, 3])  # reshape after resize\n",
    "    return msk\n",
    "\n",
    "\n",
    "# Read tfrecord data & parse it & do augmentation\n",
    "def read_tfrecord(example, augment=True, return_id=False, dim=CFG.img_size):\n",
    "    tfrec_format = {\n",
    "        \"id\": tf.io.FixedLenFeature([], tf.string),\n",
    "        \"image\": tf.io.FixedLenFeature([], tf.string),  # tf.string means bytestring\n",
    "        \"height\": tf.io.FixedLenFeature([], tf.int64),\n",
    "        \"width\": tf.io.FixedLenFeature([], tf.int64),\n",
    "        \"mask\": tf.io.FixedLenFeature([], tf.string),\n",
    "    }\n",
    "    example = tf.io.parse_single_example(\n",
    "        example, tfrec_format\n",
    "    )  # parses a single example proto.\n",
    "    image_id = example[\"id\"]\n",
    "    height = example[\"height\"]\n",
    "    width = example[\"width\"]\n",
    "    img = decode_image(example[\"image\"], height, width, dim)  # access image\n",
    "    msk = decode_mask(example[\"mask\"], height, width, dim)  # access mask\n",
    "    img = tf.reshape(img, [*dim, 3])\n",
    "    msk = tf.reshape(msk, [*dim, 3])\n",
    "    img = tf.repeat(img[:, :, np.newaxis,:], 96, axis=2)\n",
    "    msk = tf.repeat(msk[:, :, np.newaxis,:], 96, axis=2)\n",
    "    return (img, msk) if not return_id else (img, image_id, msk)\n",
    "\n",
    "def get_dataset(\n",
    "    filenames,\n",
    "    shuffle=False,\n",
    "    repeat=False,\n",
    "    augment=False,\n",
    "    cache=False,\n",
    "    return_id=False,\n",
    "    batch_size=CFG.batch_size ,\n",
    "    target_size=CFG.img_size,\n",
    "    drop_remainder=False,\n",
    "    seed=CFG.seed,\n",
    "):\n",
    "    dataset = tf.data.TFRecordDataset(filenames)  # read tfrecord files\n",
    "    dataset = dataset.map(\n",
    "        lambda x: read_tfrecord(\n",
    "            x,\n",
    "            augment=augment,  # unparse tfrecord data with masks\n",
    "            return_id=return_id,\n",
    "            dim=target_size,\n",
    "        ))\n",
    "    dataset = dataset.batch(batch_size, drop_remainder=drop_remainder)  # batch the data\n",
    "    dataset = dataset.prefetch(AUTO)  # prefetch data for speedup\n",
    "    return dataset\n",
    "\n",
    "ds = get_dataset(ALL_FILENAMES, augment=False, cache=False, repeat=False)"
   ]
  },
  {
   "cell_type": "markdown",
   "id": "ec98db49",
   "metadata": {
    "papermill": {
     "duration": 0.094199,
     "end_time": "2022-06-25T00:09:49.502949",
     "exception": false,
     "start_time": "2022-06-25T00:09:49.408750",
     "status": "completed"
    },
    "tags": []
   },
   "source": [
    "# **<span style=\"color:#F7B2B0;\">Model Architecture</span>**"
   ]
  },
  {
   "cell_type": "markdown",
   "id": "12b1c79f",
   "metadata": {
    "papermill": {
     "duration": 0.093779,
     "end_time": "2022-06-25T00:09:49.690236",
     "exception": false,
     "start_time": "2022-06-25T00:09:49.596457",
     "status": "completed"
    },
    "tags": []
   },
   "source": [
    "\n",
    "![](https://i.imgur.com/eUyPwD0.png)\n",
    "\n",
    "<div class=\"alert alert-block alert-info\">  \n",
    "\n",
    "UNETR uses a contracting-expanding pattern consisting of a stack of transformers as the encoder which is connected to a decoder via skip connections. 1D sequence of a 3D input volume x ∈ R^(H×W×D×C) is created with resolution (H,W,D) and C input channels and divide it into flattened uniform non-overlapping patches xv ∈R^(N×(P^3 .C)) where (P, P, P) denotes the resolution of each patch and N = (H×W ×D)/P^3 is the length of the sequence.Then the patches are projected into a K dimensional embedding space using a linear layer and add 1D positional embedding to it. After embeddings a stack of transformer blocks consisting of multi-head self-attention (MSA) and multilayer perceptron (MLP) sublayers are used.\n",
    "    \n",
    "</div>\n",
    "\n",
    "# **<span style=\"color:#F7B2B0;\">CNN Blocks</span>**\n"
   ]
  },
  {
   "cell_type": "code",
   "execution_count": 12,
   "id": "6dc5978c",
   "metadata": {
    "execution": {
     "iopub.execute_input": "2022-06-25T00:09:49.879549Z",
     "iopub.status.busy": "2022-06-25T00:09:49.878575Z",
     "iopub.status.idle": "2022-06-25T00:09:49.892696Z",
     "shell.execute_reply": "2022-06-25T00:09:49.891824Z"
    },
    "executionInfo": {
     "elapsed": 4,
     "status": "ok",
     "timestamp": 1655598852877,
     "user": {
      "displayName": "Tensor Girl",
      "userId": "02972928350054045429"
     },
     "user_tz": -330
    },
    "id": "gLuldKPYCNJp",
    "papermill": {
     "duration": 0.110332,
     "end_time": "2022-06-25T00:09:49.894447",
     "exception": false,
     "start_time": "2022-06-25T00:09:49.784115",
     "status": "completed"
    },
    "tags": []
   },
   "outputs": [],
   "source": [
    "class SingleDeconv3DBlock(tf.keras.layers.Layer):\n",
    "\n",
    "    def __init__(self,filters):\n",
    "        super(SingleDeconv3DBlock, self).__init__()\n",
    "        self.block = tf.keras.layers.Conv3DTranspose(filters= filters, \n",
    "                                                     kernel_size=2, strides=2, \n",
    "                                                     padding=\"valid\", \n",
    "                                                     output_padding=None)\n",
    "                                                     \n",
    "\n",
    "    def call(self, inputs):        \n",
    "        return self.block(inputs)\n",
    "\n",
    "\n",
    "\n",
    "class SingleConv3DBlock(tf.keras.layers.Layer):\n",
    "\n",
    "    def __init__(self, filters,kernel_size):\n",
    "        super(SingleConv3DBlock, self).__init__()\n",
    "        self.kernel=kernel_size\n",
    "        self.res = tuple(map(lambda i: (i - 1)//2, self.kernel))\n",
    "        self.block = tf.keras.layers.Conv3D(filters= filters, \n",
    "                                            kernel_size=kernel_size, \n",
    "                                            strides=1, \n",
    "                                            padding='same')\n",
    "\n",
    "    def call(self, inputs):\n",
    "        return self.block(inputs)\n",
    "    \n",
    "class Conv3DBlock(tf.keras.layers.Layer):\n",
    "\n",
    "    def __init__(self, filters,kernel_size=(3,3,3)):\n",
    "        super(Conv3DBlock, self).__init__()\n",
    "        self.a= tf.keras.Sequential([\n",
    "                                     SingleConv3DBlock(filters,kernel_size=kernel_size),\n",
    "                                     tf.keras.layers.BatchNormalization(),\n",
    "                                     tf.keras.layers.Activation('relu')\n",
    "        ])\n",
    "        \n",
    "\n",
    "    def call(self, inputs):\n",
    "        return self.a(inputs)\n",
    "    \n",
    "class Deconv3DBlock(tf.keras.layers.Layer):\n",
    "\n",
    "    def __init__(self, filters,kernel_size=(3,3,3)):\n",
    "        super(Deconv3DBlock, self).__init__()\n",
    "        self.a= tf.keras.Sequential([\n",
    "                                     SingleDeconv3DBlock(filters=filters),\n",
    "                                     SingleConv3DBlock(filters=filters,kernel_size=kernel_size),\n",
    "                                     tf.keras.layers.BatchNormalization(),\n",
    "                                     tf.keras.layers.Activation('relu')\n",
    "        ])\n",
    "  \n",
    "    def call(self, inputs):\n",
    "        return self.a(inputs)\n",
    "    \n"
   ]
  },
  {
   "cell_type": "markdown",
   "id": "116cbd90",
   "metadata": {
    "papermill": {
     "duration": 0.093469,
     "end_time": "2022-06-25T00:09:50.082177",
     "exception": false,
     "start_time": "2022-06-25T00:09:49.988708",
     "status": "completed"
    },
    "tags": []
   },
   "source": [
    "<div class=\"alert alert-block alert-info\">  \n",
    "\n",
    "MLP comprises two linear layers with GELU activation functions, i is the intermediate block identifier, and L is the number of transformer layers.A MSA sublayer comprises parallel self-attention (SA) heads. The SA block is a parameterized function that learns the mapping between a query (q) and the corresponding key (k) and value (v) representations in a sequence. The attention weights (A) are computed by measuring the similarity between two elements in z and their key-value pairs using softmax function. \n",
    "    \n",
    "</div>\n",
    "\n",
    "\n",
    "# **<span style=\"color:#F7B2B0;\">Self Attention and MLP</span>**"
   ]
  },
  {
   "cell_type": "code",
   "execution_count": 13,
   "id": "526f13f1",
   "metadata": {
    "execution": {
     "iopub.execute_input": "2022-06-25T00:09:50.269294Z",
     "iopub.status.busy": "2022-06-25T00:09:50.268909Z",
     "iopub.status.idle": "2022-06-25T00:09:50.283517Z",
     "shell.execute_reply": "2022-06-25T00:09:50.282660Z"
    },
    "executionInfo": {
     "elapsed": 4,
     "status": "ok",
     "timestamp": 1655598852877,
     "user": {
      "displayName": "Tensor Girl",
      "userId": "02972928350054045429"
     },
     "user_tz": -330
    },
    "id": "R33LarglnuAZ",
    "papermill": {
     "duration": 0.110548,
     "end_time": "2022-06-25T00:09:50.285382",
     "exception": false,
     "start_time": "2022-06-25T00:09:50.174834",
     "status": "completed"
    },
    "tags": []
   },
   "outputs": [],
   "source": [
    "class SelfAttention(tf.keras.layers.Layer):\n",
    "\n",
    "    def __init__(self, num_heads,embed_dim,dropout):\n",
    "        super(SelfAttention, self).__init__()\n",
    "\n",
    "        self.num_attention_heads = num_heads\n",
    "        self.attention_head_size = int(embed_dim / num_heads)\n",
    "        self.all_head_size = self.num_attention_heads * self.attention_head_size\n",
    "\n",
    "        self.query=tf.keras.layers.Dense(self.all_head_size)\n",
    "        self.key = tf.keras.layers.Dense(self.all_head_size)\n",
    "        self.value = tf.keras.layers.Dense(self.all_head_size)                \n",
    "\n",
    "        self.out=tf.keras.layers.Dense(embed_dim)\n",
    "        self.attn_dropout=tf.keras.layers.Dropout(dropout)\n",
    "        self.proj_dropout=tf.keras.layers.Dropout(dropout)\n",
    "\n",
    "        self.softmax=tf.keras.layers.Softmax()\n",
    "\n",
    "        self.vis=False\n",
    "\n",
    "    def transpose_for_scores(self,x):\n",
    "        new_x_shape=list(x.shape[:-1] + (self.num_attention_heads, self.attention_head_size))\n",
    "        new_x_shape[0] = -1\n",
    "        y = tf.reshape(x, new_x_shape)\n",
    "        return tf.transpose(y,perm=[0,2,1,3])\n",
    "\n",
    "    def call(self, hidden_states):\n",
    "        mixed_query_layer = self.query(hidden_states)\n",
    "        mixed_key_layer = self.key(hidden_states)\n",
    "        mixed_value_layer = self.value(hidden_states)\n",
    "\n",
    "        query_layer = self.transpose_for_scores(mixed_query_layer)\n",
    "        key_layer = self.transpose_for_scores(mixed_key_layer)\n",
    "        value_layer = self.transpose_for_scores(mixed_value_layer)  \n",
    "        attention_scores= query_layer @ tf.transpose(key_layer,perm=[0,1,3,2])\n",
    "        attention_scores= attention_scores/math.sqrt(self.attention_head_size)\n",
    "        attention_probs=self.softmax(attention_scores)\n",
    "        weights = attention_probs if self.vis else None\n",
    "        attention_probs = self.attn_dropout(attention_probs)\n",
    "\n",
    "        context_layer= attention_probs @ value_layer\n",
    "        context_layer=tf.transpose( context_layer, perm=[0,2,1,3])\n",
    "        new_context_layer_shape = list(context_layer.shape[:-2] + (self.all_head_size,))\n",
    "        new_context_layer_shape[0]= -1\n",
    "        context_layer = tf.reshape(context_layer,new_context_layer_shape)\n",
    "        attention_output = self.out(context_layer)\n",
    "        attention_output = self.proj_dropout(attention_output)\n",
    "        return attention_output, weights        "
   ]
  },
  {
   "cell_type": "code",
   "execution_count": 14,
   "id": "d2dafc8f",
   "metadata": {
    "execution": {
     "iopub.execute_input": "2022-06-25T00:09:50.476265Z",
     "iopub.status.busy": "2022-06-25T00:09:50.475598Z",
     "iopub.status.idle": "2022-06-25T00:09:50.491470Z",
     "shell.execute_reply": "2022-06-25T00:09:50.490585Z"
    },
    "executionInfo": {
     "elapsed": 4,
     "status": "ok",
     "timestamp": 1655598852878,
     "user": {
      "displayName": "Tensor Girl",
      "userId": "02972928350054045429"
     },
     "user_tz": -330
    },
    "id": "orvzy6sXuxA3",
    "papermill": {
     "duration": 0.11262,
     "end_time": "2022-06-25T00:09:50.493263",
     "exception": false,
     "start_time": "2022-06-25T00:09:50.380643",
     "status": "completed"
    },
    "tags": []
   },
   "outputs": [],
   "source": [
    "class Mlp(tf.keras.layers.Layer):\n",
    "\n",
    "    def __init__(self, output_features, drop=0.):\n",
    "        super(Mlp, self).__init__()\n",
    "        self.a=tf.keras.layers.Dense(units=output_features,activation=tf.nn.gelu)\n",
    "        self.b=tf.keras.layers.Dropout(drop)\n",
    "\n",
    "    def call(self, inputs):\n",
    "        x=self.a(inputs)\n",
    "        return self.b(x)\n",
    "\n",
    "class PositionwiseFeedForward(tf.keras.layers.Layer):\n",
    "\n",
    "    def __init__(self, d_model=768,d_ff=2048, dropout=0.1):\n",
    "        super(PositionwiseFeedForward, self).__init__()\n",
    "        self.a=tf.keras.layers.Dense(units=d_ff)\n",
    "        self.b=tf.keras.layers.Dense(units=d_model)\n",
    "        self.c=tf.keras.layers.Dropout(dropout)\n",
    "\n",
    "    def call(self, inputs):\n",
    "        return self.b(self.c(tf.nn.relu(self.a(inputs))))\n",
    "\n",
    "##embeddings, projection_dim=embed_dim\n",
    "class PatchEmbedding(tf.keras.layers.Layer): \n",
    "  def __init__(self ,  cube_size, patch_size , embed_dim):\n",
    "        super(PatchEmbedding, self).__init__()\n",
    "        self.num_of_patches=int((cube_size[0]*cube_size[1]*cube_size[2])/(patch_size*patch_size*patch_size))\n",
    "        self.patch_size=patch_size\n",
    "        self.size = patch_size\n",
    "        self.embed_dim = embed_dim\n",
    "\n",
    "        self.projection = tf.keras.layers.Dense(embed_dim)\n",
    "\n",
    "        self.clsToken = tf.Variable(tf.keras.initializers.GlorotNormal()(shape=(1 , 512 , embed_dim)) , trainable=True)\n",
    "\n",
    "        self.positionalEmbedding = tf.keras.layers.Embedding(self.num_of_patches , embed_dim)\n",
    "        self.patches=None\n",
    "        self.lyer = tf.keras.layers.Conv3D(filters= self.embed_dim,kernel_size=self.patch_size, strides=self.patch_size,padding='valid')\n",
    "        #embedding - basically is adding numerical embedding to the layer along with an extra dim  \n",
    "      \n",
    "  def call(self , inputs):\n",
    "        patches =self.lyer(inputs)\n",
    "        patches = tf.reshape(patches , (tf.shape(inputs)[0] , -1 , self.size * self.size * 3))\n",
    "        patches = self.projection(patches)\n",
    "        positions = tf.range(0 , self.num_of_patches , 1)[tf.newaxis , ...]\n",
    "        positionalEmbedding = self.positionalEmbedding(positions)\n",
    "        patches = patches + positionalEmbedding\n",
    "\n",
    "        return patches, positionalEmbedding"
   ]
  },
  {
   "cell_type": "markdown",
   "id": "033f8162",
   "metadata": {
    "id": "mznQvGsEOJK5",
    "papermill": {
     "duration": 0.094213,
     "end_time": "2022-06-25T00:09:50.683496",
     "exception": false,
     "start_time": "2022-06-25T00:09:50.589283",
     "status": "completed"
    },
    "tags": []
   },
   "source": [
    "<div class=\"alert alert-block alert-info\">  \n",
    "\n",
    "A sequence representation zi (i ∈ {3,6,9,12}) is extracted with size H×W×D /P^3 ×K, from the transformer and reshaped into a (H/P) × (W/P) × (D/P) ×K tensor. At the bottleneck of the encoder (i.e. output of the transformer's last layer), a deconvolutional layer is applied to the transformed feature map to increase its resolution by a factor of 2. The resized feature map is then concatenated with the feature map of the previous transformer output (e.g. z9), and fed into consecutive 3 × 3 × 3 convolutional layers and the output is upsampled using a deconvolutional layer. This process is repeated for all the other subsequent layers up to the original input resolution where the final output is fed into a 1×1×1 convolutional layer with a softmax activation function to generate voxel-wise semantic predictions.\n",
    "    \n",
    "</div>\n",
    "\n",
    "# **<span style=\"color:#F7B2B0;\">Transformer Block</span>**\n"
   ]
  },
  {
   "cell_type": "code",
   "execution_count": 15,
   "id": "5dd342a1",
   "metadata": {
    "execution": {
     "iopub.execute_input": "2022-06-25T00:09:50.872563Z",
     "iopub.status.busy": "2022-06-25T00:09:50.872143Z",
     "iopub.status.idle": "2022-06-25T00:09:50.885008Z",
     "shell.execute_reply": "2022-06-25T00:09:50.884228Z"
    },
    "executionInfo": {
     "elapsed": 3,
     "status": "ok",
     "timestamp": 1655598853319,
     "user": {
      "displayName": "Tensor Girl",
      "userId": "02972928350054045429"
     },
     "user_tz": -330
    },
    "id": "Wyv90IvrTM7r",
    "papermill": {
     "duration": 0.108862,
     "end_time": "2022-06-25T00:09:50.886644",
     "exception": false,
     "start_time": "2022-06-25T00:09:50.777782",
     "status": "completed"
    },
    "tags": []
   },
   "outputs": [],
   "source": [
    "##transformerblock\n",
    "class TransformerLayer(tf.keras.layers.Layer):\n",
    "    def __init__(self ,  embed_dim, num_heads ,dropout, cube_size, patch_size):\n",
    "      super(TransformerLayer,self).__init__()\n",
    "\n",
    "      self.attention_norm = tf.keras.layers.LayerNormalization(epsilon=1e-6)\n",
    "\n",
    "      self.mlp_norm = tf.keras.layers.LayerNormalization(epsilon=1e-6)\n",
    "\n",
    "#embed_dim/no-of_heads\n",
    "      self.mlp_dim = int((cube_size[0] * cube_size[1] * cube_size[2]) / (patch_size * patch_size * patch_size))\n",
    "      \n",
    "      self.mlp = PositionwiseFeedForward(embed_dim,2048)\n",
    "      self.attn = SelfAttention(num_heads, embed_dim, dropout)\n",
    "    \n",
    "    def call(self ,x  , training=True):\n",
    "      h=x\n",
    "      x=self.attention_norm(x)\n",
    "      x,weights= self.attn(x)\n",
    "      x=x+h\n",
    "      h=x\n",
    "\n",
    "      x = self.mlp_norm(x)\n",
    "      x = self.mlp(x)\n",
    "\n",
    "      x = x + h\n",
    "\n",
    "      return x, weights\n",
    "\n",
    "\n",
    "class TransformerEncoder(tf.keras.layers.Layer):\n",
    "  def __init__(self ,embed_dim , num_heads,cube_size, patch_size , num_layers=12 , dropout=0.1,extract_layers=[3,6,9,12]):\n",
    "    super(TransformerEncoder,self).__init__()\n",
    "#  embed_dim, num_heads ,dropout, cube_size, patch_size\n",
    "    self.embeddings = PatchEmbedding(cube_size,patch_size, embed_dim)\n",
    "    self.extract_layers =extract_layers\n",
    "    self.encoders = [TransformerLayer(embed_dim, num_heads,dropout, cube_size, patch_size) for _ in range(num_layers)]\n",
    "  \n",
    "  def call(self , inputs , training=True):\n",
    "    extract_layers = []\n",
    "    x = inputs\n",
    "    x,_=self.embeddings(x)\n",
    "    \n",
    "    for depth,layer in enumerate(self.encoders):\n",
    "      x,_= layer(x , training=training)\n",
    "      if depth + 1 in self.extract_layers:\n",
    "                extract_layers.append(x)\n",
    "    \n",
    "    return extract_layers"
   ]
  },
  {
   "cell_type": "code",
   "execution_count": 16,
   "id": "87cb5c88",
   "metadata": {
    "execution": {
     "iopub.execute_input": "2022-06-25T00:09:51.076088Z",
     "iopub.status.busy": "2022-06-25T00:09:51.075770Z",
     "iopub.status.idle": "2022-06-25T00:09:51.095948Z",
     "shell.execute_reply": "2022-06-25T00:09:51.095080Z"
    },
    "executionInfo": {
     "elapsed": 3,
     "status": "ok",
     "timestamp": 1655598853319,
     "user": {
      "displayName": "Tensor Girl",
      "userId": "02972928350054045429"
     },
     "user_tz": -330
    },
    "id": "mvULdDmYdy_I",
    "papermill": {
     "duration": 0.11654,
     "end_time": "2022-06-25T00:09:51.097587",
     "exception": false,
     "start_time": "2022-06-25T00:09:50.981047",
     "status": "completed"
    },
    "tags": []
   },
   "outputs": [],
   "source": [
    "class UNETR(tf.keras.Model):\n",
    "    def __init__(self, img_shape=(96,96, 96), input_dim=3, output_dim=3, embed_dim=768, patch_size=16, num_heads=12, dropout=0.1):\n",
    "        super(UNETR,self).__init__()\n",
    "        self.input_dim = input_dim\n",
    "        self.output_dim = output_dim\n",
    "        self.embed_dim = embed_dim\n",
    "        self.img_shape = img_shape\n",
    "        self.patch_size = patch_size\n",
    "        self.num_heads = num_heads\n",
    "        self.dropout = dropout\n",
    "        self.num_layers = 12\n",
    "        self.ext_layers = [3, 6, 9, 12]\n",
    "        \n",
    "        self.patch_dim = [int(x / patch_size) for x in img_shape]\n",
    "        self.transformer = \\\n",
    "            TransformerEncoder(\n",
    "                self.embed_dim,\n",
    "                self.num_heads,\n",
    "                self.img_shape,\n",
    "                self.patch_size,\n",
    "                self.num_layers,\n",
    "                self.dropout,\n",
    "                self.ext_layers\n",
    "            )\n",
    "        \n",
    "        # U-Net Decoder\n",
    "        self.decoder0 = \\\n",
    "            tf.keras.Sequential([\n",
    "                Conv3DBlock(32, (3,3,3)),\n",
    "                Conv3DBlock(64, (3,3,3))]\n",
    "            )\n",
    "      \n",
    "        self.decoder3 = \\\n",
    "            tf.keras.Sequential([\n",
    "                Deconv3DBlock(512),\n",
    "                Deconv3DBlock(256),\n",
    "                Deconv3DBlock(128)]\n",
    "            )\n",
    "   \n",
    "        self.decoder6 = \\\n",
    "            tf.keras.Sequential([\n",
    "                Deconv3DBlock(512),\n",
    "                Deconv3DBlock(256)]\n",
    "            )\n",
    "    \n",
    "        self.decoder9 = \\\n",
    "            Deconv3DBlock(512)\n",
    "\n",
    "        self.decoder12_upsampler = \\\n",
    "            SingleDeconv3DBlock(512)\n",
    "\n",
    "        self.decoder9_upsampler = \\\n",
    "            tf.keras.Sequential([\n",
    "                Conv3DBlock(512),\n",
    "                Conv3DBlock(512),\n",
    "                Conv3DBlock(512),\n",
    "                SingleDeconv3DBlock(256)]\n",
    "            )\n",
    "\n",
    "        self.decoder6_upsampler = \\\n",
    "            tf.keras.Sequential([\n",
    "                Conv3DBlock(256),\n",
    "                Conv3DBlock(256),\n",
    "                SingleDeconv3DBlock(128)]\n",
    "            )\n",
    "\n",
    "        self.decoder3_upsampler = \\\n",
    "            tf.keras.Sequential(\n",
    "                [Conv3DBlock(128),\n",
    "                Conv3DBlock(128),\n",
    "                SingleDeconv3DBlock(64)]\n",
    "            )\n",
    "\n",
    "        self.decoder0_header = \\\n",
    "            tf.keras.Sequential(\n",
    "                [Conv3DBlock(64),\n",
    "                Conv3DBlock(64),\n",
    "                SingleConv3DBlock(output_dim, (1,1,1))]\n",
    "            ) \n",
    "\n",
    " \n",
    "    def call(self, x):\n",
    "        z = self.transformer(x)\n",
    "        z0, z3, z6, z9, z12 = x, z[0],z[1],z[2],z[3]\n",
    "        z3 = tf.reshape(tf.transpose(z3,perm=[0,2,1]),[-1,  *self.patch_dim,self.embed_dim])\n",
    "        z6 = tf.reshape(tf.transpose(z6,perm=[0,2,1]),[-1,  *self.patch_dim,self.embed_dim])\n",
    "        z9 = tf.reshape(tf.transpose(z9,perm=[0,2,1]),[-1,  *self.patch_dim,self.embed_dim])\n",
    "        z12 = tf.reshape(tf.transpose(z12,perm=[0,2,1]),[-1,  *self.patch_dim,self.embed_dim])\n",
    "        z12 = self.decoder12_upsampler(z12)\n",
    "        z9 = self.decoder9(z9)\n",
    "        z9 = self.decoder9_upsampler(tf.concat([z9, z12], 4))\n",
    "        z6 = self.decoder6(z6)\n",
    "        z6 = self.decoder6_upsampler(tf.concat([z6, z9], 4))\n",
    "        z3 = self.decoder3(z3)\n",
    "        z3 = self.decoder3_upsampler(tf.concat([z3, z6], 4))\n",
    "        z0 = self.decoder0(z0)\n",
    "        output = self.decoder0_header(tf.concat([z0, z3], 4))\n",
    "        return output\n",
    "        "
   ]
  },
  {
   "cell_type": "markdown",
   "id": "4665aa28",
   "metadata": {
    "papermill": {
     "duration": 0.092883,
     "end_time": "2022-06-25T00:09:51.283808",
     "exception": false,
     "start_time": "2022-06-25T00:09:51.190925",
     "status": "completed"
    },
    "tags": []
   },
   "source": [
    "# **<span style=\"color:#F7B2B0;\">Loss Functions</span>**"
   ]
  },
  {
   "cell_type": "code",
   "execution_count": 17,
   "id": "1a9432fa",
   "metadata": {
    "execution": {
     "iopub.execute_input": "2022-06-25T00:09:51.473047Z",
     "iopub.status.busy": "2022-06-25T00:09:51.472379Z",
     "iopub.status.idle": "2022-06-25T00:09:51.480154Z",
     "shell.execute_reply": "2022-06-25T00:09:51.479314Z"
    },
    "executionInfo": {
     "elapsed": 531215,
     "status": "ok",
     "timestamp": 1655599434924,
     "user": {
      "displayName": "Tensor Girl",
      "userId": "02972928350054045429"
     },
     "user_tz": -330
    },
    "id": "yV9fyOHfAd7O",
    "outputId": "57045962-2900-4208-a432-513296dda524",
    "papermill": {
     "duration": 0.104932,
     "end_time": "2022-06-25T00:09:51.481836",
     "exception": false,
     "start_time": "2022-06-25T00:09:51.376904",
     "status": "completed"
    },
    "tags": []
   },
   "outputs": [],
   "source": [
    "def tversky(y_true, y_pred, axis=(0, 1, 2), alpha=0.3, beta=0.7, smooth=0.0001):\n",
    "    \"Tversky metric\"\n",
    "    y_true = tf.cast(y_true, tf.float32)\n",
    "    y_pred = tf.cast(y_pred, tf.float32)\n",
    "    tp = tf.math.reduce_sum(y_true * y_pred, axis=axis) # calculate True Positive\n",
    "    fn = tf.math.reduce_sum(y_true * (1 - y_pred), axis=axis) # calculate False Negative\n",
    "    fp = tf.math.reduce_sum((1 - y_true) * y_pred, axis=axis) # calculate False Positive\n",
    "    tv = (tp + smooth) / (tp + alpha * fn + beta * fp + smooth) # calculate tversky\n",
    "    tv = tf.math.reduce_mean(tv)\n",
    "    return tv\n",
    "def focal_tversky_loss(y_true, y_pred, gamma=0.75):\n",
    "    \"Focal Tversky Loss: Focal Loss + Tversky Loss\"\n",
    "    tv = tversky(y_true, y_pred)\n",
    "    return k.pow((1 - tv), gamma)\n"
   ]
  },
  {
   "cell_type": "code",
   "execution_count": 18,
   "id": "c16e7f1e",
   "metadata": {
    "execution": {
     "iopub.execute_input": "2022-06-25T00:09:51.710838Z",
     "iopub.status.busy": "2022-06-25T00:09:51.710468Z",
     "iopub.status.idle": "2022-06-25T00:09:51.715153Z",
     "shell.execute_reply": "2022-06-25T00:09:51.714233Z"
    },
    "papermill": {
     "duration": 0.100869,
     "end_time": "2022-06-25T00:09:51.716945",
     "exception": false,
     "start_time": "2022-06-25T00:09:51.616076",
     "status": "completed"
    },
    "tags": []
   },
   "outputs": [],
   "source": [
    "custom_objs = {\n",
    "    \"tversky\": tversky,\n",
    "    \"focal_tversky_loss\": focal_tversky_loss,\n",
    "}\n",
    "tf.keras.utils.get_custom_objects().update(custom_objs)"
   ]
  },
  {
   "cell_type": "markdown",
   "id": "bf536efe",
   "metadata": {
    "papermill": {
     "duration": 0.097051,
     "end_time": "2022-06-25T00:09:51.908613",
     "exception": false,
     "start_time": "2022-06-25T00:09:51.811562",
     "status": "completed"
    },
    "tags": []
   },
   "source": [
    "# **<span style=\"color:#F7B2B0;\">Model Summary</span>**"
   ]
  },
  {
   "cell_type": "code",
   "execution_count": 19,
   "id": "892e450f",
   "metadata": {
    "execution": {
     "iopub.execute_input": "2022-06-25T00:09:52.097063Z",
     "iopub.status.busy": "2022-06-25T00:09:52.096324Z",
     "iopub.status.idle": "2022-06-25T00:10:30.156560Z",
     "shell.execute_reply": "2022-06-25T00:10:30.155725Z"
    },
    "papermill": {
     "duration": 38.25213,
     "end_time": "2022-06-25T00:10:30.254409",
     "exception": false,
     "start_time": "2022-06-25T00:09:52.002279",
     "status": "completed"
    },
    "tags": []
   },
   "outputs": [
    {
     "name": "stdout",
     "output_type": "stream",
     "text": [
      "Model: \"unetr_7\"\n",
      "_________________________________________________________________\n",
      "Layer (type)                 Output Shape              Param #   \n",
      "=================================================================\n",
      "transformer_encoder_7 (Trans multiple                  76755456  \n",
      "_________________________________________________________________\n",
      "sequential_170 (Sequential)  (None, 96, 96, 96, 64)    58368     \n",
      "_________________________________________________________________\n",
      "sequential_174 (Sequential)  (None, 48, 48, 48, 128)   13751552  \n",
      "_________________________________________________________________\n",
      "sequential_177 (Sequential)  (None, 24, 24, 24, 256)   13046272  \n",
      "_________________________________________________________________\n",
      "deconv3d_block_47 (Deconv3DB multiple                  10226688  \n",
      "_________________________________________________________________\n",
      "single_deconv3d_block_76 (Si multiple                  3146240   \n",
      "_________________________________________________________________\n",
      "sequential_182 (Sequential)  (None, 24, 24, 24, 256)   29368064  \n",
      "_________________________________________________________________\n",
      "sequential_185 (Sequential)  (None, 48, 48, 48, 128)   5573248   \n",
      "_________________________________________________________________\n",
      "sequential_188 (Sequential)  (None, 96, 96, 96, 64)    1393984   \n",
      "_________________________________________________________________\n",
      "sequential_191 (Sequential)  (None, 96, 96, 96, 3)     332611    \n",
      "=================================================================\n",
      "Total params: 153,652,483\n",
      "Trainable params: 153,643,075\n",
      "Non-trainable params: 9,408\n",
      "_________________________________________________________________\n"
     ]
    }
   ],
   "source": [
    "model = tf.keras.models.load_model('../input/unetr-model/unetr')\n",
    "model.summary()"
   ]
  },
  {
   "cell_type": "markdown",
   "id": "6bff05f7",
   "metadata": {
    "papermill": {
     "duration": 0.14238,
     "end_time": "2022-06-25T00:10:30.492254",
     "exception": false,
     "start_time": "2022-06-25T00:10:30.349874",
     "status": "completed"
    },
    "tags": []
   },
   "source": [
    "# **<span style=\"color:#F7B2B0;\">Making Predictions</span>**"
   ]
  },
  {
   "cell_type": "code",
   "execution_count": 20,
   "id": "f97d29c4",
   "metadata": {
    "_kg_hide-output": true,
    "execution": {
     "iopub.execute_input": "2022-06-25T00:10:30.838120Z",
     "iopub.status.busy": "2022-06-25T00:10:30.837571Z",
     "iopub.status.idle": "2022-06-25T00:10:54.872818Z",
     "shell.execute_reply": "2022-06-25T00:10:54.871886Z"
    },
    "executionInfo": {
     "elapsed": 15744,
     "status": "ok",
     "timestamp": 1655600158095,
     "user": {
      "displayName": "Tensor Girl",
      "userId": "02972928350054045429"
     },
     "user_tz": -330
    },
    "id": "dRwY76d6k3aK",
    "papermill": {
     "duration": 24.200816,
     "end_time": "2022-06-25T00:10:54.875170",
     "exception": false,
     "start_time": "2022-06-25T00:10:30.674354",
     "status": "completed"
    },
    "tags": []
   },
   "outputs": [
    {
     "name": "stderr",
     "output_type": "stream",
     "text": [
      "2022-06-25 00:10:30.964400: I tensorflow/compiler/mlir/mlir_graph_optimization_pass.cc:185] None of the MLIR Optimization Passes are enabled (registered 2)\n",
      "2022-06-25 00:10:45.863471: I tensorflow/stream_executor/cuda/cuda_dnn.cc:369] Loaded cuDNN version 8005\n"
     ]
    }
   ],
   "source": [
    "pred = model.predict(ds.skip(200).take(1))\n"
   ]
  },
  {
   "cell_type": "markdown",
   "id": "7ebe53da",
   "metadata": {
    "papermill": {
     "duration": 0.094707,
     "end_time": "2022-06-25T00:10:55.066625",
     "exception": false,
     "start_time": "2022-06-25T00:10:54.971918",
     "status": "completed"
    },
    "tags": []
   },
   "source": [
    "# **<span style=\"color:#F7B2B0;\">Saving the trained model using W&B artifacts</span>**\n"
   ]
  },
  {
   "cell_type": "markdown",
   "id": "d327c43b",
   "metadata": {
    "papermill": {
     "duration": 0.092638,
     "end_time": "2022-06-25T00:10:55.253191",
     "exception": false,
     "start_time": "2022-06-25T00:10:55.160553",
     "status": "completed"
    },
    "tags": []
   },
   "source": []
  },
  {
   "cell_type": "code",
   "execution_count": 21,
   "id": "c555478a",
   "metadata": {
    "_kg_hide-output": true,
    "execution": {
     "iopub.execute_input": "2022-06-25T00:10:55.441864Z",
     "iopub.status.busy": "2022-06-25T00:10:55.441492Z",
     "iopub.status.idle": "2022-06-25T00:11:47.322645Z",
     "shell.execute_reply": "2022-06-25T00:11:47.321826Z"
    },
    "papermill": {
     "duration": 51.977442,
     "end_time": "2022-06-25T00:11:47.324430",
     "exception": false,
     "start_time": "2022-06-25T00:10:55.346988",
     "status": "completed"
    },
    "tags": []
   },
   "outputs": [
    {
     "name": "stderr",
     "output_type": "stream",
     "text": [
      "2022-06-25 00:11:01.379204: W tensorflow/python/util/util.cc:348] Sets are not currently considered sequences, but this may change in the future, so consider avoiding using them.\n"
     ]
    },
    {
     "data": {
      "text/html": [
       "wandb version 0.12.19 is available!  To upgrade, please run:\n",
       " $ pip install wandb --upgrade"
      ],
      "text/plain": [
       "<IPython.core.display.HTML object>"
      ]
     },
     "metadata": {},
     "output_type": "display_data"
    },
    {
     "data": {
      "text/html": [
       "Tracking run with wandb version 0.12.16"
      ],
      "text/plain": [
       "<IPython.core.display.HTML object>"
      ]
     },
     "metadata": {},
     "output_type": "display_data"
    },
    {
     "data": {
      "text/html": [
       "Run data is saved locally in <code>/kaggle/working/wandb/run-20220625_001128-25d3rtmg</code>"
      ],
      "text/plain": [
       "<IPython.core.display.HTML object>"
      ]
     },
     "metadata": {},
     "output_type": "display_data"
    },
    {
     "data": {
      "text/html": [
       "Syncing run <strong><a href=\"https://wandb.ai/usharengaraju/UW-Madison-Viz/runs/25d3rtmg\" target=\"_blank\">UNETR_model</a></strong> to <a href=\"https://wandb.ai/usharengaraju/UW-Madison-Viz\" target=\"_blank\">Weights & Biases</a> (<a href=\"https://wandb.me/run\" target=\"_blank\">docs</a>)<br/>"
      ],
      "text/plain": [
       "<IPython.core.display.HTML object>"
      ]
     },
     "metadata": {},
     "output_type": "display_data"
    },
    {
     "name": "stderr",
     "output_type": "stream",
     "text": [
      "\u001b[34m\u001b[1mwandb\u001b[0m: Adding directory to artifact (./wandb_model)... Done. 5.4s\n"
     ]
    },
    {
     "data": {
      "text/html": [
       "Waiting for W&B process to finish... <strong style=\"color:green\">(success).</strong>"
      ],
      "text/plain": [
       "<IPython.core.display.HTML object>"
      ]
     },
     "metadata": {},
     "output_type": "display_data"
    },
    {
     "data": {
      "application/vnd.jupyter.widget-view+json": {
       "model_id": "afb47f7c53924cc5bd843153560ef6c4",
       "version_major": 2,
       "version_minor": 0
      },
      "text/plain": [
       "VBox(children=(Label(value='596.362 MB of 596.362 MB uploaded (0.241 MB deduped)\\r'), FloatProgress(value=1.0,…"
      ]
     },
     "metadata": {},
     "output_type": "display_data"
    },
    {
     "data": {
      "text/html": [
       "Synced <strong style=\"color:#cdcd00\">UNETR_model</strong>: <a href=\"https://wandb.ai/usharengaraju/UW-Madison-Viz/runs/25d3rtmg\" target=\"_blank\">https://wandb.ai/usharengaraju/UW-Madison-Viz/runs/25d3rtmg</a><br/>Synced 5 W&B file(s), 0 media file(s), 4 artifact file(s) and 0 other file(s)"
      ],
      "text/plain": [
       "<IPython.core.display.HTML object>"
      ]
     },
     "metadata": {},
     "output_type": "display_data"
    },
    {
     "data": {
      "text/html": [
       "Find logs at: <code>./wandb/run-20220625_001128-25d3rtmg/logs</code>"
      ],
      "text/plain": [
       "<IPython.core.display.HTML object>"
      ]
     },
     "metadata": {},
     "output_type": "display_data"
    }
   ],
   "source": [
    "# Save the trained model to W&B Artifacts\n",
    "model.save(\"./wandb_model\")\n",
    "run = wandb.init(project='UW-Madison-Viz', name='UNETR_model') \n",
    "trainedmodel_artifact = wandb.Artifact(name='UNETR_model',type='model')\n",
    "trainedmodel_artifact.add_dir(\"./wandb_model\")\n",
    "wandb.log_artifact(trainedmodel_artifact)\n",
    "wandb.finish()"
   ]
  },
  {
   "cell_type": "markdown",
   "id": "f77d9fda",
   "metadata": {
    "papermill": {
     "duration": 0.17728,
     "end_time": "2022-06-25T00:11:47.622357",
     "exception": false,
     "start_time": "2022-06-25T00:11:47.445077",
     "status": "completed"
    },
    "tags": []
   },
   "source": [
    "![](https://i.imgur.com/WjhawzU.png)"
   ]
  },
  {
   "cell_type": "markdown",
   "id": "21c52423",
   "metadata": {
    "papermill": {
     "duration": 0.158827,
     "end_time": "2022-06-25T00:11:47.939193",
     "exception": false,
     "start_time": "2022-06-25T00:11:47.780366",
     "status": "completed"
    },
    "tags": []
   },
   "source": [
    "UNETR achieves new state-of-the-art performance in both Standard and Free Competitions on the BTCV leaderboard for the multi-organ segmentation and outperforms competing approaches for brain tumour and spleen segmentation on the MSD dataset. This model can be the foundation for a new class of transformer-based segmentation models in medical images analysis. \n",
    "\n",
    "## **<span style=\"color:#F7B2B0;\">Acknowledgements</span>**\n",
    "\n",
    "Google supported this work by providing Google Cloud Credits\n",
    "\n",
    "## **<span style=\"color:#F7B2B0;\">References</span>**\n",
    "\n",
    "\n",
    "https://arxiv.org/pdf/2103.10504.pdf\n",
    "\n",
    "https://github.com/tamasino52/UNETR (Pytorch)\n",
    "\n",
    "https://github.com/Project-MONAI/tutorials/blob/main/3d_segmentation/unetr_btcv_segmentation_3d_lightning.ipynb (Pytorch)\n",
    "\n",
    "https://www.kaggle.com/code/ayuraj/quick-data-eda-segmentation-viz-using-w-b\n",
    "\n",
    "https://www.kaggle.com/code/awsaf49/uwmgi-transunet-2-5d-train-tf\n",
    "\n",
    "https://www.kaggle.com/datasets/awsaf49/uwmgi-25d-tfrecord-dataset\n",
    "\n",
    "https://www.kaggle.com/code/bsridatta/eda-for-a-healthy-gi-tract\n",
    "\n",
    "https://www.kaggle.com/datasets/bsridatta/uwmadison-flattened-metadata\n"
   ]
  }
 ],
 "metadata": {
  "kernelspec": {
   "display_name": "Python 3",
   "language": "python",
   "name": "python3"
  },
  "language_info": {
   "codemirror_mode": {
    "name": "ipython",
    "version": 3
   },
   "file_extension": ".py",
   "mimetype": "text/x-python",
   "name": "python",
   "nbconvert_exporter": "python",
   "pygments_lexer": "ipython3",
   "version": "3.7.12"
  },
  "papermill": {
   "default_parameters": {},
   "duration": 353.662253,
   "end_time": "2022-06-25T00:11:50.996936",
   "environment_variables": {},
   "exception": null,
   "input_path": "__notebook__.ipynb",
   "output_path": "__notebook__.ipynb",
   "parameters": {},
   "start_time": "2022-06-25T00:05:57.334683",
   "version": "2.3.4"
  },
  "widgets": {
   "application/vnd.jupyter.widget-state+json": {
    "state": {
     "019bad1027474f6889172e99beae4066": {
      "model_module": "@jupyter-widgets/controls",
      "model_module_version": "1.5.0",
      "model_name": "FloatProgressModel",
      "state": {
       "_dom_classes": [],
       "_model_module": "@jupyter-widgets/controls",
       "_model_module_version": "1.5.0",
       "_model_name": "FloatProgressModel",
       "_view_count": null,
       "_view_module": "@jupyter-widgets/controls",
       "_view_module_version": "1.5.0",
       "_view_name": "ProgressView",
       "bar_style": "",
       "description": "",
       "description_tooltip": null,
       "layout": "IPY_MODEL_177e46be4fa543638262bbc124173ba4",
       "max": 1.0,
       "min": 0.0,
       "orientation": "horizontal",
       "style": "IPY_MODEL_d6e0aa1a60cf428fa80919df5075ce41",
       "value": 0.0
      }
     },
     "0204d7fb27674cc7ac3b0f486c19ba76": {
      "model_module": "@jupyter-widgets/controls",
      "model_module_version": "1.5.0",
      "model_name": "ProgressStyleModel",
      "state": {
       "_model_module": "@jupyter-widgets/controls",
       "_model_module_version": "1.5.0",
       "_model_name": "ProgressStyleModel",
       "_view_count": null,
       "_view_module": "@jupyter-widgets/base",
       "_view_module_version": "1.2.0",
       "_view_name": "StyleView",
       "bar_color": null,
       "description_width": ""
      }
     },
     "05bcc2e917ff4b469b436062f5352100": {
      "model_module": "@jupyter-widgets/controls",
      "model_module_version": "1.5.0",
      "model_name": "FloatProgressModel",
      "state": {
       "_dom_classes": [],
       "_model_module": "@jupyter-widgets/controls",
       "_model_module_version": "1.5.0",
       "_model_name": "FloatProgressModel",
       "_view_count": null,
       "_view_module": "@jupyter-widgets/controls",
       "_view_module_version": "1.5.0",
       "_view_name": "ProgressView",
       "bar_style": "",
       "description": "",
       "description_tooltip": null,
       "layout": "IPY_MODEL_4227fcdcb7e244f1ab71e47d66647a0d",
       "max": 1.0,
       "min": 0.0,
       "orientation": "horizontal",
       "style": "IPY_MODEL_79a20dcbd8c742239d26e7e95867f87c",
       "value": 1.0
      }
     },
     "0a5f98088f074b1e962119176900646e": {
      "model_module": "@jupyter-widgets/controls",
      "model_module_version": "1.5.0",
      "model_name": "DescriptionStyleModel",
      "state": {
       "_model_module": "@jupyter-widgets/controls",
       "_model_module_version": "1.5.0",
       "_model_name": "DescriptionStyleModel",
       "_view_count": null,
       "_view_module": "@jupyter-widgets/base",
       "_view_module_version": "1.2.0",
       "_view_name": "StyleView",
       "description_width": ""
      }
     },
     "0c7f54426daa454993bc0644b7f7b432": {
      "model_module": "@jupyter-widgets/controls",
      "model_module_version": "1.5.0",
      "model_name": "FloatProgressModel",
      "state": {
       "_dom_classes": [],
       "_model_module": "@jupyter-widgets/controls",
       "_model_module_version": "1.5.0",
       "_model_name": "FloatProgressModel",
       "_view_count": null,
       "_view_module": "@jupyter-widgets/controls",
       "_view_module_version": "1.5.0",
       "_view_name": "ProgressView",
       "bar_style": "",
       "description": "",
       "description_tooltip": null,
       "layout": "IPY_MODEL_ded6a1db297d44f0864daad7d80af4c6",
       "max": 1.0,
       "min": 0.0,
       "orientation": "horizontal",
       "style": "IPY_MODEL_44c2dfb5eae44b2dbd513b5baa91228e",
       "value": 0.0
      }
     },
     "0db042ef52fc4964b7930d6f63b1a97f": {
      "model_module": "@jupyter-widgets/controls",
      "model_module_version": "1.5.0",
      "model_name": "LabelModel",
      "state": {
       "_dom_classes": [],
       "_model_module": "@jupyter-widgets/controls",
       "_model_module_version": "1.5.0",
       "_model_name": "LabelModel",
       "_view_count": null,
       "_view_module": "@jupyter-widgets/controls",
       "_view_module_version": "1.5.0",
       "_view_name": "LabelView",
       "description": "",
       "description_tooltip": null,
       "layout": "IPY_MODEL_72d69a5c59b74265bac51e8bdf2831d7",
       "placeholder": "​",
       "style": "IPY_MODEL_0a5f98088f074b1e962119176900646e",
       "value": "0.015 MB of 0.015 MB uploaded (0.000 MB deduped)\r"
      }
     },
     "10bda81389774797a917351ae7a68eef": {
      "model_module": "@jupyter-widgets/controls",
      "model_module_version": "1.5.0",
      "model_name": "LabelModel",
      "state": {
       "_dom_classes": [],
       "_model_module": "@jupyter-widgets/controls",
       "_model_module_version": "1.5.0",
       "_model_name": "LabelModel",
       "_view_count": null,
       "_view_module": "@jupyter-widgets/controls",
       "_view_module_version": "1.5.0",
       "_view_name": "LabelView",
       "description": "",
       "description_tooltip": null,
       "layout": "IPY_MODEL_3930612f29f749b9a65b9668208cfd81",
       "placeholder": "​",
       "style": "IPY_MODEL_20cf52f3bc1a4ba2be661ec1dcd863c3",
       "value": "596.376 MB of 596.376 MB uploaded (0.241 MB deduped)\r"
      }
     },
     "118c8755d266490588f7e76e8b841460": {
      "model_module": "@jupyter-widgets/controls",
      "model_module_version": "1.5.0",
      "model_name": "DescriptionStyleModel",
      "state": {
       "_model_module": "@jupyter-widgets/controls",
       "_model_module_version": "1.5.0",
       "_model_name": "DescriptionStyleModel",
       "_view_count": null,
       "_view_module": "@jupyter-widgets/base",
       "_view_module_version": "1.2.0",
       "_view_name": "StyleView",
       "description_width": ""
      }
     },
     "141edd6a387940aa9cc00e4da89aef13": {
      "model_module": "@jupyter-widgets/base",
      "model_module_version": "1.2.0",
      "model_name": "LayoutModel",
      "state": {
       "_model_module": "@jupyter-widgets/base",
       "_model_module_version": "1.2.0",
       "_model_name": "LayoutModel",
       "_view_count": null,
       "_view_module": "@jupyter-widgets/base",
       "_view_module_version": "1.2.0",
       "_view_name": "LayoutView",
       "align_content": null,
       "align_items": null,
       "align_self": null,
       "border": null,
       "bottom": null,
       "display": null,
       "flex": null,
       "flex_flow": null,
       "grid_area": null,
       "grid_auto_columns": null,
       "grid_auto_flow": null,
       "grid_auto_rows": null,
       "grid_column": null,
       "grid_gap": null,
       "grid_row": null,
       "grid_template_areas": null,
       "grid_template_columns": null,
       "grid_template_rows": null,
       "height": null,
       "justify_content": null,
       "justify_items": null,
       "left": null,
       "margin": null,
       "max_height": null,
       "max_width": null,
       "min_height": null,
       "min_width": null,
       "object_fit": null,
       "object_position": null,
       "order": null,
       "overflow": null,
       "overflow_x": null,
       "overflow_y": null,
       "padding": null,
       "right": null,
       "top": null,
       "visibility": null,
       "width": null
      }
     },
     "1510a56be2c74526bb8aba45679d31b3": {
      "model_module": "@jupyter-widgets/base",
      "model_module_version": "1.2.0",
      "model_name": "LayoutModel",
      "state": {
       "_model_module": "@jupyter-widgets/base",
       "_model_module_version": "1.2.0",
       "_model_name": "LayoutModel",
       "_view_count": null,
       "_view_module": "@jupyter-widgets/base",
       "_view_module_version": "1.2.0",
       "_view_name": "LayoutView",
       "align_content": null,
       "align_items": null,
       "align_self": null,
       "border": null,
       "bottom": null,
       "display": null,
       "flex": null,
       "flex_flow": null,
       "grid_area": null,
       "grid_auto_columns": null,
       "grid_auto_flow": null,
       "grid_auto_rows": null,
       "grid_column": null,
       "grid_gap": null,
       "grid_row": null,
       "grid_template_areas": null,
       "grid_template_columns": null,
       "grid_template_rows": null,
       "height": null,
       "justify_content": null,
       "justify_items": null,
       "left": null,
       "margin": null,
       "max_height": null,
       "max_width": null,
       "min_height": null,
       "min_width": null,
       "object_fit": null,
       "object_position": null,
       "order": null,
       "overflow": null,
       "overflow_x": null,
       "overflow_y": null,
       "padding": null,
       "right": null,
       "top": null,
       "visibility": null,
       "width": null
      }
     },
     "170089838c8843ba94199ea75ad12ed2": {
      "model_module": "@jupyter-widgets/controls",
      "model_module_version": "1.5.0",
      "model_name": "FloatProgressModel",
      "state": {
       "_dom_classes": [],
       "_model_module": "@jupyter-widgets/controls",
       "_model_module_version": "1.5.0",
       "_model_name": "FloatProgressModel",
       "_view_count": null,
       "_view_module": "@jupyter-widgets/controls",
       "_view_module_version": "1.5.0",
       "_view_name": "ProgressView",
       "bar_style": "",
       "description": "",
       "description_tooltip": null,
       "layout": "IPY_MODEL_aa9ce775af404e8ba80b5dfb5d8fc64a",
       "max": 1.0,
       "min": 0.0,
       "orientation": "horizontal",
       "style": "IPY_MODEL_0204d7fb27674cc7ac3b0f486c19ba76",
       "value": 1.0
      }
     },
     "177e46be4fa543638262bbc124173ba4": {
      "model_module": "@jupyter-widgets/base",
      "model_module_version": "1.2.0",
      "model_name": "LayoutModel",
      "state": {
       "_model_module": "@jupyter-widgets/base",
       "_model_module_version": "1.2.0",
       "_model_name": "LayoutModel",
       "_view_count": null,
       "_view_module": "@jupyter-widgets/base",
       "_view_module_version": "1.2.0",
       "_view_name": "LayoutView",
       "align_content": null,
       "align_items": null,
       "align_self": null,
       "border": null,
       "bottom": null,
       "display": null,
       "flex": null,
       "flex_flow": null,
       "grid_area": null,
       "grid_auto_columns": null,
       "grid_auto_flow": null,
       "grid_auto_rows": null,
       "grid_column": null,
       "grid_gap": null,
       "grid_row": null,
       "grid_template_areas": null,
       "grid_template_columns": null,
       "grid_template_rows": null,
       "height": null,
       "justify_content": null,
       "justify_items": null,
       "left": null,
       "margin": null,
       "max_height": null,
       "max_width": null,
       "min_height": null,
       "min_width": null,
       "object_fit": null,
       "object_position": null,
       "order": null,
       "overflow": null,
       "overflow_x": null,
       "overflow_y": null,
       "padding": null,
       "right": null,
       "top": null,
       "visibility": null,
       "width": null
      }
     },
     "1adf9aef2900421396a87054cbb0c16b": {
      "model_module": "@jupyter-widgets/controls",
      "model_module_version": "1.5.0",
      "model_name": "LabelModel",
      "state": {
       "_dom_classes": [],
       "_model_module": "@jupyter-widgets/controls",
       "_model_module_version": "1.5.0",
       "_model_name": "LabelModel",
       "_view_count": null,
       "_view_module": "@jupyter-widgets/controls",
       "_view_module_version": "1.5.0",
       "_view_name": "LabelView",
       "description": "",
       "description_tooltip": null,
       "layout": "IPY_MODEL_80e0c4e520224affb64ca4c6b2ad3f65",
       "placeholder": "​",
       "style": "IPY_MODEL_3b3fb12e062946359a772ee2bb04658b",
       "value": "1.012 MB of 1.012 MB uploaded (0.000 MB deduped)\r"
      }
     },
     "1bdb731504294d7f9aa055d5365ecf5e": {
      "model_module": "@jupyter-widgets/controls",
      "model_module_version": "1.5.0",
      "model_name": "FloatProgressModel",
      "state": {
       "_dom_classes": [],
       "_model_module": "@jupyter-widgets/controls",
       "_model_module_version": "1.5.0",
       "_model_name": "FloatProgressModel",
       "_view_count": null,
       "_view_module": "@jupyter-widgets/controls",
       "_view_module_version": "1.5.0",
       "_view_name": "ProgressView",
       "bar_style": "",
       "description": "",
       "description_tooltip": null,
       "layout": "IPY_MODEL_307bffde0d75423a9a2596bb0b3b6c8f",
       "max": 1.0,
       "min": 0.0,
       "orientation": "horizontal",
       "style": "IPY_MODEL_465b59420f7d46e6a7390276c25e0094",
       "value": 1.0
      }
     },
     "1c49fc56069f4ac7abc3dc2805a7b7f9": {
      "model_module": "@jupyter-widgets/base",
      "model_module_version": "1.2.0",
      "model_name": "LayoutModel",
      "state": {
       "_model_module": "@jupyter-widgets/base",
       "_model_module_version": "1.2.0",
       "_model_name": "LayoutModel",
       "_view_count": null,
       "_view_module": "@jupyter-widgets/base",
       "_view_module_version": "1.2.0",
       "_view_name": "LayoutView",
       "align_content": null,
       "align_items": null,
       "align_self": null,
       "border": null,
       "bottom": null,
       "display": null,
       "flex": null,
       "flex_flow": null,
       "grid_area": null,
       "grid_auto_columns": null,
       "grid_auto_flow": null,
       "grid_auto_rows": null,
       "grid_column": null,
       "grid_gap": null,
       "grid_row": null,
       "grid_template_areas": null,
       "grid_template_columns": null,
       "grid_template_rows": null,
       "height": null,
       "justify_content": null,
       "justify_items": null,
       "left": null,
       "margin": null,
       "max_height": null,
       "max_width": null,
       "min_height": null,
       "min_width": null,
       "object_fit": null,
       "object_position": null,
       "order": null,
       "overflow": null,
       "overflow_x": null,
       "overflow_y": null,
       "padding": null,
       "right": null,
       "top": null,
       "visibility": null,
       "width": null
      }
     },
     "1f9d19d2467c4846b4061d3cecd86db1": {
      "model_module": "@jupyter-widgets/base",
      "model_module_version": "1.2.0",
      "model_name": "LayoutModel",
      "state": {
       "_model_module": "@jupyter-widgets/base",
       "_model_module_version": "1.2.0",
       "_model_name": "LayoutModel",
       "_view_count": null,
       "_view_module": "@jupyter-widgets/base",
       "_view_module_version": "1.2.0",
       "_view_name": "LayoutView",
       "align_content": null,
       "align_items": null,
       "align_self": null,
       "border": null,
       "bottom": null,
       "display": null,
       "flex": null,
       "flex_flow": null,
       "grid_area": null,
       "grid_auto_columns": null,
       "grid_auto_flow": null,
       "grid_auto_rows": null,
       "grid_column": null,
       "grid_gap": null,
       "grid_row": null,
       "grid_template_areas": null,
       "grid_template_columns": null,
       "grid_template_rows": null,
       "height": null,
       "justify_content": null,
       "justify_items": null,
       "left": null,
       "margin": null,
       "max_height": null,
       "max_width": null,
       "min_height": null,
       "min_width": null,
       "object_fit": null,
       "object_position": null,
       "order": null,
       "overflow": null,
       "overflow_x": null,
       "overflow_y": null,
       "padding": null,
       "right": null,
       "top": null,
       "visibility": null,
       "width": null
      }
     },
     "20cf52f3bc1a4ba2be661ec1dcd863c3": {
      "model_module": "@jupyter-widgets/controls",
      "model_module_version": "1.5.0",
      "model_name": "DescriptionStyleModel",
      "state": {
       "_model_module": "@jupyter-widgets/controls",
       "_model_module_version": "1.5.0",
       "_model_name": "DescriptionStyleModel",
       "_view_count": null,
       "_view_module": "@jupyter-widgets/base",
       "_view_module_version": "1.2.0",
       "_view_name": "StyleView",
       "description_width": ""
      }
     },
     "239b904e8c7f4c6ca66f9e538d04745b": {
      "model_module": "@jupyter-widgets/controls",
      "model_module_version": "1.5.0",
      "model_name": "VBoxModel",
      "state": {
       "_dom_classes": [],
       "_model_module": "@jupyter-widgets/controls",
       "_model_module_version": "1.5.0",
       "_model_name": "VBoxModel",
       "_view_count": null,
       "_view_module": "@jupyter-widgets/controls",
       "_view_module_version": "1.5.0",
       "_view_name": "VBoxView",
       "box_style": "",
       "children": [
        "IPY_MODEL_a81484ba5a8c45cab3dbb68efb3bfac1",
        "IPY_MODEL_7cb753cbc67d41c6828a5b2a5e8e2815"
       ],
       "layout": "IPY_MODEL_e8713070f14b44efb133da833b43684a"
      }
     },
     "2e046bb885d541c8bb6c83fcd23ecf2d": {
      "model_module": "@jupyter-widgets/base",
      "model_module_version": "1.2.0",
      "model_name": "LayoutModel",
      "state": {
       "_model_module": "@jupyter-widgets/base",
       "_model_module_version": "1.2.0",
       "_model_name": "LayoutModel",
       "_view_count": null,
       "_view_module": "@jupyter-widgets/base",
       "_view_module_version": "1.2.0",
       "_view_name": "LayoutView",
       "align_content": null,
       "align_items": null,
       "align_self": null,
       "border": null,
       "bottom": null,
       "display": null,
       "flex": null,
       "flex_flow": null,
       "grid_area": null,
       "grid_auto_columns": null,
       "grid_auto_flow": null,
       "grid_auto_rows": null,
       "grid_column": null,
       "grid_gap": null,
       "grid_row": null,
       "grid_template_areas": null,
       "grid_template_columns": null,
       "grid_template_rows": null,
       "height": null,
       "justify_content": null,
       "justify_items": null,
       "left": null,
       "margin": null,
       "max_height": null,
       "max_width": null,
       "min_height": null,
       "min_width": null,
       "object_fit": null,
       "object_position": null,
       "order": null,
       "overflow": null,
       "overflow_x": null,
       "overflow_y": null,
       "padding": null,
       "right": null,
       "top": null,
       "visibility": null,
       "width": null
      }
     },
     "307bffde0d75423a9a2596bb0b3b6c8f": {
      "model_module": "@jupyter-widgets/base",
      "model_module_version": "1.2.0",
      "model_name": "LayoutModel",
      "state": {
       "_model_module": "@jupyter-widgets/base",
       "_model_module_version": "1.2.0",
       "_model_name": "LayoutModel",
       "_view_count": null,
       "_view_module": "@jupyter-widgets/base",
       "_view_module_version": "1.2.0",
       "_view_name": "LayoutView",
       "align_content": null,
       "align_items": null,
       "align_self": null,
       "border": null,
       "bottom": null,
       "display": null,
       "flex": null,
       "flex_flow": null,
       "grid_area": null,
       "grid_auto_columns": null,
       "grid_auto_flow": null,
       "grid_auto_rows": null,
       "grid_column": null,
       "grid_gap": null,
       "grid_row": null,
       "grid_template_areas": null,
       "grid_template_columns": null,
       "grid_template_rows": null,
       "height": null,
       "justify_content": null,
       "justify_items": null,
       "left": null,
       "margin": null,
       "max_height": null,
       "max_width": null,
       "min_height": null,
       "min_width": null,
       "object_fit": null,
       "object_position": null,
       "order": null,
       "overflow": null,
       "overflow_x": null,
       "overflow_y": null,
       "padding": null,
       "right": null,
       "top": null,
       "visibility": null,
       "width": null
      }
     },
     "36fe4c8de0804aa2a337dae64bad0a3f": {
      "model_module": "@jupyter-widgets/base",
      "model_module_version": "1.2.0",
      "model_name": "LayoutModel",
      "state": {
       "_model_module": "@jupyter-widgets/base",
       "_model_module_version": "1.2.0",
       "_model_name": "LayoutModel",
       "_view_count": null,
       "_view_module": "@jupyter-widgets/base",
       "_view_module_version": "1.2.0",
       "_view_name": "LayoutView",
       "align_content": null,
       "align_items": null,
       "align_self": null,
       "border": null,
       "bottom": null,
       "display": null,
       "flex": null,
       "flex_flow": null,
       "grid_area": null,
       "grid_auto_columns": null,
       "grid_auto_flow": null,
       "grid_auto_rows": null,
       "grid_column": null,
       "grid_gap": null,
       "grid_row": null,
       "grid_template_areas": null,
       "grid_template_columns": null,
       "grid_template_rows": null,
       "height": null,
       "justify_content": null,
       "justify_items": null,
       "left": null,
       "margin": null,
       "max_height": null,
       "max_width": null,
       "min_height": null,
       "min_width": null,
       "object_fit": null,
       "object_position": null,
       "order": null,
       "overflow": null,
       "overflow_x": null,
       "overflow_y": null,
       "padding": null,
       "right": null,
       "top": null,
       "visibility": null,
       "width": null
      }
     },
     "38b782110fbd4ec7add8b3e7d62be399": {
      "model_module": "@jupyter-widgets/controls",
      "model_module_version": "1.5.0",
      "model_name": "ProgressStyleModel",
      "state": {
       "_model_module": "@jupyter-widgets/controls",
       "_model_module_version": "1.5.0",
       "_model_name": "ProgressStyleModel",
       "_view_count": null,
       "_view_module": "@jupyter-widgets/base",
       "_view_module_version": "1.2.0",
       "_view_name": "StyleView",
       "bar_color": null,
       "description_width": ""
      }
     },
     "3930612f29f749b9a65b9668208cfd81": {
      "model_module": "@jupyter-widgets/base",
      "model_module_version": "1.2.0",
      "model_name": "LayoutModel",
      "state": {
       "_model_module": "@jupyter-widgets/base",
       "_model_module_version": "1.2.0",
       "_model_name": "LayoutModel",
       "_view_count": null,
       "_view_module": "@jupyter-widgets/base",
       "_view_module_version": "1.2.0",
       "_view_name": "LayoutView",
       "align_content": null,
       "align_items": null,
       "align_self": null,
       "border": null,
       "bottom": null,
       "display": null,
       "flex": null,
       "flex_flow": null,
       "grid_area": null,
       "grid_auto_columns": null,
       "grid_auto_flow": null,
       "grid_auto_rows": null,
       "grid_column": null,
       "grid_gap": null,
       "grid_row": null,
       "grid_template_areas": null,
       "grid_template_columns": null,
       "grid_template_rows": null,
       "height": null,
       "justify_content": null,
       "justify_items": null,
       "left": null,
       "margin": null,
       "max_height": null,
       "max_width": null,
       "min_height": null,
       "min_width": null,
       "object_fit": null,
       "object_position": null,
       "order": null,
       "overflow": null,
       "overflow_x": null,
       "overflow_y": null,
       "padding": null,
       "right": null,
       "top": null,
       "visibility": null,
       "width": null
      }
     },
     "3b3fb12e062946359a772ee2bb04658b": {
      "model_module": "@jupyter-widgets/controls",
      "model_module_version": "1.5.0",
      "model_name": "DescriptionStyleModel",
      "state": {
       "_model_module": "@jupyter-widgets/controls",
       "_model_module_version": "1.5.0",
       "_model_name": "DescriptionStyleModel",
       "_view_count": null,
       "_view_module": "@jupyter-widgets/base",
       "_view_module_version": "1.2.0",
       "_view_name": "StyleView",
       "description_width": ""
      }
     },
     "3bb958321a2f451c9abc3b336de067f3": {
      "model_module": "@jupyter-widgets/controls",
      "model_module_version": "1.5.0",
      "model_name": "FloatProgressModel",
      "state": {
       "_dom_classes": [],
       "_model_module": "@jupyter-widgets/controls",
       "_model_module_version": "1.5.0",
       "_model_name": "FloatProgressModel",
       "_view_count": null,
       "_view_module": "@jupyter-widgets/controls",
       "_view_module_version": "1.5.0",
       "_view_name": "ProgressView",
       "bar_style": "",
       "description": "",
       "description_tooltip": null,
       "layout": "IPY_MODEL_60dd26bb810040a6904c724f51fbfddc",
       "max": 1.0,
       "min": 0.0,
       "orientation": "horizontal",
       "style": "IPY_MODEL_95a1b1ed0ae54dd8a5e3445c9a923657",
       "value": 1.0
      }
     },
     "3ed4eeef23944e30b5a6cc9aa1bd20ee": {
      "model_module": "@jupyter-widgets/controls",
      "model_module_version": "1.5.0",
      "model_name": "VBoxModel",
      "state": {
       "_dom_classes": [],
       "_model_module": "@jupyter-widgets/controls",
       "_model_module_version": "1.5.0",
       "_model_name": "VBoxModel",
       "_view_count": null,
       "_view_module": "@jupyter-widgets/controls",
       "_view_module_version": "1.5.0",
       "_view_name": "VBoxView",
       "box_style": "",
       "children": [
        "IPY_MODEL_4aec417519a141168d477690c44b8313",
        "IPY_MODEL_ef6011f6faf44552b8730823b15ad440"
       ],
       "layout": "IPY_MODEL_531e41bf1b5e4e5b8ad1b3591f840526"
      }
     },
     "40ce157cb2bf4bcb809ff39d9dcab274": {
      "model_module": "@jupyter-widgets/controls",
      "model_module_version": "1.5.0",
      "model_name": "DescriptionStyleModel",
      "state": {
       "_model_module": "@jupyter-widgets/controls",
       "_model_module_version": "1.5.0",
       "_model_name": "DescriptionStyleModel",
       "_view_count": null,
       "_view_module": "@jupyter-widgets/base",
       "_view_module_version": "1.2.0",
       "_view_name": "StyleView",
       "description_width": ""
      }
     },
     "4227fcdcb7e244f1ab71e47d66647a0d": {
      "model_module": "@jupyter-widgets/base",
      "model_module_version": "1.2.0",
      "model_name": "LayoutModel",
      "state": {
       "_model_module": "@jupyter-widgets/base",
       "_model_module_version": "1.2.0",
       "_model_name": "LayoutModel",
       "_view_count": null,
       "_view_module": "@jupyter-widgets/base",
       "_view_module_version": "1.2.0",
       "_view_name": "LayoutView",
       "align_content": null,
       "align_items": null,
       "align_self": null,
       "border": null,
       "bottom": null,
       "display": null,
       "flex": null,
       "flex_flow": null,
       "grid_area": null,
       "grid_auto_columns": null,
       "grid_auto_flow": null,
       "grid_auto_rows": null,
       "grid_column": null,
       "grid_gap": null,
       "grid_row": null,
       "grid_template_areas": null,
       "grid_template_columns": null,
       "grid_template_rows": null,
       "height": null,
       "justify_content": null,
       "justify_items": null,
       "left": null,
       "margin": null,
       "max_height": null,
       "max_width": null,
       "min_height": null,
       "min_width": null,
       "object_fit": null,
       "object_position": null,
       "order": null,
       "overflow": null,
       "overflow_x": null,
       "overflow_y": null,
       "padding": null,
       "right": null,
       "top": null,
       "visibility": null,
       "width": null
      }
     },
     "439d23ca99a54880aa0686d1e8023f39": {
      "model_module": "@jupyter-widgets/base",
      "model_module_version": "1.2.0",
      "model_name": "LayoutModel",
      "state": {
       "_model_module": "@jupyter-widgets/base",
       "_model_module_version": "1.2.0",
       "_model_name": "LayoutModel",
       "_view_count": null,
       "_view_module": "@jupyter-widgets/base",
       "_view_module_version": "1.2.0",
       "_view_name": "LayoutView",
       "align_content": null,
       "align_items": null,
       "align_self": null,
       "border": null,
       "bottom": null,
       "display": null,
       "flex": null,
       "flex_flow": null,
       "grid_area": null,
       "grid_auto_columns": null,
       "grid_auto_flow": null,
       "grid_auto_rows": null,
       "grid_column": null,
       "grid_gap": null,
       "grid_row": null,
       "grid_template_areas": null,
       "grid_template_columns": null,
       "grid_template_rows": null,
       "height": null,
       "justify_content": null,
       "justify_items": null,
       "left": null,
       "margin": null,
       "max_height": null,
       "max_width": null,
       "min_height": null,
       "min_width": null,
       "object_fit": null,
       "object_position": null,
       "order": null,
       "overflow": null,
       "overflow_x": null,
       "overflow_y": null,
       "padding": null,
       "right": null,
       "top": null,
       "visibility": null,
       "width": null
      }
     },
     "43d8abdcb382441281baa67301a0bebe": {
      "model_module": "@jupyter-widgets/controls",
      "model_module_version": "1.5.0",
      "model_name": "VBoxModel",
      "state": {
       "_dom_classes": [],
       "_model_module": "@jupyter-widgets/controls",
       "_model_module_version": "1.5.0",
       "_model_name": "VBoxModel",
       "_view_count": null,
       "_view_module": "@jupyter-widgets/controls",
       "_view_module_version": "1.5.0",
       "_view_name": "VBoxView",
       "box_style": "",
       "children": [
        "IPY_MODEL_aae97c7145ab4f4aa536d3d7e1fb900b",
        "IPY_MODEL_019bad1027474f6889172e99beae4066"
       ],
       "layout": "IPY_MODEL_36fe4c8de0804aa2a337dae64bad0a3f"
      }
     },
     "44c2dfb5eae44b2dbd513b5baa91228e": {
      "model_module": "@jupyter-widgets/controls",
      "model_module_version": "1.5.0",
      "model_name": "ProgressStyleModel",
      "state": {
       "_model_module": "@jupyter-widgets/controls",
       "_model_module_version": "1.5.0",
       "_model_name": "ProgressStyleModel",
       "_view_count": null,
       "_view_module": "@jupyter-widgets/base",
       "_view_module_version": "1.2.0",
       "_view_name": "StyleView",
       "bar_color": null,
       "description_width": ""
      }
     },
     "465b59420f7d46e6a7390276c25e0094": {
      "model_module": "@jupyter-widgets/controls",
      "model_module_version": "1.5.0",
      "model_name": "ProgressStyleModel",
      "state": {
       "_model_module": "@jupyter-widgets/controls",
       "_model_module_version": "1.5.0",
       "_model_name": "ProgressStyleModel",
       "_view_count": null,
       "_view_module": "@jupyter-widgets/base",
       "_view_module_version": "1.2.0",
       "_view_name": "StyleView",
       "bar_color": null,
       "description_width": ""
      }
     },
     "46ced0d59c774f5daa64f42ed65bd82f": {
      "model_module": "@jupyter-widgets/base",
      "model_module_version": "1.2.0",
      "model_name": "LayoutModel",
      "state": {
       "_model_module": "@jupyter-widgets/base",
       "_model_module_version": "1.2.0",
       "_model_name": "LayoutModel",
       "_view_count": null,
       "_view_module": "@jupyter-widgets/base",
       "_view_module_version": "1.2.0",
       "_view_name": "LayoutView",
       "align_content": null,
       "align_items": null,
       "align_self": null,
       "border": null,
       "bottom": null,
       "display": null,
       "flex": null,
       "flex_flow": null,
       "grid_area": null,
       "grid_auto_columns": null,
       "grid_auto_flow": null,
       "grid_auto_rows": null,
       "grid_column": null,
       "grid_gap": null,
       "grid_row": null,
       "grid_template_areas": null,
       "grid_template_columns": null,
       "grid_template_rows": null,
       "height": null,
       "justify_content": null,
       "justify_items": null,
       "left": null,
       "margin": null,
       "max_height": null,
       "max_width": null,
       "min_height": null,
       "min_width": null,
       "object_fit": null,
       "object_position": null,
       "order": null,
       "overflow": null,
       "overflow_x": null,
       "overflow_y": null,
       "padding": null,
       "right": null,
       "top": null,
       "visibility": null,
       "width": null
      }
     },
     "4aec417519a141168d477690c44b8313": {
      "model_module": "@jupyter-widgets/controls",
      "model_module_version": "1.5.0",
      "model_name": "LabelModel",
      "state": {
       "_dom_classes": [],
       "_model_module": "@jupyter-widgets/controls",
       "_model_module_version": "1.5.0",
       "_model_name": "LabelModel",
       "_view_count": null,
       "_view_module": "@jupyter-widgets/controls",
       "_view_module_version": "1.5.0",
       "_view_name": "LabelView",
       "description": "",
       "description_tooltip": null,
       "layout": "IPY_MODEL_555861eb1808488683b98f69d5d44c71",
       "placeholder": "​",
       "style": "IPY_MODEL_a73893188436464ab89b269c5a0eb9cd",
       "value": "1.123 MB of 1.123 MB uploaded (0.000 MB deduped)\r"
      }
     },
     "531e41bf1b5e4e5b8ad1b3591f840526": {
      "model_module": "@jupyter-widgets/base",
      "model_module_version": "1.2.0",
      "model_name": "LayoutModel",
      "state": {
       "_model_module": "@jupyter-widgets/base",
       "_model_module_version": "1.2.0",
       "_model_name": "LayoutModel",
       "_view_count": null,
       "_view_module": "@jupyter-widgets/base",
       "_view_module_version": "1.2.0",
       "_view_name": "LayoutView",
       "align_content": null,
       "align_items": null,
       "align_self": null,
       "border": null,
       "bottom": null,
       "display": null,
       "flex": null,
       "flex_flow": null,
       "grid_area": null,
       "grid_auto_columns": null,
       "grid_auto_flow": null,
       "grid_auto_rows": null,
       "grid_column": null,
       "grid_gap": null,
       "grid_row": null,
       "grid_template_areas": null,
       "grid_template_columns": null,
       "grid_template_rows": null,
       "height": null,
       "justify_content": null,
       "justify_items": null,
       "left": null,
       "margin": null,
       "max_height": null,
       "max_width": null,
       "min_height": null,
       "min_width": null,
       "object_fit": null,
       "object_position": null,
       "order": null,
       "overflow": null,
       "overflow_x": null,
       "overflow_y": null,
       "padding": null,
       "right": null,
       "top": null,
       "visibility": null,
       "width": null
      }
     },
     "531e7f414da941cea5571657df15325c": {
      "model_module": "@jupyter-widgets/base",
      "model_module_version": "1.2.0",
      "model_name": "LayoutModel",
      "state": {
       "_model_module": "@jupyter-widgets/base",
       "_model_module_version": "1.2.0",
       "_model_name": "LayoutModel",
       "_view_count": null,
       "_view_module": "@jupyter-widgets/base",
       "_view_module_version": "1.2.0",
       "_view_name": "LayoutView",
       "align_content": null,
       "align_items": null,
       "align_self": null,
       "border": null,
       "bottom": null,
       "display": null,
       "flex": null,
       "flex_flow": null,
       "grid_area": null,
       "grid_auto_columns": null,
       "grid_auto_flow": null,
       "grid_auto_rows": null,
       "grid_column": null,
       "grid_gap": null,
       "grid_row": null,
       "grid_template_areas": null,
       "grid_template_columns": null,
       "grid_template_rows": null,
       "height": null,
       "justify_content": null,
       "justify_items": null,
       "left": null,
       "margin": null,
       "max_height": null,
       "max_width": null,
       "min_height": null,
       "min_width": null,
       "object_fit": null,
       "object_position": null,
       "order": null,
       "overflow": null,
       "overflow_x": null,
       "overflow_y": null,
       "padding": null,
       "right": null,
       "top": null,
       "visibility": null,
       "width": null
      }
     },
     "555861eb1808488683b98f69d5d44c71": {
      "model_module": "@jupyter-widgets/base",
      "model_module_version": "1.2.0",
      "model_name": "LayoutModel",
      "state": {
       "_model_module": "@jupyter-widgets/base",
       "_model_module_version": "1.2.0",
       "_model_name": "LayoutModel",
       "_view_count": null,
       "_view_module": "@jupyter-widgets/base",
       "_view_module_version": "1.2.0",
       "_view_name": "LayoutView",
       "align_content": null,
       "align_items": null,
       "align_self": null,
       "border": null,
       "bottom": null,
       "display": null,
       "flex": null,
       "flex_flow": null,
       "grid_area": null,
       "grid_auto_columns": null,
       "grid_auto_flow": null,
       "grid_auto_rows": null,
       "grid_column": null,
       "grid_gap": null,
       "grid_row": null,
       "grid_template_areas": null,
       "grid_template_columns": null,
       "grid_template_rows": null,
       "height": null,
       "justify_content": null,
       "justify_items": null,
       "left": null,
       "margin": null,
       "max_height": null,
       "max_width": null,
       "min_height": null,
       "min_width": null,
       "object_fit": null,
       "object_position": null,
       "order": null,
       "overflow": null,
       "overflow_x": null,
       "overflow_y": null,
       "padding": null,
       "right": null,
       "top": null,
       "visibility": null,
       "width": null
      }
     },
     "58a421508a5a4226bc46fc8996bcde56": {
      "model_module": "@jupyter-widgets/base",
      "model_module_version": "1.2.0",
      "model_name": "LayoutModel",
      "state": {
       "_model_module": "@jupyter-widgets/base",
       "_model_module_version": "1.2.0",
       "_model_name": "LayoutModel",
       "_view_count": null,
       "_view_module": "@jupyter-widgets/base",
       "_view_module_version": "1.2.0",
       "_view_name": "LayoutView",
       "align_content": null,
       "align_items": null,
       "align_self": null,
       "border": null,
       "bottom": null,
       "display": null,
       "flex": null,
       "flex_flow": null,
       "grid_area": null,
       "grid_auto_columns": null,
       "grid_auto_flow": null,
       "grid_auto_rows": null,
       "grid_column": null,
       "grid_gap": null,
       "grid_row": null,
       "grid_template_areas": null,
       "grid_template_columns": null,
       "grid_template_rows": null,
       "height": null,
       "justify_content": null,
       "justify_items": null,
       "left": null,
       "margin": null,
       "max_height": null,
       "max_width": null,
       "min_height": null,
       "min_width": null,
       "object_fit": null,
       "object_position": null,
       "order": null,
       "overflow": null,
       "overflow_x": null,
       "overflow_y": null,
       "padding": null,
       "right": null,
       "top": null,
       "visibility": null,
       "width": null
      }
     },
     "5998773a380d4e73b3f85c79e699c175": {
      "model_module": "@jupyter-widgets/controls",
      "model_module_version": "1.5.0",
      "model_name": "LabelModel",
      "state": {
       "_dom_classes": [],
       "_model_module": "@jupyter-widgets/controls",
       "_model_module_version": "1.5.0",
       "_model_name": "LabelModel",
       "_view_count": null,
       "_view_module": "@jupyter-widgets/controls",
       "_view_module_version": "1.5.0",
       "_view_name": "LabelView",
       "description": "",
       "description_tooltip": null,
       "layout": "IPY_MODEL_eec0df77c4a64ccc99df30041041cb9c",
       "placeholder": "​",
       "style": "IPY_MODEL_a162fcffaf9a4a5fa1102586f05ea8b6",
       "value": "1.146 MB of 1.146 MB uploaded (0.000 MB deduped)\r"
      }
     },
     "59ce195ec9894b09829ed4726ffc3a66": {
      "model_module": "@jupyter-widgets/controls",
      "model_module_version": "1.5.0",
      "model_name": "LabelModel",
      "state": {
       "_dom_classes": [],
       "_model_module": "@jupyter-widgets/controls",
       "_model_module_version": "1.5.0",
       "_model_name": "LabelModel",
       "_view_count": null,
       "_view_module": "@jupyter-widgets/controls",
       "_view_module_version": "1.5.0",
       "_view_name": "LabelView",
       "description": "",
       "description_tooltip": null,
       "layout": "IPY_MODEL_58a421508a5a4226bc46fc8996bcde56",
       "placeholder": "​",
       "style": "IPY_MODEL_e6a7d403df1c4ecca9d6f573e80eaaec",
       "value": ""
      }
     },
     "5ac4985252934938b3d8f07cf144e97b": {
      "model_module": "@jupyter-widgets/base",
      "model_module_version": "1.2.0",
      "model_name": "LayoutModel",
      "state": {
       "_model_module": "@jupyter-widgets/base",
       "_model_module_version": "1.2.0",
       "_model_name": "LayoutModel",
       "_view_count": null,
       "_view_module": "@jupyter-widgets/base",
       "_view_module_version": "1.2.0",
       "_view_name": "LayoutView",
       "align_content": null,
       "align_items": null,
       "align_self": null,
       "border": null,
       "bottom": null,
       "display": null,
       "flex": null,
       "flex_flow": null,
       "grid_area": null,
       "grid_auto_columns": null,
       "grid_auto_flow": null,
       "grid_auto_rows": null,
       "grid_column": null,
       "grid_gap": null,
       "grid_row": null,
       "grid_template_areas": null,
       "grid_template_columns": null,
       "grid_template_rows": null,
       "height": null,
       "justify_content": null,
       "justify_items": null,
       "left": null,
       "margin": null,
       "max_height": null,
       "max_width": null,
       "min_height": null,
       "min_width": null,
       "object_fit": null,
       "object_position": null,
       "order": null,
       "overflow": null,
       "overflow_x": null,
       "overflow_y": null,
       "padding": null,
       "right": null,
       "top": null,
       "visibility": null,
       "width": null
      }
     },
     "5f9201db1f524d4b9e08fe71116ad0c9": {
      "model_module": "@jupyter-widgets/base",
      "model_module_version": "1.2.0",
      "model_name": "LayoutModel",
      "state": {
       "_model_module": "@jupyter-widgets/base",
       "_model_module_version": "1.2.0",
       "_model_name": "LayoutModel",
       "_view_count": null,
       "_view_module": "@jupyter-widgets/base",
       "_view_module_version": "1.2.0",
       "_view_name": "LayoutView",
       "align_content": null,
       "align_items": null,
       "align_self": null,
       "border": null,
       "bottom": null,
       "display": null,
       "flex": null,
       "flex_flow": null,
       "grid_area": null,
       "grid_auto_columns": null,
       "grid_auto_flow": null,
       "grid_auto_rows": null,
       "grid_column": null,
       "grid_gap": null,
       "grid_row": null,
       "grid_template_areas": null,
       "grid_template_columns": null,
       "grid_template_rows": null,
       "height": null,
       "justify_content": null,
       "justify_items": null,
       "left": null,
       "margin": null,
       "max_height": null,
       "max_width": null,
       "min_height": null,
       "min_width": null,
       "object_fit": null,
       "object_position": null,
       "order": null,
       "overflow": null,
       "overflow_x": null,
       "overflow_y": null,
       "padding": null,
       "right": null,
       "top": null,
       "visibility": null,
       "width": null
      }
     },
     "60dd26bb810040a6904c724f51fbfddc": {
      "model_module": "@jupyter-widgets/base",
      "model_module_version": "1.2.0",
      "model_name": "LayoutModel",
      "state": {
       "_model_module": "@jupyter-widgets/base",
       "_model_module_version": "1.2.0",
       "_model_name": "LayoutModel",
       "_view_count": null,
       "_view_module": "@jupyter-widgets/base",
       "_view_module_version": "1.2.0",
       "_view_name": "LayoutView",
       "align_content": null,
       "align_items": null,
       "align_self": null,
       "border": null,
       "bottom": null,
       "display": null,
       "flex": null,
       "flex_flow": null,
       "grid_area": null,
       "grid_auto_columns": null,
       "grid_auto_flow": null,
       "grid_auto_rows": null,
       "grid_column": null,
       "grid_gap": null,
       "grid_row": null,
       "grid_template_areas": null,
       "grid_template_columns": null,
       "grid_template_rows": null,
       "height": null,
       "justify_content": null,
       "justify_items": null,
       "left": null,
       "margin": null,
       "max_height": null,
       "max_width": null,
       "min_height": null,
       "min_width": null,
       "object_fit": null,
       "object_position": null,
       "order": null,
       "overflow": null,
       "overflow_x": null,
       "overflow_y": null,
       "padding": null,
       "right": null,
       "top": null,
       "visibility": null,
       "width": null
      }
     },
     "6693c205e3c34a7ba93832f349520bf9": {
      "model_module": "@jupyter-widgets/base",
      "model_module_version": "1.2.0",
      "model_name": "LayoutModel",
      "state": {
       "_model_module": "@jupyter-widgets/base",
       "_model_module_version": "1.2.0",
       "_model_name": "LayoutModel",
       "_view_count": null,
       "_view_module": "@jupyter-widgets/base",
       "_view_module_version": "1.2.0",
       "_view_name": "LayoutView",
       "align_content": null,
       "align_items": null,
       "align_self": null,
       "border": null,
       "bottom": null,
       "display": null,
       "flex": null,
       "flex_flow": null,
       "grid_area": null,
       "grid_auto_columns": null,
       "grid_auto_flow": null,
       "grid_auto_rows": null,
       "grid_column": null,
       "grid_gap": null,
       "grid_row": null,
       "grid_template_areas": null,
       "grid_template_columns": null,
       "grid_template_rows": null,
       "height": null,
       "justify_content": null,
       "justify_items": null,
       "left": null,
       "margin": null,
       "max_height": null,
       "max_width": null,
       "min_height": null,
       "min_width": null,
       "object_fit": null,
       "object_position": null,
       "order": null,
       "overflow": null,
       "overflow_x": null,
       "overflow_y": null,
       "padding": null,
       "right": null,
       "top": null,
       "visibility": null,
       "width": null
      }
     },
     "68c5cccad89e48ccb0be621e56e0c8c6": {
      "model_module": "@jupyter-widgets/controls",
      "model_module_version": "1.5.0",
      "model_name": "VBoxModel",
      "state": {
       "_dom_classes": [],
       "_model_module": "@jupyter-widgets/controls",
       "_model_module_version": "1.5.0",
       "_model_name": "VBoxModel",
       "_view_count": null,
       "_view_module": "@jupyter-widgets/controls",
       "_view_module_version": "1.5.0",
       "_view_name": "VBoxView",
       "box_style": "",
       "children": [
        "IPY_MODEL_1adf9aef2900421396a87054cbb0c16b",
        "IPY_MODEL_170089838c8843ba94199ea75ad12ed2"
       ],
       "layout": "IPY_MODEL_1510a56be2c74526bb8aba45679d31b3"
      }
     },
     "711d8b421a7c4052a62fb67c54d434fa": {
      "model_module": "@jupyter-widgets/controls",
      "model_module_version": "1.5.0",
      "model_name": "VBoxModel",
      "state": {
       "_dom_classes": [],
       "_model_module": "@jupyter-widgets/controls",
       "_model_module_version": "1.5.0",
       "_model_name": "VBoxModel",
       "_view_count": null,
       "_view_module": "@jupyter-widgets/controls",
       "_view_module_version": "1.5.0",
       "_view_name": "VBoxView",
       "box_style": "",
       "children": [
        "IPY_MODEL_f90db0eccd3743faaca74915bf99d377",
        "IPY_MODEL_b589c4a145c545ccb2d1c795a1e0d216"
       ],
       "layout": "IPY_MODEL_1f9d19d2467c4846b4061d3cecd86db1"
      }
     },
     "72d69a5c59b74265bac51e8bdf2831d7": {
      "model_module": "@jupyter-widgets/base",
      "model_module_version": "1.2.0",
      "model_name": "LayoutModel",
      "state": {
       "_model_module": "@jupyter-widgets/base",
       "_model_module_version": "1.2.0",
       "_model_name": "LayoutModel",
       "_view_count": null,
       "_view_module": "@jupyter-widgets/base",
       "_view_module_version": "1.2.0",
       "_view_name": "LayoutView",
       "align_content": null,
       "align_items": null,
       "align_self": null,
       "border": null,
       "bottom": null,
       "display": null,
       "flex": null,
       "flex_flow": null,
       "grid_area": null,
       "grid_auto_columns": null,
       "grid_auto_flow": null,
       "grid_auto_rows": null,
       "grid_column": null,
       "grid_gap": null,
       "grid_row": null,
       "grid_template_areas": null,
       "grid_template_columns": null,
       "grid_template_rows": null,
       "height": null,
       "justify_content": null,
       "justify_items": null,
       "left": null,
       "margin": null,
       "max_height": null,
       "max_width": null,
       "min_height": null,
       "min_width": null,
       "object_fit": null,
       "object_position": null,
       "order": null,
       "overflow": null,
       "overflow_x": null,
       "overflow_y": null,
       "padding": null,
       "right": null,
       "top": null,
       "visibility": null,
       "width": null
      }
     },
     "76be5a2c88474103b79d53786834d977": {
      "model_module": "@jupyter-widgets/controls",
      "model_module_version": "1.5.0",
      "model_name": "VBoxModel",
      "state": {
       "_dom_classes": [],
       "_model_module": "@jupyter-widgets/controls",
       "_model_module_version": "1.5.0",
       "_model_name": "VBoxModel",
       "_view_count": null,
       "_view_module": "@jupyter-widgets/controls",
       "_view_module_version": "1.5.0",
       "_view_name": "VBoxView",
       "box_style": "",
       "children": [
        "IPY_MODEL_5998773a380d4e73b3f85c79e699c175",
        "IPY_MODEL_1bdb731504294d7f9aa055d5365ecf5e"
       ],
       "layout": "IPY_MODEL_beb063aa48a54314b4a529ab63fb56ce"
      }
     },
     "790e243f536a4d18bc4b4b9261317bfb": {
      "model_module": "@jupyter-widgets/controls",
      "model_module_version": "1.5.0",
      "model_name": "DescriptionStyleModel",
      "state": {
       "_model_module": "@jupyter-widgets/controls",
       "_model_module_version": "1.5.0",
       "_model_name": "DescriptionStyleModel",
       "_view_count": null,
       "_view_module": "@jupyter-widgets/base",
       "_view_module_version": "1.2.0",
       "_view_name": "StyleView",
       "description_width": ""
      }
     },
     "7933b43daa104bc395c0f402e78f4540": {
      "model_module": "@jupyter-widgets/base",
      "model_module_version": "1.2.0",
      "model_name": "LayoutModel",
      "state": {
       "_model_module": "@jupyter-widgets/base",
       "_model_module_version": "1.2.0",
       "_model_name": "LayoutModel",
       "_view_count": null,
       "_view_module": "@jupyter-widgets/base",
       "_view_module_version": "1.2.0",
       "_view_name": "LayoutView",
       "align_content": null,
       "align_items": null,
       "align_self": null,
       "border": null,
       "bottom": null,
       "display": null,
       "flex": null,
       "flex_flow": null,
       "grid_area": null,
       "grid_auto_columns": null,
       "grid_auto_flow": null,
       "grid_auto_rows": null,
       "grid_column": null,
       "grid_gap": null,
       "grid_row": null,
       "grid_template_areas": null,
       "grid_template_columns": null,
       "grid_template_rows": null,
       "height": null,
       "justify_content": null,
       "justify_items": null,
       "left": null,
       "margin": null,
       "max_height": null,
       "max_width": null,
       "min_height": null,
       "min_width": null,
       "object_fit": null,
       "object_position": null,
       "order": null,
       "overflow": null,
       "overflow_x": null,
       "overflow_y": null,
       "padding": null,
       "right": null,
       "top": null,
       "visibility": null,
       "width": null
      }
     },
     "79a20dcbd8c742239d26e7e95867f87c": {
      "model_module": "@jupyter-widgets/controls",
      "model_module_version": "1.5.0",
      "model_name": "ProgressStyleModel",
      "state": {
       "_model_module": "@jupyter-widgets/controls",
       "_model_module_version": "1.5.0",
       "_model_name": "ProgressStyleModel",
       "_view_count": null,
       "_view_module": "@jupyter-widgets/base",
       "_view_module_version": "1.2.0",
       "_view_name": "StyleView",
       "bar_color": null,
       "description_width": ""
      }
     },
     "7cb753cbc67d41c6828a5b2a5e8e2815": {
      "model_module": "@jupyter-widgets/controls",
      "model_module_version": "1.5.0",
      "model_name": "FloatProgressModel",
      "state": {
       "_dom_classes": [],
       "_model_module": "@jupyter-widgets/controls",
       "_model_module_version": "1.5.0",
       "_model_name": "FloatProgressModel",
       "_view_count": null,
       "_view_module": "@jupyter-widgets/controls",
       "_view_module_version": "1.5.0",
       "_view_name": "ProgressView",
       "bar_style": "",
       "description": "",
       "description_tooltip": null,
       "layout": "IPY_MODEL_46ced0d59c774f5daa64f42ed65bd82f",
       "max": 1.0,
       "min": 0.0,
       "orientation": "horizontal",
       "style": "IPY_MODEL_ddffc59ce2cd4caf8f01a40a8c8f815a",
       "value": 0.0
      }
     },
     "80e0c4e520224affb64ca4c6b2ad3f65": {
      "model_module": "@jupyter-widgets/base",
      "model_module_version": "1.2.0",
      "model_name": "LayoutModel",
      "state": {
       "_model_module": "@jupyter-widgets/base",
       "_model_module_version": "1.2.0",
       "_model_name": "LayoutModel",
       "_view_count": null,
       "_view_module": "@jupyter-widgets/base",
       "_view_module_version": "1.2.0",
       "_view_name": "LayoutView",
       "align_content": null,
       "align_items": null,
       "align_self": null,
       "border": null,
       "bottom": null,
       "display": null,
       "flex": null,
       "flex_flow": null,
       "grid_area": null,
       "grid_auto_columns": null,
       "grid_auto_flow": null,
       "grid_auto_rows": null,
       "grid_column": null,
       "grid_gap": null,
       "grid_row": null,
       "grid_template_areas": null,
       "grid_template_columns": null,
       "grid_template_rows": null,
       "height": null,
       "justify_content": null,
       "justify_items": null,
       "left": null,
       "margin": null,
       "max_height": null,
       "max_width": null,
       "min_height": null,
       "min_width": null,
       "object_fit": null,
       "object_position": null,
       "order": null,
       "overflow": null,
       "overflow_x": null,
       "overflow_y": null,
       "padding": null,
       "right": null,
       "top": null,
       "visibility": null,
       "width": null
      }
     },
     "8385273010e144c4befede12e94bc174": {
      "model_module": "@jupyter-widgets/controls",
      "model_module_version": "1.5.0",
      "model_name": "VBoxModel",
      "state": {
       "_dom_classes": [],
       "_model_module": "@jupyter-widgets/controls",
       "_model_module_version": "1.5.0",
       "_model_name": "VBoxModel",
       "_view_count": null,
       "_view_module": "@jupyter-widgets/controls",
       "_view_module_version": "1.5.0",
       "_view_name": "VBoxView",
       "box_style": "",
       "children": [
        "IPY_MODEL_bcb74611eea347c89fe068217ddc59e7",
        "IPY_MODEL_b3a8c112b1a44af8af297c03e5221958"
       ],
       "layout": "IPY_MODEL_d28578f875b04ba48dde838c2b2c145d"
      }
     },
     "87c3f086dbdb48b4b26c865f10434099": {
      "model_module": "@jupyter-widgets/base",
      "model_module_version": "1.2.0",
      "model_name": "LayoutModel",
      "state": {
       "_model_module": "@jupyter-widgets/base",
       "_model_module_version": "1.2.0",
       "_model_name": "LayoutModel",
       "_view_count": null,
       "_view_module": "@jupyter-widgets/base",
       "_view_module_version": "1.2.0",
       "_view_name": "LayoutView",
       "align_content": null,
       "align_items": null,
       "align_self": null,
       "border": null,
       "bottom": null,
       "display": null,
       "flex": null,
       "flex_flow": null,
       "grid_area": null,
       "grid_auto_columns": null,
       "grid_auto_flow": null,
       "grid_auto_rows": null,
       "grid_column": null,
       "grid_gap": null,
       "grid_row": null,
       "grid_template_areas": null,
       "grid_template_columns": null,
       "grid_template_rows": null,
       "height": null,
       "justify_content": null,
       "justify_items": null,
       "left": null,
       "margin": null,
       "max_height": null,
       "max_width": null,
       "min_height": null,
       "min_width": null,
       "object_fit": null,
       "object_position": null,
       "order": null,
       "overflow": null,
       "overflow_x": null,
       "overflow_y": null,
       "padding": null,
       "right": null,
       "top": null,
       "visibility": null,
       "width": null
      }
     },
     "95a1b1ed0ae54dd8a5e3445c9a923657": {
      "model_module": "@jupyter-widgets/controls",
      "model_module_version": "1.5.0",
      "model_name": "ProgressStyleModel",
      "state": {
       "_model_module": "@jupyter-widgets/controls",
       "_model_module_version": "1.5.0",
       "_model_name": "ProgressStyleModel",
       "_view_count": null,
       "_view_module": "@jupyter-widgets/base",
       "_view_module_version": "1.2.0",
       "_view_name": "StyleView",
       "bar_color": null,
       "description_width": ""
      }
     },
     "9a052da6d43d49c6b448a5ddf00c7c20": {
      "model_module": "@jupyter-widgets/base",
      "model_module_version": "1.2.0",
      "model_name": "LayoutModel",
      "state": {
       "_model_module": "@jupyter-widgets/base",
       "_model_module_version": "1.2.0",
       "_model_name": "LayoutModel",
       "_view_count": null,
       "_view_module": "@jupyter-widgets/base",
       "_view_module_version": "1.2.0",
       "_view_name": "LayoutView",
       "align_content": null,
       "align_items": null,
       "align_self": null,
       "border": null,
       "bottom": null,
       "display": null,
       "flex": null,
       "flex_flow": null,
       "grid_area": null,
       "grid_auto_columns": null,
       "grid_auto_flow": null,
       "grid_auto_rows": null,
       "grid_column": null,
       "grid_gap": null,
       "grid_row": null,
       "grid_template_areas": null,
       "grid_template_columns": null,
       "grid_template_rows": null,
       "height": null,
       "justify_content": null,
       "justify_items": null,
       "left": null,
       "margin": null,
       "max_height": null,
       "max_width": null,
       "min_height": null,
       "min_width": null,
       "object_fit": null,
       "object_position": null,
       "order": null,
       "overflow": null,
       "overflow_x": null,
       "overflow_y": null,
       "padding": null,
       "right": null,
       "top": null,
       "visibility": null,
       "width": null
      }
     },
     "9ae6e19862b5461790ceb420166393df": {
      "model_module": "@jupyter-widgets/controls",
      "model_module_version": "1.5.0",
      "model_name": "ProgressStyleModel",
      "state": {
       "_model_module": "@jupyter-widgets/controls",
       "_model_module_version": "1.5.0",
       "_model_name": "ProgressStyleModel",
       "_view_count": null,
       "_view_module": "@jupyter-widgets/base",
       "_view_module_version": "1.2.0",
       "_view_name": "StyleView",
       "bar_color": null,
       "description_width": ""
      }
     },
     "9f64eb0a31cc4caa857acdc6004eb230": {
      "model_module": "@jupyter-widgets/base",
      "model_module_version": "1.2.0",
      "model_name": "LayoutModel",
      "state": {
       "_model_module": "@jupyter-widgets/base",
       "_model_module_version": "1.2.0",
       "_model_name": "LayoutModel",
       "_view_count": null,
       "_view_module": "@jupyter-widgets/base",
       "_view_module_version": "1.2.0",
       "_view_name": "LayoutView",
       "align_content": null,
       "align_items": null,
       "align_self": null,
       "border": null,
       "bottom": null,
       "display": null,
       "flex": null,
       "flex_flow": null,
       "grid_area": null,
       "grid_auto_columns": null,
       "grid_auto_flow": null,
       "grid_auto_rows": null,
       "grid_column": null,
       "grid_gap": null,
       "grid_row": null,
       "grid_template_areas": null,
       "grid_template_columns": null,
       "grid_template_rows": null,
       "height": null,
       "justify_content": null,
       "justify_items": null,
       "left": null,
       "margin": null,
       "max_height": null,
       "max_width": null,
       "min_height": null,
       "min_width": null,
       "object_fit": null,
       "object_position": null,
       "order": null,
       "overflow": null,
       "overflow_x": null,
       "overflow_y": null,
       "padding": null,
       "right": null,
       "top": null,
       "visibility": null,
       "width": null
      }
     },
     "a162fcffaf9a4a5fa1102586f05ea8b6": {
      "model_module": "@jupyter-widgets/controls",
      "model_module_version": "1.5.0",
      "model_name": "DescriptionStyleModel",
      "state": {
       "_model_module": "@jupyter-widgets/controls",
       "_model_module_version": "1.5.0",
       "_model_name": "DescriptionStyleModel",
       "_view_count": null,
       "_view_module": "@jupyter-widgets/base",
       "_view_module_version": "1.2.0",
       "_view_name": "StyleView",
       "description_width": ""
      }
     },
     "a5af535d84f54fc0bf2c83ad12c76111": {
      "model_module": "@jupyter-widgets/controls",
      "model_module_version": "1.5.0",
      "model_name": "ProgressStyleModel",
      "state": {
       "_model_module": "@jupyter-widgets/controls",
       "_model_module_version": "1.5.0",
       "_model_name": "ProgressStyleModel",
       "_view_count": null,
       "_view_module": "@jupyter-widgets/base",
       "_view_module_version": "1.2.0",
       "_view_name": "StyleView",
       "bar_color": null,
       "description_width": ""
      }
     },
     "a73893188436464ab89b269c5a0eb9cd": {
      "model_module": "@jupyter-widgets/controls",
      "model_module_version": "1.5.0",
      "model_name": "DescriptionStyleModel",
      "state": {
       "_model_module": "@jupyter-widgets/controls",
       "_model_module_version": "1.5.0",
       "_model_name": "DescriptionStyleModel",
       "_view_count": null,
       "_view_module": "@jupyter-widgets/base",
       "_view_module_version": "1.2.0",
       "_view_name": "StyleView",
       "description_width": ""
      }
     },
     "a81484ba5a8c45cab3dbb68efb3bfac1": {
      "model_module": "@jupyter-widgets/controls",
      "model_module_version": "1.5.0",
      "model_name": "LabelModel",
      "state": {
       "_dom_classes": [],
       "_model_module": "@jupyter-widgets/controls",
       "_model_module_version": "1.5.0",
       "_model_name": "LabelModel",
       "_view_count": null,
       "_view_module": "@jupyter-widgets/controls",
       "_view_module_version": "1.5.0",
       "_view_name": "LabelView",
       "description": "",
       "description_tooltip": null,
       "layout": "IPY_MODEL_bbf5ae4aa55845638b576a991e955ad0",
       "placeholder": "​",
       "style": "IPY_MODEL_118c8755d266490588f7e76e8b841460",
       "value": ""
      }
     },
     "aa9ce775af404e8ba80b5dfb5d8fc64a": {
      "model_module": "@jupyter-widgets/base",
      "model_module_version": "1.2.0",
      "model_name": "LayoutModel",
      "state": {
       "_model_module": "@jupyter-widgets/base",
       "_model_module_version": "1.2.0",
       "_model_name": "LayoutModel",
       "_view_count": null,
       "_view_module": "@jupyter-widgets/base",
       "_view_module_version": "1.2.0",
       "_view_name": "LayoutView",
       "align_content": null,
       "align_items": null,
       "align_self": null,
       "border": null,
       "bottom": null,
       "display": null,
       "flex": null,
       "flex_flow": null,
       "grid_area": null,
       "grid_auto_columns": null,
       "grid_auto_flow": null,
       "grid_auto_rows": null,
       "grid_column": null,
       "grid_gap": null,
       "grid_row": null,
       "grid_template_areas": null,
       "grid_template_columns": null,
       "grid_template_rows": null,
       "height": null,
       "justify_content": null,
       "justify_items": null,
       "left": null,
       "margin": null,
       "max_height": null,
       "max_width": null,
       "min_height": null,
       "min_width": null,
       "object_fit": null,
       "object_position": null,
       "order": null,
       "overflow": null,
       "overflow_x": null,
       "overflow_y": null,
       "padding": null,
       "right": null,
       "top": null,
       "visibility": null,
       "width": null
      }
     },
     "aae97c7145ab4f4aa536d3d7e1fb900b": {
      "model_module": "@jupyter-widgets/controls",
      "model_module_version": "1.5.0",
      "model_name": "LabelModel",
      "state": {
       "_dom_classes": [],
       "_model_module": "@jupyter-widgets/controls",
       "_model_module_version": "1.5.0",
       "_model_name": "LabelModel",
       "_view_count": null,
       "_view_module": "@jupyter-widgets/controls",
       "_view_module_version": "1.5.0",
       "_view_name": "LabelView",
       "description": "",
       "description_tooltip": null,
       "layout": "IPY_MODEL_87c3f086dbdb48b4b26c865f10434099",
       "placeholder": "​",
       "style": "IPY_MODEL_daf2c23251dc48029c21cd6c6a53e9ef",
       "value": ""
      }
     },
     "ab77407a26a046eb8b7a5713fcf8ff47": {
      "model_module": "@jupyter-widgets/controls",
      "model_module_version": "1.5.0",
      "model_name": "DescriptionStyleModel",
      "state": {
       "_model_module": "@jupyter-widgets/controls",
       "_model_module_version": "1.5.0",
       "_model_name": "DescriptionStyleModel",
       "_view_count": null,
       "_view_module": "@jupyter-widgets/base",
       "_view_module_version": "1.2.0",
       "_view_name": "StyleView",
       "description_width": ""
      }
     },
     "ac27a0f021c647efb86298c9b9777695": {
      "model_module": "@jupyter-widgets/controls",
      "model_module_version": "1.5.0",
      "model_name": "VBoxModel",
      "state": {
       "_dom_classes": [],
       "_model_module": "@jupyter-widgets/controls",
       "_model_module_version": "1.5.0",
       "_model_name": "VBoxModel",
       "_view_count": null,
       "_view_module": "@jupyter-widgets/controls",
       "_view_module_version": "1.5.0",
       "_view_name": "VBoxView",
       "box_style": "",
       "children": [
        "IPY_MODEL_e8f747094edd4fbaa1860d5759e94fa7",
        "IPY_MODEL_de490487ee76490ca7c1ac6f1dd62196"
       ],
       "layout": "IPY_MODEL_6693c205e3c34a7ba93832f349520bf9"
      }
     },
     "acbae8a3c5224f379c0249da902c71e4": {
      "model_module": "@jupyter-widgets/controls",
      "model_module_version": "1.5.0",
      "model_name": "ProgressStyleModel",
      "state": {
       "_model_module": "@jupyter-widgets/controls",
       "_model_module_version": "1.5.0",
       "_model_name": "ProgressStyleModel",
       "_view_count": null,
       "_view_module": "@jupyter-widgets/base",
       "_view_module_version": "1.2.0",
       "_view_name": "StyleView",
       "bar_color": null,
       "description_width": ""
      }
     },
     "afb47f7c53924cc5bd843153560ef6c4": {
      "model_module": "@jupyter-widgets/controls",
      "model_module_version": "1.5.0",
      "model_name": "VBoxModel",
      "state": {
       "_dom_classes": [],
       "_model_module": "@jupyter-widgets/controls",
       "_model_module_version": "1.5.0",
       "_model_name": "VBoxModel",
       "_view_count": null,
       "_view_module": "@jupyter-widgets/controls",
       "_view_module_version": "1.5.0",
       "_view_name": "VBoxView",
       "box_style": "",
       "children": [
        "IPY_MODEL_10bda81389774797a917351ae7a68eef",
        "IPY_MODEL_3bb958321a2f451c9abc3b336de067f3"
       ],
       "layout": "IPY_MODEL_5ac4985252934938b3d8f07cf144e97b"
      }
     },
     "b3a8c112b1a44af8af297c03e5221958": {
      "model_module": "@jupyter-widgets/controls",
      "model_module_version": "1.5.0",
      "model_name": "FloatProgressModel",
      "state": {
       "_dom_classes": [],
       "_model_module": "@jupyter-widgets/controls",
       "_model_module_version": "1.5.0",
       "_model_name": "FloatProgressModel",
       "_view_count": null,
       "_view_module": "@jupyter-widgets/controls",
       "_view_module_version": "1.5.0",
       "_view_name": "ProgressView",
       "bar_style": "",
       "description": "",
       "description_tooltip": null,
       "layout": "IPY_MODEL_d3bdb83140eb4ce4bdf8dce6936bd8ec",
       "max": 1.0,
       "min": 0.0,
       "orientation": "horizontal",
       "style": "IPY_MODEL_a5af535d84f54fc0bf2c83ad12c76111",
       "value": 0.0
      }
     },
     "b589c4a145c545ccb2d1c795a1e0d216": {
      "model_module": "@jupyter-widgets/controls",
      "model_module_version": "1.5.0",
      "model_name": "FloatProgressModel",
      "state": {
       "_dom_classes": [],
       "_model_module": "@jupyter-widgets/controls",
       "_model_module_version": "1.5.0",
       "_model_name": "FloatProgressModel",
       "_view_count": null,
       "_view_module": "@jupyter-widgets/controls",
       "_view_module_version": "1.5.0",
       "_view_name": "ProgressView",
       "bar_style": "",
       "description": "",
       "description_tooltip": null,
       "layout": "IPY_MODEL_531e7f414da941cea5571657df15325c",
       "max": 1.0,
       "min": 0.0,
       "orientation": "horizontal",
       "style": "IPY_MODEL_38b782110fbd4ec7add8b3e7d62be399",
       "value": 1.0
      }
     },
     "b599f0082f8941768e795947dc1dc033": {
      "model_module": "@jupyter-widgets/controls",
      "model_module_version": "1.5.0",
      "model_name": "VBoxModel",
      "state": {
       "_dom_classes": [],
       "_model_module": "@jupyter-widgets/controls",
       "_model_module_version": "1.5.0",
       "_model_name": "VBoxModel",
       "_view_count": null,
       "_view_module": "@jupyter-widgets/controls",
       "_view_module_version": "1.5.0",
       "_view_name": "VBoxView",
       "box_style": "",
       "children": [
        "IPY_MODEL_0db042ef52fc4964b7930d6f63b1a97f",
        "IPY_MODEL_05bcc2e917ff4b469b436062f5352100"
       ],
       "layout": "IPY_MODEL_1c49fc56069f4ac7abc3dc2805a7b7f9"
      }
     },
     "bbf5ae4aa55845638b576a991e955ad0": {
      "model_module": "@jupyter-widgets/base",
      "model_module_version": "1.2.0",
      "model_name": "LayoutModel",
      "state": {
       "_model_module": "@jupyter-widgets/base",
       "_model_module_version": "1.2.0",
       "_model_name": "LayoutModel",
       "_view_count": null,
       "_view_module": "@jupyter-widgets/base",
       "_view_module_version": "1.2.0",
       "_view_name": "LayoutView",
       "align_content": null,
       "align_items": null,
       "align_self": null,
       "border": null,
       "bottom": null,
       "display": null,
       "flex": null,
       "flex_flow": null,
       "grid_area": null,
       "grid_auto_columns": null,
       "grid_auto_flow": null,
       "grid_auto_rows": null,
       "grid_column": null,
       "grid_gap": null,
       "grid_row": null,
       "grid_template_areas": null,
       "grid_template_columns": null,
       "grid_template_rows": null,
       "height": null,
       "justify_content": null,
       "justify_items": null,
       "left": null,
       "margin": null,
       "max_height": null,
       "max_width": null,
       "min_height": null,
       "min_width": null,
       "object_fit": null,
       "object_position": null,
       "order": null,
       "overflow": null,
       "overflow_x": null,
       "overflow_y": null,
       "padding": null,
       "right": null,
       "top": null,
       "visibility": null,
       "width": null
      }
     },
     "bcb74611eea347c89fe068217ddc59e7": {
      "model_module": "@jupyter-widgets/controls",
      "model_module_version": "1.5.0",
      "model_name": "LabelModel",
      "state": {
       "_dom_classes": [],
       "_model_module": "@jupyter-widgets/controls",
       "_model_module_version": "1.5.0",
       "_model_name": "LabelModel",
       "_view_count": null,
       "_view_module": "@jupyter-widgets/controls",
       "_view_module_version": "1.5.0",
       "_view_name": "LabelView",
       "description": "",
       "description_tooltip": null,
       "layout": "IPY_MODEL_f42042bf8beb4184b3db26898d5ecc07",
       "placeholder": "​",
       "style": "IPY_MODEL_790e243f536a4d18bc4b4b9261317bfb",
       "value": ""
      }
     },
     "beb063aa48a54314b4a529ab63fb56ce": {
      "model_module": "@jupyter-widgets/base",
      "model_module_version": "1.2.0",
      "model_name": "LayoutModel",
      "state": {
       "_model_module": "@jupyter-widgets/base",
       "_model_module_version": "1.2.0",
       "_model_name": "LayoutModel",
       "_view_count": null,
       "_view_module": "@jupyter-widgets/base",
       "_view_module_version": "1.2.0",
       "_view_name": "LayoutView",
       "align_content": null,
       "align_items": null,
       "align_self": null,
       "border": null,
       "bottom": null,
       "display": null,
       "flex": null,
       "flex_flow": null,
       "grid_area": null,
       "grid_auto_columns": null,
       "grid_auto_flow": null,
       "grid_auto_rows": null,
       "grid_column": null,
       "grid_gap": null,
       "grid_row": null,
       "grid_template_areas": null,
       "grid_template_columns": null,
       "grid_template_rows": null,
       "height": null,
       "justify_content": null,
       "justify_items": null,
       "left": null,
       "margin": null,
       "max_height": null,
       "max_width": null,
       "min_height": null,
       "min_width": null,
       "object_fit": null,
       "object_position": null,
       "order": null,
       "overflow": null,
       "overflow_x": null,
       "overflow_y": null,
       "padding": null,
       "right": null,
       "top": null,
       "visibility": null,
       "width": null
      }
     },
     "ce2b75f4199f4d5089dd772ccd13d025": {
      "model_module": "@jupyter-widgets/controls",
      "model_module_version": "1.5.0",
      "model_name": "VBoxModel",
      "state": {
       "_dom_classes": [],
       "_model_module": "@jupyter-widgets/controls",
       "_model_module_version": "1.5.0",
       "_model_name": "VBoxModel",
       "_view_count": null,
       "_view_module": "@jupyter-widgets/controls",
       "_view_module_version": "1.5.0",
       "_view_name": "VBoxView",
       "box_style": "",
       "children": [
        "IPY_MODEL_e076673deb9d4295b5db53f0288491c1",
        "IPY_MODEL_fdb96253436f4f6388b135d22b67a485"
       ],
       "layout": "IPY_MODEL_9f64eb0a31cc4caa857acdc6004eb230"
      }
     },
     "d28578f875b04ba48dde838c2b2c145d": {
      "model_module": "@jupyter-widgets/base",
      "model_module_version": "1.2.0",
      "model_name": "LayoutModel",
      "state": {
       "_model_module": "@jupyter-widgets/base",
       "_model_module_version": "1.2.0",
       "_model_name": "LayoutModel",
       "_view_count": null,
       "_view_module": "@jupyter-widgets/base",
       "_view_module_version": "1.2.0",
       "_view_name": "LayoutView",
       "align_content": null,
       "align_items": null,
       "align_self": null,
       "border": null,
       "bottom": null,
       "display": null,
       "flex": null,
       "flex_flow": null,
       "grid_area": null,
       "grid_auto_columns": null,
       "grid_auto_flow": null,
       "grid_auto_rows": null,
       "grid_column": null,
       "grid_gap": null,
       "grid_row": null,
       "grid_template_areas": null,
       "grid_template_columns": null,
       "grid_template_rows": null,
       "height": null,
       "justify_content": null,
       "justify_items": null,
       "left": null,
       "margin": null,
       "max_height": null,
       "max_width": null,
       "min_height": null,
       "min_width": null,
       "object_fit": null,
       "object_position": null,
       "order": null,
       "overflow": null,
       "overflow_x": null,
       "overflow_y": null,
       "padding": null,
       "right": null,
       "top": null,
       "visibility": null,
       "width": null
      }
     },
     "d37935fcd194432d8a0f46dc8657f915": {
      "model_module": "@jupyter-widgets/base",
      "model_module_version": "1.2.0",
      "model_name": "LayoutModel",
      "state": {
       "_model_module": "@jupyter-widgets/base",
       "_model_module_version": "1.2.0",
       "_model_name": "LayoutModel",
       "_view_count": null,
       "_view_module": "@jupyter-widgets/base",
       "_view_module_version": "1.2.0",
       "_view_name": "LayoutView",
       "align_content": null,
       "align_items": null,
       "align_self": null,
       "border": null,
       "bottom": null,
       "display": null,
       "flex": null,
       "flex_flow": null,
       "grid_area": null,
       "grid_auto_columns": null,
       "grid_auto_flow": null,
       "grid_auto_rows": null,
       "grid_column": null,
       "grid_gap": null,
       "grid_row": null,
       "grid_template_areas": null,
       "grid_template_columns": null,
       "grid_template_rows": null,
       "height": null,
       "justify_content": null,
       "justify_items": null,
       "left": null,
       "margin": null,
       "max_height": null,
       "max_width": null,
       "min_height": null,
       "min_width": null,
       "object_fit": null,
       "object_position": null,
       "order": null,
       "overflow": null,
       "overflow_x": null,
       "overflow_y": null,
       "padding": null,
       "right": null,
       "top": null,
       "visibility": null,
       "width": null
      }
     },
     "d3bdb83140eb4ce4bdf8dce6936bd8ec": {
      "model_module": "@jupyter-widgets/base",
      "model_module_version": "1.2.0",
      "model_name": "LayoutModel",
      "state": {
       "_model_module": "@jupyter-widgets/base",
       "_model_module_version": "1.2.0",
       "_model_name": "LayoutModel",
       "_view_count": null,
       "_view_module": "@jupyter-widgets/base",
       "_view_module_version": "1.2.0",
       "_view_name": "LayoutView",
       "align_content": null,
       "align_items": null,
       "align_self": null,
       "border": null,
       "bottom": null,
       "display": null,
       "flex": null,
       "flex_flow": null,
       "grid_area": null,
       "grid_auto_columns": null,
       "grid_auto_flow": null,
       "grid_auto_rows": null,
       "grid_column": null,
       "grid_gap": null,
       "grid_row": null,
       "grid_template_areas": null,
       "grid_template_columns": null,
       "grid_template_rows": null,
       "height": null,
       "justify_content": null,
       "justify_items": null,
       "left": null,
       "margin": null,
       "max_height": null,
       "max_width": null,
       "min_height": null,
       "min_width": null,
       "object_fit": null,
       "object_position": null,
       "order": null,
       "overflow": null,
       "overflow_x": null,
       "overflow_y": null,
       "padding": null,
       "right": null,
       "top": null,
       "visibility": null,
       "width": null
      }
     },
     "d6e0aa1a60cf428fa80919df5075ce41": {
      "model_module": "@jupyter-widgets/controls",
      "model_module_version": "1.5.0",
      "model_name": "ProgressStyleModel",
      "state": {
       "_model_module": "@jupyter-widgets/controls",
       "_model_module_version": "1.5.0",
       "_model_name": "ProgressStyleModel",
       "_view_count": null,
       "_view_module": "@jupyter-widgets/base",
       "_view_module_version": "1.2.0",
       "_view_name": "StyleView",
       "bar_color": null,
       "description_width": ""
      }
     },
     "daf2c23251dc48029c21cd6c6a53e9ef": {
      "model_module": "@jupyter-widgets/controls",
      "model_module_version": "1.5.0",
      "model_name": "DescriptionStyleModel",
      "state": {
       "_model_module": "@jupyter-widgets/controls",
       "_model_module_version": "1.5.0",
       "_model_name": "DescriptionStyleModel",
       "_view_count": null,
       "_view_module": "@jupyter-widgets/base",
       "_view_module_version": "1.2.0",
       "_view_name": "StyleView",
       "description_width": ""
      }
     },
     "ddffc59ce2cd4caf8f01a40a8c8f815a": {
      "model_module": "@jupyter-widgets/controls",
      "model_module_version": "1.5.0",
      "model_name": "ProgressStyleModel",
      "state": {
       "_model_module": "@jupyter-widgets/controls",
       "_model_module_version": "1.5.0",
       "_model_name": "ProgressStyleModel",
       "_view_count": null,
       "_view_module": "@jupyter-widgets/base",
       "_view_module_version": "1.2.0",
       "_view_name": "StyleView",
       "bar_color": null,
       "description_width": ""
      }
     },
     "de490487ee76490ca7c1ac6f1dd62196": {
      "model_module": "@jupyter-widgets/controls",
      "model_module_version": "1.5.0",
      "model_name": "FloatProgressModel",
      "state": {
       "_dom_classes": [],
       "_model_module": "@jupyter-widgets/controls",
       "_model_module_version": "1.5.0",
       "_model_name": "FloatProgressModel",
       "_view_count": null,
       "_view_module": "@jupyter-widgets/controls",
       "_view_module_version": "1.5.0",
       "_view_name": "ProgressView",
       "bar_style": "",
       "description": "",
       "description_tooltip": null,
       "layout": "IPY_MODEL_2e046bb885d541c8bb6c83fcd23ecf2d",
       "max": 1.0,
       "min": 0.0,
       "orientation": "horizontal",
       "style": "IPY_MODEL_eca9ee5f9de64fe2bcbc733f2d99ec53",
       "value": 0.0
      }
     },
     "ded6a1db297d44f0864daad7d80af4c6": {
      "model_module": "@jupyter-widgets/base",
      "model_module_version": "1.2.0",
      "model_name": "LayoutModel",
      "state": {
       "_model_module": "@jupyter-widgets/base",
       "_model_module_version": "1.2.0",
       "_model_name": "LayoutModel",
       "_view_count": null,
       "_view_module": "@jupyter-widgets/base",
       "_view_module_version": "1.2.0",
       "_view_name": "LayoutView",
       "align_content": null,
       "align_items": null,
       "align_self": null,
       "border": null,
       "bottom": null,
       "display": null,
       "flex": null,
       "flex_flow": null,
       "grid_area": null,
       "grid_auto_columns": null,
       "grid_auto_flow": null,
       "grid_auto_rows": null,
       "grid_column": null,
       "grid_gap": null,
       "grid_row": null,
       "grid_template_areas": null,
       "grid_template_columns": null,
       "grid_template_rows": null,
       "height": null,
       "justify_content": null,
       "justify_items": null,
       "left": null,
       "margin": null,
       "max_height": null,
       "max_width": null,
       "min_height": null,
       "min_width": null,
       "object_fit": null,
       "object_position": null,
       "order": null,
       "overflow": null,
       "overflow_x": null,
       "overflow_y": null,
       "padding": null,
       "right": null,
       "top": null,
       "visibility": null,
       "width": null
      }
     },
     "e076673deb9d4295b5db53f0288491c1": {
      "model_module": "@jupyter-widgets/controls",
      "model_module_version": "1.5.0",
      "model_name": "LabelModel",
      "state": {
       "_dom_classes": [],
       "_model_module": "@jupyter-widgets/controls",
       "_model_module_version": "1.5.0",
       "_model_name": "LabelModel",
       "_view_count": null,
       "_view_module": "@jupyter-widgets/controls",
       "_view_module_version": "1.5.0",
       "_view_name": "LabelView",
       "description": "",
       "description_tooltip": null,
       "layout": "IPY_MODEL_5f9201db1f524d4b9e08fe71116ad0c9",
       "placeholder": "​",
       "style": "IPY_MODEL_ab77407a26a046eb8b7a5713fcf8ff47",
       "value": ""
      }
     },
     "e6a7d403df1c4ecca9d6f573e80eaaec": {
      "model_module": "@jupyter-widgets/controls",
      "model_module_version": "1.5.0",
      "model_name": "DescriptionStyleModel",
      "state": {
       "_model_module": "@jupyter-widgets/controls",
       "_model_module_version": "1.5.0",
       "_model_name": "DescriptionStyleModel",
       "_view_count": null,
       "_view_module": "@jupyter-widgets/base",
       "_view_module_version": "1.2.0",
       "_view_name": "StyleView",
       "description_width": ""
      }
     },
     "e8713070f14b44efb133da833b43684a": {
      "model_module": "@jupyter-widgets/base",
      "model_module_version": "1.2.0",
      "model_name": "LayoutModel",
      "state": {
       "_model_module": "@jupyter-widgets/base",
       "_model_module_version": "1.2.0",
       "_model_name": "LayoutModel",
       "_view_count": null,
       "_view_module": "@jupyter-widgets/base",
       "_view_module_version": "1.2.0",
       "_view_name": "LayoutView",
       "align_content": null,
       "align_items": null,
       "align_self": null,
       "border": null,
       "bottom": null,
       "display": null,
       "flex": null,
       "flex_flow": null,
       "grid_area": null,
       "grid_auto_columns": null,
       "grid_auto_flow": null,
       "grid_auto_rows": null,
       "grid_column": null,
       "grid_gap": null,
       "grid_row": null,
       "grid_template_areas": null,
       "grid_template_columns": null,
       "grid_template_rows": null,
       "height": null,
       "justify_content": null,
       "justify_items": null,
       "left": null,
       "margin": null,
       "max_height": null,
       "max_width": null,
       "min_height": null,
       "min_width": null,
       "object_fit": null,
       "object_position": null,
       "order": null,
       "overflow": null,
       "overflow_x": null,
       "overflow_y": null,
       "padding": null,
       "right": null,
       "top": null,
       "visibility": null,
       "width": null
      }
     },
     "e8f747094edd4fbaa1860d5759e94fa7": {
      "model_module": "@jupyter-widgets/controls",
      "model_module_version": "1.5.0",
      "model_name": "LabelModel",
      "state": {
       "_dom_classes": [],
       "_model_module": "@jupyter-widgets/controls",
       "_model_module_version": "1.5.0",
       "_model_name": "LabelModel",
       "_view_count": null,
       "_view_module": "@jupyter-widgets/controls",
       "_view_module_version": "1.5.0",
       "_view_name": "LabelView",
       "description": "",
       "description_tooltip": null,
       "layout": "IPY_MODEL_9a052da6d43d49c6b448a5ddf00c7c20",
       "placeholder": "​",
       "style": "IPY_MODEL_fc594b8634f64d828bdaadb31e8b0dcc",
       "value": ""
      }
     },
     "eca9ee5f9de64fe2bcbc733f2d99ec53": {
      "model_module": "@jupyter-widgets/controls",
      "model_module_version": "1.5.0",
      "model_name": "ProgressStyleModel",
      "state": {
       "_model_module": "@jupyter-widgets/controls",
       "_model_module_version": "1.5.0",
       "_model_name": "ProgressStyleModel",
       "_view_count": null,
       "_view_module": "@jupyter-widgets/base",
       "_view_module_version": "1.2.0",
       "_view_name": "StyleView",
       "bar_color": null,
       "description_width": ""
      }
     },
     "eec0df77c4a64ccc99df30041041cb9c": {
      "model_module": "@jupyter-widgets/base",
      "model_module_version": "1.2.0",
      "model_name": "LayoutModel",
      "state": {
       "_model_module": "@jupyter-widgets/base",
       "_model_module_version": "1.2.0",
       "_model_name": "LayoutModel",
       "_view_count": null,
       "_view_module": "@jupyter-widgets/base",
       "_view_module_version": "1.2.0",
       "_view_name": "LayoutView",
       "align_content": null,
       "align_items": null,
       "align_self": null,
       "border": null,
       "bottom": null,
       "display": null,
       "flex": null,
       "flex_flow": null,
       "grid_area": null,
       "grid_auto_columns": null,
       "grid_auto_flow": null,
       "grid_auto_rows": null,
       "grid_column": null,
       "grid_gap": null,
       "grid_row": null,
       "grid_template_areas": null,
       "grid_template_columns": null,
       "grid_template_rows": null,
       "height": null,
       "justify_content": null,
       "justify_items": null,
       "left": null,
       "margin": null,
       "max_height": null,
       "max_width": null,
       "min_height": null,
       "min_width": null,
       "object_fit": null,
       "object_position": null,
       "order": null,
       "overflow": null,
       "overflow_x": null,
       "overflow_y": null,
       "padding": null,
       "right": null,
       "top": null,
       "visibility": null,
       "width": null
      }
     },
     "ef6011f6faf44552b8730823b15ad440": {
      "model_module": "@jupyter-widgets/controls",
      "model_module_version": "1.5.0",
      "model_name": "FloatProgressModel",
      "state": {
       "_dom_classes": [],
       "_model_module": "@jupyter-widgets/controls",
       "_model_module_version": "1.5.0",
       "_model_name": "FloatProgressModel",
       "_view_count": null,
       "_view_module": "@jupyter-widgets/controls",
       "_view_module_version": "1.5.0",
       "_view_name": "ProgressView",
       "bar_style": "",
       "description": "",
       "description_tooltip": null,
       "layout": "IPY_MODEL_439d23ca99a54880aa0686d1e8023f39",
       "max": 1.0,
       "min": 0.0,
       "orientation": "horizontal",
       "style": "IPY_MODEL_acbae8a3c5224f379c0249da902c71e4",
       "value": 1.0
      }
     },
     "f3e9c89beb8545b18fd1dbde223fe5c0": {
      "model_module": "@jupyter-widgets/controls",
      "model_module_version": "1.5.0",
      "model_name": "VBoxModel",
      "state": {
       "_dom_classes": [],
       "_model_module": "@jupyter-widgets/controls",
       "_model_module_version": "1.5.0",
       "_model_name": "VBoxModel",
       "_view_count": null,
       "_view_module": "@jupyter-widgets/controls",
       "_view_module_version": "1.5.0",
       "_view_name": "VBoxView",
       "box_style": "",
       "children": [
        "IPY_MODEL_59ce195ec9894b09829ed4726ffc3a66",
        "IPY_MODEL_0c7f54426daa454993bc0644b7f7b432"
       ],
       "layout": "IPY_MODEL_141edd6a387940aa9cc00e4da89aef13"
      }
     },
     "f42042bf8beb4184b3db26898d5ecc07": {
      "model_module": "@jupyter-widgets/base",
      "model_module_version": "1.2.0",
      "model_name": "LayoutModel",
      "state": {
       "_model_module": "@jupyter-widgets/base",
       "_model_module_version": "1.2.0",
       "_model_name": "LayoutModel",
       "_view_count": null,
       "_view_module": "@jupyter-widgets/base",
       "_view_module_version": "1.2.0",
       "_view_name": "LayoutView",
       "align_content": null,
       "align_items": null,
       "align_self": null,
       "border": null,
       "bottom": null,
       "display": null,
       "flex": null,
       "flex_flow": null,
       "grid_area": null,
       "grid_auto_columns": null,
       "grid_auto_flow": null,
       "grid_auto_rows": null,
       "grid_column": null,
       "grid_gap": null,
       "grid_row": null,
       "grid_template_areas": null,
       "grid_template_columns": null,
       "grid_template_rows": null,
       "height": null,
       "justify_content": null,
       "justify_items": null,
       "left": null,
       "margin": null,
       "max_height": null,
       "max_width": null,
       "min_height": null,
       "min_width": null,
       "object_fit": null,
       "object_position": null,
       "order": null,
       "overflow": null,
       "overflow_x": null,
       "overflow_y": null,
       "padding": null,
       "right": null,
       "top": null,
       "visibility": null,
       "width": null
      }
     },
     "f90db0eccd3743faaca74915bf99d377": {
      "model_module": "@jupyter-widgets/controls",
      "model_module_version": "1.5.0",
      "model_name": "LabelModel",
      "state": {
       "_dom_classes": [],
       "_model_module": "@jupyter-widgets/controls",
       "_model_module_version": "1.5.0",
       "_model_name": "LabelModel",
       "_view_count": null,
       "_view_module": "@jupyter-widgets/controls",
       "_view_module_version": "1.5.0",
       "_view_name": "LabelView",
       "description": "",
       "description_tooltip": null,
       "layout": "IPY_MODEL_d37935fcd194432d8a0f46dc8657f915",
       "placeholder": "​",
       "style": "IPY_MODEL_40ce157cb2bf4bcb809ff39d9dcab274",
       "value": "0.027 MB of 0.027 MB uploaded (0.000 MB deduped)\r"
      }
     },
     "fc594b8634f64d828bdaadb31e8b0dcc": {
      "model_module": "@jupyter-widgets/controls",
      "model_module_version": "1.5.0",
      "model_name": "DescriptionStyleModel",
      "state": {
       "_model_module": "@jupyter-widgets/controls",
       "_model_module_version": "1.5.0",
       "_model_name": "DescriptionStyleModel",
       "_view_count": null,
       "_view_module": "@jupyter-widgets/base",
       "_view_module_version": "1.2.0",
       "_view_name": "StyleView",
       "description_width": ""
      }
     },
     "fdb96253436f4f6388b135d22b67a485": {
      "model_module": "@jupyter-widgets/controls",
      "model_module_version": "1.5.0",
      "model_name": "FloatProgressModel",
      "state": {
       "_dom_classes": [],
       "_model_module": "@jupyter-widgets/controls",
       "_model_module_version": "1.5.0",
       "_model_name": "FloatProgressModel",
       "_view_count": null,
       "_view_module": "@jupyter-widgets/controls",
       "_view_module_version": "1.5.0",
       "_view_name": "ProgressView",
       "bar_style": "",
       "description": "",
       "description_tooltip": null,
       "layout": "IPY_MODEL_7933b43daa104bc395c0f402e78f4540",
       "max": 1.0,
       "min": 0.0,
       "orientation": "horizontal",
       "style": "IPY_MODEL_9ae6e19862b5461790ceb420166393df",
       "value": 0.0
      }
     }
    },
    "version_major": 2,
    "version_minor": 0
   }
  }
 },
 "nbformat": 4,
 "nbformat_minor": 5
}
